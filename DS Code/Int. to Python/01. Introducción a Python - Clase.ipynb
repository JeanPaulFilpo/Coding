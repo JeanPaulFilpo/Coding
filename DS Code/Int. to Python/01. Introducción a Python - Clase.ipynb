{
 "cells": [
  {
   "cell_type": "markdown",
   "id": "e2972451",
   "metadata": {},
   "source": [
    "# Clase 2023-11-09"
   ]
  },
  {
   "cell_type": "code",
   "execution_count": 12,
   "id": "4d1d4cf0",
   "metadata": {},
   "outputs": [],
   "source": [
    "nombre = 'Jean Paul'\n",
    "sector = 'El Dorado'\n",
    "tiempo = '1 año'"
   ]
  },
  {
   "cell_type": "code",
   "execution_count": 16,
   "id": "634c7c2f",
   "metadata": {},
   "outputs": [
    {
     "name": "stdout",
     "output_type": "stream",
     "text": [
      "Mi nombre es Jean Paul, vivo en el sector El Dorado y he residido aquí por 1 año\n"
     ]
    }
   ],
   "source": [
    "print(\"Mi nombre es {}, vivo en el sector {} y he residido aquí por {}\".format(nombre,sector, tiempo))"
   ]
  },
  {
   "cell_type": "code",
   "execution_count": 17,
   "id": "46319493",
   "metadata": {},
   "outputs": [
    {
     "data": {
      "text/plain": [
       "list"
      ]
     },
     "execution_count": 17,
     "metadata": {},
     "output_type": "execute_result"
    }
   ],
   "source": [
    "type([1,2,3])"
   ]
  },
  {
   "cell_type": "code",
   "execution_count": 19,
   "id": "70a4e08e",
   "metadata": {},
   "outputs": [],
   "source": [
    "lista = [1,2,3,4,5]"
   ]
  },
  {
   "cell_type": "code",
   "execution_count": 29,
   "id": "7c95e82c",
   "metadata": {},
   "outputs": [],
   "source": [
    "lista[0] = 'x'"
   ]
  },
  {
   "cell_type": "code",
   "execution_count": 34,
   "id": "d5f19623",
   "metadata": {},
   "outputs": [],
   "source": [
    "lista.append('6')"
   ]
  },
  {
   "cell_type": "code",
   "execution_count": 35,
   "id": "25e6d694",
   "metadata": {},
   "outputs": [
    {
     "data": {
      "text/plain": [
       "['x', 2, 3, 4, 5, '6', '6']"
      ]
     },
     "execution_count": 35,
     "metadata": {},
     "output_type": "execute_result"
    }
   ],
   "source": [
    "lista"
   ]
  },
  {
   "cell_type": "code",
   "execution_count": 43,
   "id": "ecfa211a",
   "metadata": {},
   "outputs": [],
   "source": [
    "lista_nueva = ['hola', 1, [4,6], 5,6,8,9]"
   ]
  },
  {
   "cell_type": "code",
   "execution_count": 44,
   "id": "0755a1a5",
   "metadata": {},
   "outputs": [
    {
     "data": {
      "text/plain": [
       "4"
      ]
     },
     "execution_count": 44,
     "metadata": {},
     "output_type": "execute_result"
    }
   ],
   "source": [
    "lista_nueva[2][0]"
   ]
  },
  {
   "cell_type": "code",
   "execution_count": 45,
   "id": "bd541730",
   "metadata": {},
   "outputs": [],
   "source": [
    "lista_anidada = [1,2,3,[4,5,['target']]]"
   ]
  },
  {
   "cell_type": "code",
   "execution_count": 50,
   "id": "23838521",
   "metadata": {},
   "outputs": [
    {
     "data": {
      "text/plain": [
       "'target'"
      ]
     },
     "execution_count": 50,
     "metadata": {},
     "output_type": "execute_result"
    }
   ],
   "source": [
    "lista_anidada[3][2][0]"
   ]
  },
  {
   "cell_type": "code",
   "execution_count": 51,
   "id": "834a3490",
   "metadata": {},
   "outputs": [
    {
     "data": {
      "text/plain": [
       "'c'"
      ]
     },
     "execution_count": 51,
     "metadata": {},
     "output_type": "execute_result"
    }
   ],
   "source": [
    "mi_lista_ejercicio = [5,8,['a','b','c']]\n",
    "mi_lista_ejercicio[2][2]"
   ]
  },
  {
   "cell_type": "code",
   "execution_count": 52,
   "id": "ab38bd3b",
   "metadata": {},
   "outputs": [],
   "source": [
    "mi_dict = {'uno':1, 'dos':2, 'tres':3}"
   ]
  },
  {
   "cell_type": "code",
   "execution_count": 59,
   "id": "eb2541e9",
   "metadata": {},
   "outputs": [],
   "source": [
    "d2 = {'productos':['a','b','c','d','e'],\n",
    "     'color': ['rojo','naranja','azul','negro','blanco']}"
   ]
  },
  {
   "cell_type": "code",
   "execution_count": 63,
   "id": "7015bb88",
   "metadata": {},
   "outputs": [
    {
     "data": {
      "text/plain": [
       "'azul'"
      ]
     },
     "execution_count": 63,
     "metadata": {},
     "output_type": "execute_result"
    }
   ],
   "source": [
    "d2['color'][2]"
   ]
  },
  {
   "cell_type": "code",
   "execution_count": 65,
   "id": "c8a0ecbc",
   "metadata": {},
   "outputs": [],
   "source": [
    "mi_diccionario_ejercicio = {'llave1':[7,'X'],\n",
    "                           'llave2':[5,7],\n",
    "                           'llave3':['H',3]}"
   ]
  },
  {
   "cell_type": "code",
   "execution_count": 67,
   "id": "2d543698",
   "metadata": {},
   "outputs": [
    {
     "data": {
      "text/plain": [
       "3"
      ]
     },
     "execution_count": 67,
     "metadata": {},
     "output_type": "execute_result"
    }
   ],
   "source": [
    "mi_diccionario_ejercicio['llave3'][1]"
   ]
  },
  {
   "cell_type": "code",
   "execution_count": 68,
   "id": "fcd11773",
   "metadata": {},
   "outputs": [
    {
     "data": {
      "text/plain": [
       "False"
      ]
     },
     "execution_count": 68,
     "metadata": {},
     "output_type": "execute_result"
    }
   ],
   "source": [
    "'1' == 1"
   ]
  },
  {
   "cell_type": "code",
   "execution_count": 70,
   "id": "a9241930",
   "metadata": {},
   "outputs": [],
   "source": [
    "nombre = 'Arturo'"
   ]
  },
  {
   "cell_type": "code",
   "execution_count": 72,
   "id": "58c83cfe",
   "metadata": {},
   "outputs": [
    {
     "data": {
      "text/plain": [
       "'Prturo'"
      ]
     },
     "execution_count": 72,
     "metadata": {},
     "output_type": "execute_result"
    }
   ],
   "source": [
    "nombre.replace('A','P')"
   ]
  },
  {
   "cell_type": "markdown",
   "id": "ecac589c",
   "metadata": {},
   "source": [
    "# Clase 2023-11-10"
   ]
  },
  {
   "cell_type": "code",
   "execution_count": 3,
   "id": "a5c4edac",
   "metadata": {},
   "outputs": [
    {
     "name": "stdout",
     "output_type": "stream",
     "text": [
      "5\n",
      "4\n",
      "3\n",
      "2\n",
      "1\n"
     ]
    }
   ],
   "source": [
    "mi_lista = [1,2,3,4,5]\n",
    "for x in mi_lista:\n",
    "    print(6-x)"
   ]
  },
  {
   "cell_type": "code",
   "execution_count": 7,
   "id": "b3c9af07",
   "metadata": {},
   "outputs": [
    {
     "name": "stdout",
     "output_type": "stream",
     "text": [
      "H\n",
      "o\n",
      "l\n",
      "a\n",
      ",\n",
      "m\n",
      "u\n",
      "n\n",
      "d\n",
      "o\n",
      "!\n"
     ]
    }
   ],
   "source": [
    "mi_texto = 'Hola, mundo!'\n",
    "for t in mi_texto:\n",
    "    if t!=' ':\n",
    "        print(t)"
   ]
  },
  {
   "cell_type": "code",
   "execution_count": 9,
   "id": "1729178e",
   "metadata": {},
   "outputs": [
    {
     "name": "stdout",
     "output_type": "stream",
     "text": [
      "88.8\n"
     ]
    }
   ],
   "source": [
    "calificaciones = [85,90,78,92,99]\n",
    "\n",
    "suma_calificaciones = 0\n",
    "estudiantes = 0\n",
    "\n",
    "for cal in calificaciones:\n",
    "    suma_calificaciones +=cal\n",
    "    estudiantes +=1\n",
    "    \n",
    "promedio = suma_calificaciones/estudiantes\n",
    "print(promedio)"
   ]
  },
  {
   "cell_type": "code",
   "execution_count": 11,
   "id": "4c5577b6",
   "metadata": {},
   "outputs": [
    {
     "name": "stdout",
     "output_type": "stream",
     "text": [
      "El dia 1 de la semana es Lunes\n",
      "El dia 2 de la semana es Martes\n",
      "El dia 3 de la semana es Miercoles\n",
      "El dia 4 de la semana es Jueves\n",
      "El dia 5 de la semana es Viernes\n",
      "El dia 6 de la semana es Sabado\n",
      "El dia 7 de la semana es Domingo\n"
     ]
    }
   ],
   "source": [
    "dias = ['Lunes', 'Martes', 'Miercoles','Jueves', 'Viernes', 'Sabado', 'Domingo']\n",
    "\n",
    "numero = 0\n",
    "\n",
    "for dia in dias:\n",
    "    numero +=1\n",
    "    print(f'El dia {numero} de la semana es {dia}')"
   ]
  },
  {
   "cell_type": "code",
   "execution_count": 13,
   "id": "3d1ec5ef",
   "metadata": {},
   "outputs": [
    {
     "name": "stdout",
     "output_type": "stream",
     "text": [
      "La letra a está en mi nombre.\n",
      "La letra b no está en mi nombre.\n",
      "La letra c no está en mi nombre.\n",
      "La letra d no está en mi nombre.\n",
      "La letra e está en mi nombre.\n"
     ]
    },
    {
     "data": {
      "text/plain": [
       "['a', 'e']"
      ]
     },
     "execution_count": 13,
     "metadata": {},
     "output_type": "execute_result"
    }
   ],
   "source": [
    "lista_nueva = ['a','b','c','d','e']\n",
    "mi_nombre = 'jean paul'\n",
    "letras = []\n",
    "for letra in lista_nueva:\n",
    "    if letra in mi_nombre:\n",
    "        print(f'La letra {letra} está en mi nombre.')\n",
    "        letras.append(letra)\n",
    "    else:\n",
    "        print(f'La letra {letra} no está en mi nombre.')\n",
    "letras"
   ]
  },
  {
   "cell_type": "code",
   "execution_count": 14,
   "id": "f7e1c405",
   "metadata": {},
   "outputs": [
    {
     "name": "stdout",
     "output_type": "stream",
     "text": [
      "1\n",
      "2\n",
      "3\n",
      "4\n"
     ]
    }
   ],
   "source": [
    "i = 1\n",
    "\n",
    "while i<5:\n",
    "    print(i)\n",
    "    i +=1"
   ]
  },
  {
   "cell_type": "code",
   "execution_count": 15,
   "id": "44c8549e",
   "metadata": {},
   "outputs": [
    {
     "name": "stdout",
     "output_type": "stream",
     "text": [
      "Al final de la semana 1 tendré ahorrado 70.\n",
      "Al final de la semana 2 tendré ahorrado 90.\n",
      "Al final de la semana 3 tendré ahorrado 110.\n",
      "Al final de la semana 4 tendré ahorrado 130.\n",
      "Al final de la semana 5 tendré ahorrado 150.\n",
      "Al final de la semana 6 tendré ahorrado 170.\n",
      "Al final de la semana 7 tendré ahorrado 190.\n",
      "Al final de la semana 8 tendré ahorrado 210.\n",
      "Al final de la semana 9 tendré ahorrado 230.\n",
      "Al final de la semana 10 tendré ahorrado 250.\n",
      "Al final de la semana 11 tendré ahorrado 270.\n",
      "Al final de la semana 12 tendré ahorrado 290.\n",
      "Al final de la semana 13 tendré ahorrado 310.\n",
      "Al final de la semana 14 tendré ahorrado 330.\n",
      "Al final de la semana 15 tendré ahorrado 350.\n",
      "Al final de la semana 16 tendré ahorrado 370.\n",
      "Al final de la semana 17 tendré ahorrado 390.\n",
      "Al final de la semana 18 tendré ahorrado 410.\n",
      "Al final de la semana 19 tendré ahorrado 430.\n",
      "Al final de la semana 20 tendré ahorrado 450.\n",
      "Al final de la semana 21 tendré ahorrado 470.\n",
      "Al final de la semana 22 tendré ahorrado 490.\n",
      "Al final de la semana 23 tendré ahorrado 510.\n",
      "Al final de la semana 24 tendré ahorrado 530.\n",
      "Al final de la semana 25 tendré ahorrado 550.\n",
      "Al final de la semana 26 tendré ahorrado 570.\n",
      "Al final de la semana 27 tendré ahorrado 590.\n",
      "Al final de la semana 28 tendré ahorrado 610.\n",
      "Al final de la semana 29 tendré ahorrado 630.\n",
      "Al final de la semana 30 tendré ahorrado 650.\n",
      "Al final de la semana 31 tendré ahorrado 670.\n",
      "Al final de la semana 32 tendré ahorrado 690.\n",
      "Al final de la semana 33 tendré ahorrado 710.\n",
      "Al final de la semana 34 tendré ahorrado 730.\n",
      "Al final de la semana 35 tendré ahorrado 750.\n",
      "Al final de la semana 36 tendré ahorrado 770.\n",
      "Al final de la semana 37 tendré ahorrado 790.\n",
      "Al final de la semana 38 tendré ahorrado 810.\n",
      "Al final de la semana 39 tendré ahorrado 830.\n",
      "Al final de la semana 40 tendré ahorrado 850.\n",
      "Al final de la semana 41 tendré ahorrado 870.\n",
      "Al final de la semana 42 tendré ahorrado 890.\n",
      "Al final de la semana 43 tendré ahorrado 910.\n",
      "Al final de la semana 44 tendré ahorrado 930.\n",
      "Al final de la semana 45 tendré ahorrado 950.\n",
      "Al final de la semana 46 tendré ahorrado 970.\n",
      "Al final de la semana 47 tendré ahorrado 990.\n",
      "Al final de la semana 48 tendré ahorrado 1010.\n"
     ]
    }
   ],
   "source": [
    "meta_ahorro = 1000\n",
    "dinero_actual = 50\n",
    "ahorro_semanal = 20\n",
    "semana = 0\n",
    "\n",
    "while(dinero_actual < meta_ahorro):\n",
    "    dinero_actual += ahorro_semanal\n",
    "    semana +=1\n",
    "    print(f'Al final de la semana {semana} tendré ahorrado {dinero_actual}.')"
   ]
  },
  {
   "cell_type": "code",
   "execution_count": 16,
   "id": "5568054b",
   "metadata": {},
   "outputs": [
    {
     "name": "stdout",
     "output_type": "stream",
     "text": [
      "Bienvenido al evento, tu código es: 1.\n",
      "Bienvenido al evento, tu código es: 2.\n",
      "Bienvenido al evento, tu código es: 3.\n",
      "Bienvenido al evento, tu código es: 4.\n",
      "Bienvenido al evento, tu código es: 5.\n",
      "Bienvenido al evento, tu código es: 6.\n",
      "Bienvenido al evento, tu código es: 7.\n",
      "Bienvenido al evento, tu código es: 8.\n",
      "Bienvenido al evento, tu código es: 9.\n",
      "Bienvenido al evento, tu código es: 10.\n",
      "Bienvenido al evento, tu código es: 11.\n",
      "Bienvenido al evento, tu código es: 12.\n",
      "Bienvenido al evento, tu código es: 13.\n",
      "Bienvenido al evento, tu código es: 14.\n",
      "Bienvenido al evento, tu código es: 15.\n",
      "Bienvenido al evento, tu código es: 16.\n",
      "Bienvenido al evento, tu código es: 17.\n",
      "Bienvenido al evento, tu código es: 18.\n",
      "Bienvenido al evento, tu código es: 19.\n",
      "Bienvenido al evento, tu código es: 20.\n",
      "Bienvenido al evento, tu código es: 21.\n",
      "Bienvenido al evento, tu código es: 22.\n",
      "Bienvenido al evento, tu código es: 23.\n",
      "Bienvenido al evento, tu código es: 24.\n",
      "Bienvenido al evento, tu código es: 25.\n"
     ]
    }
   ],
   "source": [
    "num_participantes = 25\n",
    "\n",
    "for participante in range(1, num_participantes + 1):\n",
    "    print(f'Bienvenido al evento, tu código es: {participante}.')"
   ]
  },
  {
   "cell_type": "code",
   "execution_count": 20,
   "id": "18143baf",
   "metadata": {},
   "outputs": [
    {
     "data": {
      "text/plain": [
       "[1, 2, 3, 4]"
      ]
     },
     "execution_count": 20,
     "metadata": {},
     "output_type": "execute_result"
    }
   ],
   "source": [
    "lista = [i for i in range(1,5)]\n",
    "lista"
   ]
  },
  {
   "cell_type": "code",
   "execution_count": 21,
   "id": "2973d877",
   "metadata": {},
   "outputs": [],
   "source": [
    "oracion = 'Hola, mi nombre es Jean Paul'"
   ]
  },
  {
   "cell_type": "code",
   "execution_count": 38,
   "id": "e6fb6706",
   "metadata": {},
   "outputs": [
    {
     "data": {
      "text/plain": [
       "'HOLA, MI NOMBRE ES JEAN PAUL'"
      ]
     },
     "execution_count": 38,
     "metadata": {},
     "output_type": "execute_result"
    }
   ],
   "source": [
    "oracion.upper()"
   ]
  },
  {
   "cell_type": "code",
   "execution_count": 46,
   "id": "cda04f17",
   "metadata": {},
   "outputs": [
    {
     "data": {
      "text/plain": [
       "['jeanpaulfilpo', 'gmail.com']"
      ]
     },
     "execution_count": 46,
     "metadata": {},
     "output_type": "execute_result"
    }
   ],
   "source": [
    "email = 'jeanpaulfilpo@gmail.com'\n",
    "email.split('@')"
   ]
  },
  {
   "cell_type": "code",
   "execution_count": 47,
   "id": "9baa566f",
   "metadata": {},
   "outputs": [
    {
     "data": {
      "text/plain": [
       "'Hola, mi nombre es Jean Pablo'"
      ]
     },
     "execution_count": 47,
     "metadata": {},
     "output_type": "execute_result"
    }
   ],
   "source": [
    "oracion.replace('Paul', 'Pablo')"
   ]
  },
  {
   "cell_type": "code",
   "execution_count": 49,
   "id": "b17bf6fa",
   "metadata": {},
   "outputs": [
    {
     "name": "stdout",
     "output_type": "stream",
     "text": [
      "1\n",
      "2\n",
      "Fizz\n",
      "4\n",
      "Buzz\n",
      "Fizz\n",
      "7\n",
      "8\n",
      "Fizz\n",
      "Buzz\n",
      "11\n",
      "Fizz\n",
      "13\n",
      "14\n",
      "FizzBuzz\n",
      "16\n",
      "17\n",
      "Fizz\n",
      "19\n",
      "Buzz\n"
     ]
    }
   ],
   "source": [
    "for i in range(1,21):\n",
    "    if i%3 ==0 and i%5==0:\n",
    "        print('FizzBuzz')\n",
    "    elif i%5 == 0:\n",
    "        print('Buzz')\n",
    "    elif i%3 ==0:\n",
    "        print('Fizz')\n",
    "    else:\n",
    "        print(i)"
   ]
  }
 ],
 "metadata": {
  "kernelspec": {
   "display_name": "Python 3 (ipykernel)",
   "language": "python",
   "name": "python3"
  },
  "language_info": {
   "codemirror_mode": {
    "name": "ipython",
    "version": 3
   },
   "file_extension": ".py",
   "mimetype": "text/x-python",
   "name": "python",
   "nbconvert_exporter": "python",
   "pygments_lexer": "ipython3",
   "version": "3.10.9"
  }
 },
 "nbformat": 4,
 "nbformat_minor": 5
}
