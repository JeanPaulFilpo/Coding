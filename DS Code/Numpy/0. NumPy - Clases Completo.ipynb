{
 "cells": [
  {
   "cell_type": "markdown",
   "metadata": {},
   "source": [
    "# Manipulación de Datos con Numpy"
   ]
  },
  {
   "cell_type": "markdown",
   "metadata": {},
   "source": [
    "- Python viene con muchas [Funciones integradas](https://docs.python.org/3/library/functions.html)\n",
    "    - Por ejemplo: print, type, range, etc\n",
    "- Pero **la mayor parte de la funcionalidad que se necesita en el día a día no está** en Python base.\n",
    "\n",
    "\n",
    "- Podemos **descargar otras colecciones de funciones y clases, llamadas Paquetes** (A.K.A. Librería A.K.A Modulos)\n",
    "    - Python tiene un índice de paquetes (PyPi) que es básicamente como una tienda de aplicaciones para Python. \n",
    "\n",
    "    - En una celda de código, podemos instalar cualquier paquete PyPi que necesitemos usando:\n",
    "        - `!pip <package name>`"
   ]
  },
  {
   "cell_type": "markdown",
   "metadata": {},
   "source": [
    "# NumPy \n",
    "\n",
    "NumPy (o Numpy) es una biblioteca de álgebra lineal para Python, la razón por la que es tan importante para la ciencia de datos con Python es que casi todas las bibliotecas del ecosistema PyData se basan en NumPy como uno de sus principales componentes básicos.\n",
    "\n",
    "Numpy también es increíblemente rápido, ya que tiene enlaces a bibliotecas C. Para obtener más información sobre por qué querría usar Arrays en lugar de listas, consulte esta excelente [StackOverflow post](http://stackoverflow.com/questions/993984/why-numpy-instead-of-python-lists).\n",
    "\n",
    "Solo aprenderemos los conceptos básicos de NumPy, ¡para comenzar necesitamos instalarlo!"
   ]
  },
  {
   "cell_type": "markdown",
   "metadata": {},
   "source": [
    "\n",
    "## Instrucciones de instalación\n",
    "\n",
    "**Se recomienda encarecidamente que instale Python utilizando la distribución de Anaconda para asegurarse de que todas las dependencias subyacentes (como las bibliotecas de Álgebra lineal) se sincronicen con el uso de una instalación de conda. Si tiene Anaconda, instale NumPy yendo a su terminal o símbolo del sistema y escribiendo:**\n",
    "    \n",
    "    conda install numpy\n",
    "    \n",
    "**Si no tiene Anaconda y no puede instalarlo, consulte [Numpy's official documentation on various installation instructions.](http://docs.scipy.org/doc/numpy-1.10.1/user/install.html)**"
   ]
  },
  {
   "cell_type": "markdown",
   "metadata": {
    "id": "rl-ffvnOJ_iR"
   },
   "source": [
    "- Cuando importamos un paquete, podemos simplemente importarlo con su nombre completo. \n",
    "```python\n",
    "import numpy\n",
    "```\n",
    "\n",
    "- También podemos darle un alias/identificador (un apodo corto)\n",
    "```python\n",
    "import numpy as np\n",
    "```"
   ]
  },
  {
   "cell_type": "code",
   "execution_count": 1,
   "metadata": {},
   "outputs": [],
   "source": [
    "import numpy as np"
   ]
  },
  {
   "cell_type": "markdown",
   "metadata": {
    "id": "TVX7dlNFKpMK"
   },
   "source": [
    "### Submodulos"
   ]
  },
  {
   "cell_type": "markdown",
   "metadata": {
    "id": "l4te96IuKqap"
   },
   "source": [
    "- Los paquetes pueden estar hechos de piezas más pequeñas llamadas submódulos. \n",
    "    - Los submódulos permiten que las funciones se organicen de manera útil.\n",
    "    - Numpy tiene un submódulo llamado `np.random` que contiene funciones relacionadas con la generación o selección de datos en función de la probabilidad aleatoria.\n"
   ]
  },
  {
   "cell_type": "markdown",
   "metadata": {},
   "source": [
    "\n",
    "## Usando NumPy\n"
   ]
  },
  {
   "cell_type": "code",
   "execution_count": 2,
   "metadata": {},
   "outputs": [
    {
     "data": {
      "text/plain": [
       "<module 'numpy.random' from 'C:\\\\Users\\\\gilbe\\\\Anaconda3\\\\lib\\\\site-packages\\\\numpy\\\\random\\\\__init__.py'>"
      ]
     },
     "execution_count": 2,
     "metadata": {},
     "output_type": "execute_result"
    }
   ],
   "source": [
    "# muestra el modulo\n",
    "np.random"
   ]
  },
  {
   "cell_type": "code",
   "execution_count": 3,
   "metadata": {},
   "outputs": [
    {
     "data": {
      "text/plain": [
       "'Filet Mignon'"
      ]
     },
     "execution_count": 3,
     "metadata": {},
     "output_type": "execute_result"
    }
   ],
   "source": [
    "## ¿No puedes elegir una opción de cena? ¡Deja que numpy lo haga!\n",
    "opciones_cena = ['Hamburguesa', 'Pollo', 'Lasaña', 'Filet Mignon']\n",
    "np.random.choice(opciones_cena)"
   ]
  },
  {
   "cell_type": "markdown",
   "metadata": {
    "id": "8ymQlYpiN-HM"
   },
   "source": [
    "# ¿Por qué NumPy?"
   ]
  },
  {
   "cell_type": "markdown",
   "metadata": {
    "id": "coBbGY-COJr4"
   },
   "source": [
    "- Las listas y tuplas de Python no son eficientes con grandes cantidades de datos.\n",
    "- El álgebra lineal tiene muchas manipulaciones matemáticas útiles que podemos usar.\n",
    "- Necesitamos una forma de almacenar nuestros datos de forma lineal organizada.\n",
    ">- La solución: matrices numpy!\n",
    "\n",
    "También, Intentar multiplicar dos listas juntas da lugar a un error y revela una debilidad crítica de las listas: **Las listas no pueden manejar cálculos.**"
   ]
  },
  {
   "cell_type": "code",
   "execution_count": 9,
   "metadata": {},
   "outputs": [],
   "source": [
    "cantidad = [17, 40, 1]\n",
    "precio = [2, 1, 10]"
   ]
  },
  {
   "cell_type": "markdown",
   "metadata": {},
   "source": [
    "Si quisiera saber el monto total vendido, un calculo natural sería la multiplicacion del precio por la cantidad."
   ]
  },
  {
   "cell_type": "code",
   "execution_count": 10,
   "metadata": {},
   "outputs": [
    {
     "ename": "TypeError",
     "evalue": "can't multiply sequence by non-int of type 'list'",
     "output_type": "error",
     "traceback": [
      "\u001b[1;31m---------------------------------------------------------------------------\u001b[0m",
      "\u001b[1;31mTypeError\u001b[0m                                 Traceback (most recent call last)",
      "\u001b[1;32m<ipython-input-10-1973e12ec32b>\u001b[0m in \u001b[0;36m<module>\u001b[1;34m\u001b[0m\n\u001b[1;32m----> 1\u001b[1;33m \u001b[0mprecio\u001b[0m \u001b[1;33m*\u001b[0m \u001b[0mcantidad\u001b[0m\u001b[1;33m\u001b[0m\u001b[1;33m\u001b[0m\u001b[0m\n\u001b[0m",
      "\u001b[1;31mTypeError\u001b[0m: can't multiply sequence by non-int of type 'list'"
     ]
    }
   ],
   "source": [
    "precio * cantidad"
   ]
  },
  {
   "cell_type": "markdown",
   "metadata": {
    "id": "QXolb_vtUrSE"
   },
   "source": [
    "## Trabajar con arreglos NumPy"
   ]
  },
  {
   "cell_type": "markdown",
   "metadata": {
    "id": "rbBeFiXGVtfa"
   },
   "source": [
    "\n",
    "- Haz una matriz `calorías_por_servicio` con las calorías por porción:\n",
    "\n",
    "|                      |  Calorias por Servicio |\n",
    "|:---------------------|-----------------------:|\n",
    "| Cheeseburger         |                    740 |\n",
    "| Chicken Tikka Masala |                    240 |\n",
    "| Lasagna              |                    408 |\n",
    "| Filet Mignon         |                    301 |\n",
    "\n"
   ]
  },
  {
   "cell_type": "code",
   "execution_count": 4,
   "metadata": {
    "colab": {
     "base_uri": "https://localhost:8080/"
    },
    "id": "uoC40XYeL892",
    "outputId": "0649a506-79fb-4fb7-b834-862cbac5b1bc"
   },
   "outputs": [
    {
     "data": {
      "text/plain": [
       "array([740, 240, 408, 301])"
      ]
     },
     "execution_count": 4,
     "metadata": {},
     "output_type": "execute_result"
    }
   ],
   "source": [
    "## Haz una matriz con cuántas calorías hay en cada uno>?from www.calorieking.com\n",
    "calorias_por_servicio = np.array([740, 240, 408, 301])\n",
    "calorias_por_servicio"
   ]
  },
  {
   "cell_type": "markdown",
   "metadata": {
    "id": "k3v0559aVvSs"
   },
   "source": [
    "\n",
    "- Haz una matriz de `precios` con sus precios:\n",
    "\n",
    "|                      |  Precio |\n",
    "|:---------------------|--------:|\n",
    "| Cheeseburger         |    8.5  |\n",
    "| Chicken Tikka Masala |   12.5  |\n",
    "| Lasagna              |   11    |\n",
    "| Filet Mignon         |   15.75 |\n",
    "\n",
    "\n",
    "    "
   ]
  },
  {
   "cell_type": "code",
   "execution_count": 5,
   "metadata": {
    "colab": {
     "base_uri": "https://localhost:8080/"
    },
    "id": "QSPhonrEMn6r",
    "outputId": "dd66275b-c9ad-4c14-c6bc-962f20e51d8e"
   },
   "outputs": [
    {
     "data": {
      "text/plain": [
       "array([ 8.5 , 12.5 , 11.  , 15.75])"
      ]
     },
     "execution_count": 5,
     "metadata": {},
     "output_type": "execute_result"
    }
   ],
   "source": [
    "# ¿Cuál es el precio? https://www.numbeo.com/food-prices/\n",
    "precios = np.array([8.50, 12.50, 11.00, 15.75])\n",
    "precios"
   ]
  },
  {
   "cell_type": "markdown",
   "metadata": {
    "id": "51GDvH2IQfIn"
   },
   "source": [
    "### ¿Cuáles serían nuestras calorías totales si comiéramos:\n",
    "\n",
    "- ¿2 porciones de lasaña, 1 filet mignon y 3 hamburguesas con queso?\n",
    "\n",
    ">Total del pedido = la suma de todos los precios * número de porciones ordenadas.\n",
    "- Sugerencia: haga una matriz de `porciones`."
   ]
  },
  {
   "cell_type": "code",
   "execution_count": 6,
   "metadata": {
    "colab": {
     "base_uri": "https://localhost:8080/"
    },
    "id": "iKjlCEg0QMph",
    "outputId": "3ced1986-56ca-4d63-e23e-95840f91dc3d"
   },
   "outputs": [
    {
     "data": {
      "text/plain": [
       "array([3, 0, 2, 1])"
      ]
     },
     "execution_count": 6,
     "metadata": {},
     "output_type": "execute_result"
    }
   ],
   "source": [
    "# ¿2 porciones de lasaña y 1 filet mignon y 3 hamburguesas con queso?\n",
    "porciones = np.array([3,0,2,1])\n",
    "porciones"
   ]
  },
  {
   "cell_type": "code",
   "execution_count": 7,
   "metadata": {
    "colab": {
     "base_uri": "https://localhost:8080/"
    },
    "id": "hJnBORzeWDlG",
    "outputId": "7b115c14-0206-47d0-8226-7e2da5459de8"
   },
   "outputs": [
    {
     "data": {
      "text/plain": [
       "3337"
      ]
     },
     "execution_count": 7,
     "metadata": {},
     "output_type": "execute_result"
    }
   ],
   "source": [
    "## Calcular calorías totales\n",
    "np.sum(calorias_por_servicio * porciones)"
   ]
  },
  {
   "cell_type": "markdown",
   "metadata": {
    "id": "L4G726X2RYkm"
   },
   "source": [
    "#### ¿Cuál sería nuestra factura total?"
   ]
  },
  {
   "cell_type": "code",
   "execution_count": 8,
   "metadata": {
    "colab": {
     "base_uri": "https://localhost:8080/"
    },
    "id": "iHet7cI-RURt",
    "outputId": "7c4f8f8a-17ec-49cd-fc2c-d9b341cc197c"
   },
   "outputs": [
    {
     "data": {
      "text/plain": [
       "63.25"
      ]
     },
     "execution_count": 8,
     "metadata": {},
     "output_type": "execute_result"
    }
   ],
   "source": [
    "## calcular la factura total\n",
    "np.sum(porciones * precios)"
   ]
  },
  {
   "cell_type": "markdown",
   "metadata": {
    "id": "e_StYO75RwhR"
   },
   "source": [
    "### ¿Y si decidimos agregar 2 órdenes de Tikka Masala?"
   ]
  },
  {
   "cell_type": "markdown",
   "metadata": {
    "id": "TJTH5t6wiDHg"
   },
   "source": [
    "- Hmmm... ¿Qué índice era Pollo? 🤔"
   ]
  },
  {
   "cell_type": "markdown",
   "metadata": {
    "id": "6Olu3kNRferj"
   },
   "source": [
    "## 💡 Cómo recordarnos los nombres/índice entero de cada elemento"
   ]
  },
  {
   "cell_type": "markdown",
   "metadata": {
    "id": "OBtUgeXjUuI1"
   },
   "source": [
    "- Haz un `arreglo_opciones` de los nombres de las opciones de cena:\n",
    "    - 'Hamburguesa con queso', 'Pollo', 'Lasaña', 'Filet Mignon'\n",
    "\n"
   ]
  },
  {
   "cell_type": "code",
   "execution_count": 9,
   "metadata": {
    "colab": {
     "base_uri": "https://localhost:8080/"
    },
    "id": "myN_qHgzLPLV",
    "outputId": "53a68507-4a22-491f-bd75-3112d68b5817"
   },
   "outputs": [
    {
     "data": {
      "text/plain": [
       "array(['Hamburguesa', 'Pollo', 'Lasaña', 'Filet Mignon'], dtype='<U12')"
      ]
     },
     "execution_count": 9,
     "metadata": {},
     "output_type": "execute_result"
    }
   ],
   "source": [
    "## las matrices pueden almacenar cadenas\n",
    "arreglo_opciones = np.array(['Hamburguesa', 'Pollo', 'Lasaña', 'Filet Mignon'])\n",
    "arreglo_opciones"
   ]
  },
  {
   "cell_type": "markdown",
   "metadata": {
    "id": "g6iCTKsCgCrt"
   },
   "source": [
    "#### Usando Enumerate "
   ]
  },
  {
   "cell_type": "markdown",
   "metadata": {
    "id": "llKdkmfsgJOL"
   },
   "source": [
    "- Podemos usar la función `enumerate` para dividir cada opción de cena con su índice entero.\n"
   ]
  },
  {
   "cell_type": "code",
   "execution_count": 10,
   "metadata": {
    "colab": {
     "base_uri": "https://localhost:8080/"
    },
    "id": "TjeyGMKQQf3D",
    "outputId": "c1ffa47f-9d1d-45c9-b9b8-87ebd5e8b1e1"
   },
   "outputs": [
    {
     "name": "stdout",
     "output_type": "stream",
     "text": [
      "0: Hamburguesa\n",
      "1: Pollo\n",
      "2: Lasaña\n",
      "3: Filet Mignon\n"
     ]
    }
   ],
   "source": [
    "## ¡No puedo recordar qué índice es qué!\n",
    "for i, comida in enumerate(arreglo_opciones):\n",
    "    print(f'{i}: {comida}')"
   ]
  },
  {
   "cell_type": "markdown",
   "metadata": {
    "id": "dgIyenFxixY1"
   },
   "source": [
    "- ¡Queremos reutilizar esto para poder envolverlo en una función simple!"
   ]
  },
  {
   "cell_type": "code",
   "execution_count": 11,
   "metadata": {
    "id": "3n8nhqrxg3_z"
   },
   "outputs": [],
   "source": [
    "def reporte_comida():\n",
    "    \n",
    "    \"\"\"Utiliza enumerate para imprimir el índice de cada elemento de la matriz\"\"\"\n",
    "    for i, comida in enumerate(arreglo_opciones):\n",
    "        print(f'{i}: {comida}')"
   ]
  },
  {
   "cell_type": "markdown",
   "metadata": {
    "id": "tLTGHgqpTPaE"
   },
   "source": [
    "### ¿Qué pasa si decidimos agregar 2 órdenes de Pollo?"
   ]
  },
  {
   "cell_type": "code",
   "execution_count": 12,
   "metadata": {
    "colab": {
     "base_uri": "https://localhost:8080/"
    },
    "id": "V0UwsY9ni6M3",
    "outputId": "88933cf2-dac5-40b0-bc44-9448beb6a9c9"
   },
   "outputs": [
    {
     "name": "stdout",
     "output_type": "stream",
     "text": [
      "0: Hamburguesa\n",
      "1: Pollo\n",
      "2: Lasaña\n",
      "3: Filet Mignon\n"
     ]
    }
   ],
   "source": [
    "# Llamada de función\n",
    "reporte_comida()"
   ]
  },
  {
   "cell_type": "code",
   "execution_count": 13,
   "metadata": {
    "colab": {
     "base_uri": "https://localhost:8080/"
    },
    "id": "xn1omBHvRfi9",
    "outputId": "3b06d846-a651-42a4-9477-a14a89f2c482"
   },
   "outputs": [
    {
     "data": {
      "text/plain": [
       "array([3, 2, 2, 1])"
      ]
     },
     "execution_count": 13,
     "metadata": {},
     "output_type": "execute_result"
    }
   ],
   "source": [
    "## use el índice para reemplazar el valor de pollo tikka masala con 2\n",
    "porciones[1] = 2\n",
    "porciones"
   ]
  },
  {
   "cell_type": "code",
   "execution_count": 14,
   "metadata": {
    "colab": {
     "base_uri": "https://localhost:8080/"
    },
    "id": "M4aj2mpZRh7k",
    "outputId": "aa2d5b6d-9178-42ba-b97c-e30613b96fe0"
   },
   "outputs": [
    {
     "data": {
      "text/plain": [
       "88.25"
      ]
     },
     "execution_count": 14,
     "metadata": {},
     "output_type": "execute_result"
    }
   ],
   "source": [
    "# calcular factura total\n",
    "(porciones * precios).sum()"
   ]
  },
  {
   "cell_type": "code",
   "execution_count": 15,
   "metadata": {
    "colab": {
     "base_uri": "https://localhost:8080/"
    },
    "id": "5OwSBHgR99Os",
    "outputId": "fa392cdb-f8e7-4231-bbbd-1f160ad10f18"
   },
   "outputs": [
    {
     "data": {
      "text/plain": [
       "88.25"
      ]
     },
     "execution_count": 15,
     "metadata": {},
     "output_type": "execute_result"
    }
   ],
   "source": [
    "np.sum(porciones * precios)"
   ]
  },
  {
   "cell_type": "markdown",
   "metadata": {
    "id": "_ef8InxlSbVi"
   },
   "source": [
    "### ¿Qué pasaría si hubiera promociones de happy hour con descuento?\n",
    "- Las hamburguesas con queso y el filet mignon tienen un 25 % de descuento\n",
    "> Sugerencia: haz una matriz de `descuentos`."
   ]
  },
  {
   "cell_type": "code",
   "execution_count": 16,
   "metadata": {
    "colab": {
     "base_uri": "https://localhost:8080/"
    },
    "id": "J5C0KhBwTXhU",
    "outputId": "25b4380a-482c-40f5-a8b9-13b491a363c2"
   },
   "outputs": [
    {
     "name": "stdout",
     "output_type": "stream",
     "text": [
      "0: Hamburguesa\n",
      "1: Pollo\n",
      "2: Lasaña\n",
      "3: Filet Mignon\n"
     ]
    }
   ],
   "source": [
    "# Llamada de función\n",
    "reporte_comida()"
   ]
  },
  {
   "cell_type": "code",
   "execution_count": 17,
   "metadata": {
    "colab": {
     "base_uri": "https://localhost:8080/"
    },
    "id": "BLQnc6DsSsQ8",
    "outputId": "c9f6dd24-d0b5-4fe6-aced-82c5dd135419"
   },
   "outputs": [
    {
     "data": {
      "text/plain": [
       "array([ 8.5 , 12.5 , 11.  , 15.75])"
      ]
     },
     "execution_count": 17,
     "metadata": {},
     "output_type": "execute_result"
    }
   ],
   "source": [
    "## descuentos\n",
    "descuentos = np.array([.25, 0, 0, .25])\n",
    "precios"
   ]
  },
  {
   "cell_type": "code",
   "execution_count": 18,
   "metadata": {
    "colab": {
     "base_uri": "https://localhost:8080/"
    },
    "id": "SWfIromoTuTL",
    "outputId": "eb3075cc-24d9-4edf-d25f-8cb0eeb942f7"
   },
   "outputs": [
    {
     "data": {
      "text/plain": [
       "array([ 6.375 , 12.5   , 11.    , 11.8125])"
      ]
     },
     "execution_count": 18,
     "metadata": {},
     "output_type": "execute_result"
    }
   ],
   "source": [
    "## precios con descuentos\n",
    "precios_descuento = precios - precios*descuentos\n",
    "precios_descuento"
   ]
  },
  {
   "cell_type": "code",
   "execution_count": 19,
   "metadata": {
    "colab": {
     "base_uri": "https://localhost:8080/"
    },
    "id": "Gka9-OdhT8-y",
    "outputId": "bc7ab02d-cc82-4105-a3ec-f317081250cc"
   },
   "outputs": [
    {
     "data": {
      "text/plain": [
       "77.94"
      ]
     },
     "execution_count": 19,
     "metadata": {},
     "output_type": "execute_result"
    }
   ],
   "source": [
    "# sumatoria de descuentos\n",
    "np.sum(precios_descuento * porciones).round(2)"
   ]
  },
  {
   "cell_type": "markdown",
   "metadata": {
    "id": "ejDxOyJTSBTY"
   },
   "source": [
    "## ¿No sería bueno...\n",
    ">- si tuviéramos una manera de agrupar TODA esta información sin memorizar índices que fuera realmente fácil de visualizar?\n",
    "- Hmmm....🤔 - ¡Un diccionario podría funcionar!\n",
    "\n",
    "- Hacer un diccionario cena_data que contenga los datos de:\n",
    "    - precios\n",
    "    - calorías por porción\n",
    "    - descuentos\n",
    "    - y porciones"
   ]
  },
  {
   "cell_type": "markdown",
   "metadata": {
    "id": "8EQtGbDN0q5g"
   },
   "source": [
    "### Diccionario"
   ]
  },
  {
   "cell_type": "code",
   "execution_count": 20,
   "metadata": {
    "colab": {
     "base_uri": "https://localhost:8080/"
    },
    "id": "-eyStJs0t2c7",
    "outputId": "9da0def0-71f7-4162-954d-192e61ce91c5"
   },
   "outputs": [
    {
     "data": {
      "text/plain": [
       "{'Opciones de Cena': array(['Hamburguesa', 'Pollo', 'Lasaña', 'Filet Mignon'], dtype='<U12'),\n",
       " 'Precio': array([ 8.5 , 12.5 , 11.  , 15.75]),\n",
       " 'Calorias por Servicio': array([740, 240, 408, 301]),\n",
       " 'Descuento': array([0.25, 0.  , 0.  , 0.25]),\n",
       " 'Porciones': array([3, 2, 2, 1])}"
      ]
     },
     "execution_count": 20,
     "metadata": {},
     "output_type": "execute_result"
    }
   ],
   "source": [
    "# Podríamos usar un diccionario para Precio, Calorías por porción, descuento, porciones\n",
    "cena_data = {'Opciones de Cena': arreglo_opciones,\n",
    "             'Precio': precios,\n",
    "             'Calorias por Servicio': calorias_por_servicio,\n",
    "             'Descuento': descuentos,\n",
    "             'Porciones': porciones}\n",
    "cena_data"
   ]
  },
  {
   "cell_type": "markdown",
   "metadata": {
    "id": "0vgY0owRudlp"
   },
   "source": [
    "- Hmmm, eso es **mejor** pero aún es muy difícil ver los datos alineados."
   ]
  },
  {
   "cell_type": "markdown",
   "metadata": {
    "id": "YTbyBt5f0vaf"
   },
   "source": [
    "## Pandas "
   ]
  },
  {
   "cell_type": "markdown",
   "metadata": {
    "id": "Trkfs8HoSIxy"
   },
   "source": [
    "> 🐼 PANDAS AL RESCATE!"
   ]
  },
  {
   "cell_type": "code",
   "execution_count": 21,
   "metadata": {
    "id": "uvyJLJgaUDR3"
   },
   "outputs": [],
   "source": [
    "# Importa pandas\n",
    "import pandas as pd"
   ]
  },
  {
   "cell_type": "code",
   "execution_count": 22,
   "metadata": {
    "colab": {
     "base_uri": "https://localhost:8080/",
     "height": 175
    },
    "id": "kRlnFsWpR8sX",
    "outputId": "5f617bb9-68d0-415b-8391-85d7603b76e6"
   },
   "outputs": [
    {
     "data": {
      "text/html": [
       "<div>\n",
       "<style scoped>\n",
       "    .dataframe tbody tr th:only-of-type {\n",
       "        vertical-align: middle;\n",
       "    }\n",
       "\n",
       "    .dataframe tbody tr th {\n",
       "        vertical-align: top;\n",
       "    }\n",
       "\n",
       "    .dataframe thead th {\n",
       "        text-align: right;\n",
       "    }\n",
       "</style>\n",
       "<table border=\"1\" class=\"dataframe\">\n",
       "  <thead>\n",
       "    <tr style=\"text-align: right;\">\n",
       "      <th></th>\n",
       "      <th>Opciones de Cena</th>\n",
       "      <th>Precio</th>\n",
       "      <th>Calorias por Servicio</th>\n",
       "      <th>Descuento</th>\n",
       "      <th>Porciones</th>\n",
       "    </tr>\n",
       "  </thead>\n",
       "  <tbody>\n",
       "    <tr>\n",
       "      <th>0</th>\n",
       "      <td>Hamburguesa</td>\n",
       "      <td>8.50</td>\n",
       "      <td>740</td>\n",
       "      <td>0.25</td>\n",
       "      <td>3</td>\n",
       "    </tr>\n",
       "    <tr>\n",
       "      <th>1</th>\n",
       "      <td>Pollo</td>\n",
       "      <td>12.50</td>\n",
       "      <td>240</td>\n",
       "      <td>0.00</td>\n",
       "      <td>2</td>\n",
       "    </tr>\n",
       "    <tr>\n",
       "      <th>2</th>\n",
       "      <td>Lasaña</td>\n",
       "      <td>11.00</td>\n",
       "      <td>408</td>\n",
       "      <td>0.00</td>\n",
       "      <td>2</td>\n",
       "    </tr>\n",
       "    <tr>\n",
       "      <th>3</th>\n",
       "      <td>Filet Mignon</td>\n",
       "      <td>15.75</td>\n",
       "      <td>301</td>\n",
       "      <td>0.25</td>\n",
       "      <td>1</td>\n",
       "    </tr>\n",
       "  </tbody>\n",
       "</table>\n",
       "</div>"
      ],
      "text/plain": [
       "  Opciones de Cena  Precio  Calorias por Servicio  Descuento  Porciones\n",
       "0      Hamburguesa    8.50                    740       0.25          3\n",
       "1            Pollo   12.50                    240       0.00          2\n",
       "2           Lasaña   11.00                    408       0.00          2\n",
       "3     Filet Mignon   15.75                    301       0.25          1"
      ]
     },
     "execution_count": 22,
     "metadata": {},
     "output_type": "execute_result"
    }
   ],
   "source": [
    "## hacer un marco de datos de nuestra cena_data\n",
    "df = pd.DataFrame(cena_data)\n",
    "df"
   ]
  },
  {
   "cell_type": "code",
   "execution_count": 23,
   "metadata": {
    "colab": {
     "base_uri": "https://localhost:8080/"
    },
    "id": "ewpaslFwW89c",
    "outputId": "a1997036-af42-4675-8990-c1bc966553d8"
   },
   "outputs": [
    {
     "data": {
      "text/plain": [
       "77.94"
      ]
     },
     "execution_count": 23,
     "metadata": {},
     "output_type": "execute_result"
    }
   ],
   "source": [
    "## calcular el total del pedido usando el marco de datos\n",
    "np.sum((df['Precio'] - df['Precio']*df['Descuento']) * df['Porciones']).round(2)"
   ]
  },
  {
   "cell_type": "markdown",
   "metadata": {
    "id": "75FdHZztr2wq"
   },
   "source": [
    "### Los pandas están construidos encima de Numpy"
   ]
  },
  {
   "cell_type": "markdown",
   "metadata": {
    "id": "thXBOwtBuxSX"
   },
   "source": [
    "> Pandas está construido SOBRE NumPy y **por lo tanto, ¡puede hacer muchas de las mismas cosas que las matrices numpy!**"
   ]
  },
  {
   "cell_type": "code",
   "execution_count": 24,
   "metadata": {
    "colab": {
     "base_uri": "https://localhost:8080/"
    },
    "id": "9GDSusgouxSX",
    "outputId": "7966ab60-9afc-42f2-b1f0-6baa1b83be37"
   },
   "outputs": [
    {
     "data": {
      "text/plain": [
       "array([['Hamburguesa', 8.5, 740, 0.25, 3],\n",
       "       ['Pollo', 12.5, 240, 0.0, 2],\n",
       "       ['Lasaña', 11.0, 408, 0.0, 2],\n",
       "       ['Filet Mignon', 15.75, 301, 0.25, 1]], dtype=object)"
      ]
     },
     "execution_count": 24,
     "metadata": {},
     "output_type": "execute_result"
    }
   ],
   "source": [
    "## puede obtener los datos como una matriz usando .values\n",
    "df.values"
   ]
  },
  {
   "cell_type": "code",
   "execution_count": 25,
   "metadata": {
    "colab": {
     "base_uri": "https://localhost:8080/"
    },
    "id": "7ZqGF5R6r_sx",
    "outputId": "0ab62db6-7a4d-47e5-e79e-268420979cee"
   },
   "outputs": [
    {
     "data": {
      "text/plain": [
       "11.94"
      ]
     },
     "execution_count": 25,
     "metadata": {},
     "output_type": "execute_result"
    }
   ],
   "source": [
    "## ¿Cuál es el precio medio de nuestros alimentos?\n",
    "round(df['Precio'].mean(), 2)\n",
    "#round(columna, lugar al que desea redondear)"
   ]
  },
  {
   "cell_type": "code",
   "execution_count": 26,
   "metadata": {
    "colab": {
     "base_uri": "https://localhost:8080/"
    },
    "id": "skQo0y8zvOIL",
    "outputId": "b367e99c-7cd3-4432-e7f6-c1bc47de6be5"
   },
   "outputs": [
    {
     "data": {
      "text/plain": [
       "8"
      ]
     },
     "execution_count": 26,
     "metadata": {},
     "output_type": "execute_result"
    }
   ],
   "source": [
    "## ¿Cuántas porciones pedimos en total?\n",
    "df['Porciones'].sum()"
   ]
  },
  {
   "cell_type": "markdown",
   "metadata": {},
   "source": [
    "# Asignación: \n",
    "\n",
    "- Revisar y estudiar los notebooks: 0. Numpy y 1. Numpy, para obtener más detalle sobre las funciones de NumPy"
   ]
  },
  {
   "cell_type": "markdown",
   "metadata": {},
   "source": [
    "# Fin"
   ]
  }
 ],
 "metadata": {
  "kernelspec": {
   "display_name": "Python 3 (ipykernel)",
   "language": "python",
   "name": "python3"
  },
  "language_info": {
   "codemirror_mode": {
    "name": "ipython",
    "version": 3
   },
   "file_extension": ".py",
   "mimetype": "text/x-python",
   "name": "python",
   "nbconvert_exporter": "python",
   "pygments_lexer": "ipython3",
   "version": "3.9.7"
  }
 },
 "nbformat": 4,
 "nbformat_minor": 4
}
