{
 "cells": [
  {
   "cell_type": "markdown",
   "id": "2d184b66",
   "metadata": {},
   "source": [
    "# Clase 2023-11-13"
   ]
  },
  {
   "cell_type": "code",
   "execution_count": 1,
   "id": "c6426442",
   "metadata": {},
   "outputs": [],
   "source": [
    "import numpy as np"
   ]
  },
  {
   "cell_type": "code",
   "execution_count": 2,
   "id": "ac747aea",
   "metadata": {},
   "outputs": [],
   "source": [
    "x = np.array([1,2,3])"
   ]
  },
  {
   "cell_type": "code",
   "execution_count": 3,
   "id": "8f56d6bb",
   "metadata": {},
   "outputs": [
    {
     "data": {
      "text/plain": [
       "array([1, 2, 3])"
      ]
     },
     "execution_count": 3,
     "metadata": {},
     "output_type": "execute_result"
    }
   ],
   "source": [
    "x"
   ]
  },
  {
   "cell_type": "code",
   "execution_count": 4,
   "id": "fc406e6a",
   "metadata": {},
   "outputs": [
    {
     "data": {
      "text/plain": [
       "numpy.ndarray"
      ]
     },
     "execution_count": 4,
     "metadata": {},
     "output_type": "execute_result"
    }
   ],
   "source": [
    "type(x)"
   ]
  },
  {
   "cell_type": "code",
   "execution_count": 111,
   "id": "ec5b8baa",
   "metadata": {},
   "outputs": [
    {
     "data": {
      "text/plain": [
       "array([2.05747385, 4.24411235, 1.29157854, 4.15225734, 0.68407142,\n",
       "       2.62972207])"
      ]
     },
     "execution_count": 111,
     "metadata": {},
     "output_type": "execute_result"
    }
   ],
   "source": [
    "y = np.random.rand(6)\n",
    "y*5"
   ]
  },
  {
   "cell_type": "code",
   "execution_count": 120,
   "id": "6288862c",
   "metadata": {},
   "outputs": [
    {
     "data": {
      "text/plain": [
       "'Pollo'"
      ]
     },
     "execution_count": 120,
     "metadata": {},
     "output_type": "execute_result"
    }
   ],
   "source": [
    "opciones_cena = ['Hamburguesa', 'Pollo', 'Lasaña', 'Filet Mignon']\n",
    "np.random.choice(opciones_cena)"
   ]
  },
  {
   "cell_type": "code",
   "execution_count": 123,
   "id": "0535537d",
   "metadata": {},
   "outputs": [],
   "source": [
    "cantidad = [17,40,1]\n",
    "precio = [2,1,10]\n",
    "#No podemos multiplicar estas listas"
   ]
  },
  {
   "cell_type": "code",
   "execution_count": 124,
   "id": "47f81527",
   "metadata": {},
   "outputs": [],
   "source": [
    "calorias_por_servicio = np.array([740,240,408,301])"
   ]
  },
  {
   "cell_type": "code",
   "execution_count": 215,
   "id": "4543e56a",
   "metadata": {},
   "outputs": [],
   "source": [
    "precios = np.array([8.5,12.5,11.,15.75])"
   ]
  },
  {
   "cell_type": "code",
   "execution_count": 169,
   "id": "9a13ffbf",
   "metadata": {},
   "outputs": [],
   "source": [
    "porciones = np.array([3,0,2,1])"
   ]
  },
  {
   "cell_type": "code",
   "execution_count": 128,
   "id": "62018547",
   "metadata": {},
   "outputs": [
    {
     "data": {
      "text/plain": [
       "3337"
      ]
     },
     "execution_count": 128,
     "metadata": {},
     "output_type": "execute_result"
    }
   ],
   "source": [
    "calorias_total = calorias_por_servicio * porciones\n",
    "np.sum(calorias_total)"
   ]
  },
  {
   "cell_type": "code",
   "execution_count": 129,
   "id": "ef6f3c63",
   "metadata": {},
   "outputs": [
    {
     "data": {
      "text/plain": [
       "63.25"
      ]
     },
     "execution_count": 129,
     "metadata": {},
     "output_type": "execute_result"
    }
   ],
   "source": [
    "precio_total = precios * porciones\n",
    "np.sum(precio_total)"
   ]
  },
  {
   "cell_type": "code",
   "execution_count": 130,
   "id": "29cb1613",
   "metadata": {},
   "outputs": [
    {
     "data": {
      "text/plain": [
       "array(['Hamburguesa', 'Pollo', 'Lasaña', 'Filet Mignon'], dtype='<U12')"
      ]
     },
     "execution_count": 130,
     "metadata": {},
     "output_type": "execute_result"
    }
   ],
   "source": [
    "arreglo_opciones = np.array(opciones_cena)\n",
    "arreglo_opciones"
   ]
  },
  {
   "cell_type": "code",
   "execution_count": 131,
   "id": "badb144a",
   "metadata": {},
   "outputs": [
    {
     "name": "stdout",
     "output_type": "stream",
     "text": [
      "0: Hamburguesa\n",
      "1: Pollo\n",
      "2: Lasaña\n",
      "3: Filet Mignon\n"
     ]
    }
   ],
   "source": [
    "for indice,plato in enumerate(arreglo_opciones):\n",
    "    print(f'{indice}: {plato}')"
   ]
  },
  {
   "cell_type": "code",
   "execution_count": 135,
   "id": "dbc6953b",
   "metadata": {},
   "outputs": [],
   "source": [
    "def reporte_opciones_comida():\n",
    "    \"\"\"Esta función imprime un menú que muestra el índice de cada comida en el arreglo de opciones\"\"\"\n",
    "    for indice,plato in enumerate(arreglo_opciones):\n",
    "        print(f'{indice}: {plato}')"
   ]
  },
  {
   "cell_type": "code",
   "execution_count": 132,
   "id": "e3b3ee61",
   "metadata": {},
   "outputs": [
    {
     "data": {
      "text/plain": [
       "array([3, 0, 2, 1])"
      ]
     },
     "execution_count": 132,
     "metadata": {},
     "output_type": "execute_result"
    }
   ],
   "source": [
    "porciones"
   ]
  },
  {
   "cell_type": "code",
   "execution_count": 133,
   "id": "d1e5a70a",
   "metadata": {},
   "outputs": [],
   "source": [
    "porciones[1] =2"
   ]
  },
  {
   "cell_type": "code",
   "execution_count": 134,
   "id": "85711de7",
   "metadata": {},
   "outputs": [
    {
     "data": {
      "text/plain": [
       "array([3, 2, 2, 1])"
      ]
     },
     "execution_count": 134,
     "metadata": {},
     "output_type": "execute_result"
    }
   ],
   "source": [
    "porciones"
   ]
  },
  {
   "cell_type": "code",
   "execution_count": 136,
   "id": "2546c1a9",
   "metadata": {},
   "outputs": [],
   "source": [
    "reporte_opciones_comida?"
   ]
  },
  {
   "cell_type": "code",
   "execution_count": 216,
   "id": "aa0de1ee",
   "metadata": {},
   "outputs": [
    {
     "data": {
      "text/plain": [
       "63.25"
      ]
     },
     "execution_count": 216,
     "metadata": {},
     "output_type": "execute_result"
    }
   ],
   "source": [
    "precio_total = precios * porciones\n",
    "np.sum(precio_total)"
   ]
  },
  {
   "cell_type": "code",
   "execution_count": 218,
   "id": "ba3a7446",
   "metadata": {},
   "outputs": [
    {
     "data": {
      "text/plain": [
       "{'Opciones de cena': array(['Hamburguesa', 'Pollo', 'Lasaña', 'Filet Mignon'], dtype='<U12'),\n",
       " 'Precios': array([ 8.5 , 12.5 , 11.  , 15.75]),\n",
       " 'Calorias por Servicio': array([740, 240, 408, 301]),\n",
       " 'Descuento': array([0.25, 0.  , 0.  , 0.25]),\n",
       " 'Porciones': array([3, 0, 2, 1])}"
      ]
     },
     "execution_count": 218,
     "metadata": {},
     "output_type": "execute_result"
    }
   ],
   "source": [
    "cena_data = {'Opciones de cena': arreglo_opciones,\n",
    "            'Precios': precios,\n",
    "            'Calorias por Servicio': calorias_por_servicio,\n",
    "            'Descuento' : np.array([0.25,0,0,0.25]),\n",
    "            'Porciones': porciones}\n",
    "cena_data"
   ]
  },
  {
   "cell_type": "code",
   "execution_count": 219,
   "id": "a409b174",
   "metadata": {},
   "outputs": [],
   "source": [
    "import pandas as pd"
   ]
  },
  {
   "cell_type": "code",
   "execution_count": 220,
   "id": "2d96daad",
   "metadata": {},
   "outputs": [
    {
     "data": {
      "text/html": [
       "<div>\n",
       "<style scoped>\n",
       "    .dataframe tbody tr th:only-of-type {\n",
       "        vertical-align: middle;\n",
       "    }\n",
       "\n",
       "    .dataframe tbody tr th {\n",
       "        vertical-align: top;\n",
       "    }\n",
       "\n",
       "    .dataframe thead th {\n",
       "        text-align: right;\n",
       "    }\n",
       "</style>\n",
       "<table border=\"1\" class=\"dataframe\">\n",
       "  <thead>\n",
       "    <tr style=\"text-align: right;\">\n",
       "      <th></th>\n",
       "      <th>Opciones de cena</th>\n",
       "      <th>Precios</th>\n",
       "      <th>Calorias por Servicio</th>\n",
       "      <th>Descuento</th>\n",
       "      <th>Porciones</th>\n",
       "    </tr>\n",
       "  </thead>\n",
       "  <tbody>\n",
       "    <tr>\n",
       "      <th>0</th>\n",
       "      <td>Hamburguesa</td>\n",
       "      <td>8.50</td>\n",
       "      <td>740</td>\n",
       "      <td>0.25</td>\n",
       "      <td>3</td>\n",
       "    </tr>\n",
       "    <tr>\n",
       "      <th>1</th>\n",
       "      <td>Pollo</td>\n",
       "      <td>12.50</td>\n",
       "      <td>240</td>\n",
       "      <td>0.00</td>\n",
       "      <td>0</td>\n",
       "    </tr>\n",
       "    <tr>\n",
       "      <th>2</th>\n",
       "      <td>Lasaña</td>\n",
       "      <td>11.00</td>\n",
       "      <td>408</td>\n",
       "      <td>0.00</td>\n",
       "      <td>2</td>\n",
       "    </tr>\n",
       "    <tr>\n",
       "      <th>3</th>\n",
       "      <td>Filet Mignon</td>\n",
       "      <td>15.75</td>\n",
       "      <td>301</td>\n",
       "      <td>0.25</td>\n",
       "      <td>1</td>\n",
       "    </tr>\n",
       "  </tbody>\n",
       "</table>\n",
       "</div>"
      ],
      "text/plain": [
       "  Opciones de cena  Precios  Calorias por Servicio  Descuento  Porciones\n",
       "0      Hamburguesa     8.50                    740       0.25          3\n",
       "1            Pollo    12.50                    240       0.00          0\n",
       "2           Lasaña    11.00                    408       0.00          2\n",
       "3     Filet Mignon    15.75                    301       0.25          1"
      ]
     },
     "execution_count": 220,
     "metadata": {},
     "output_type": "execute_result"
    }
   ],
   "source": [
    "df = pd.DataFrame(cena_data)\n",
    "df"
   ]
  },
  {
   "cell_type": "code",
   "execution_count": 221,
   "id": "a21b8855",
   "metadata": {},
   "outputs": [
    {
     "data": {
      "text/plain": [
       "0    19.1250\n",
       "1     0.0000\n",
       "2    22.0000\n",
       "3    11.8125\n",
       "dtype: float64"
      ]
     },
     "execution_count": 221,
     "metadata": {},
     "output_type": "execute_result"
    }
   ],
   "source": [
    "(df['Precios'] - df['Precios']*df['Descuento']) * df['Porciones']"
   ]
  },
  {
   "cell_type": "markdown",
   "id": "b699afc4",
   "metadata": {},
   "source": [
    "# Series"
   ]
  },
  {
   "cell_type": "code",
   "execution_count": 222,
   "id": "9d169968",
   "metadata": {},
   "outputs": [],
   "source": [
    "etiquetas = ['a', 'b','c']\n",
    "mi_lista = [10,20,30]\n",
    "arr = np.array(mi_lista)\n",
    "d = {'a':10, 'b':20, 'c':30}"
   ]
  },
  {
   "cell_type": "code",
   "execution_count": 223,
   "id": "e08587f2",
   "metadata": {},
   "outputs": [
    {
     "data": {
      "text/plain": [
       "0    10\n",
       "1    20\n",
       "2    30\n",
       "dtype: int64"
      ]
     },
     "execution_count": 223,
     "metadata": {},
     "output_type": "execute_result"
    }
   ],
   "source": [
    "pd.Series(mi_lista)"
   ]
  },
  {
   "cell_type": "code",
   "execution_count": 224,
   "id": "77fbba8e",
   "metadata": {},
   "outputs": [
    {
     "data": {
      "text/plain": [
       "a    10\n",
       "b    20\n",
       "c    30\n",
       "dtype: int64"
      ]
     },
     "execution_count": 224,
     "metadata": {},
     "output_type": "execute_result"
    }
   ],
   "source": [
    "pd.Series(data = mi_lista, index = etiquetas)"
   ]
  },
  {
   "cell_type": "code",
   "execution_count": 225,
   "id": "a705eddd",
   "metadata": {},
   "outputs": [
    {
     "data": {
      "text/plain": [
       "a    10\n",
       "b    20\n",
       "c    30\n",
       "dtype: int64"
      ]
     },
     "execution_count": 225,
     "metadata": {},
     "output_type": "execute_result"
    }
   ],
   "source": [
    "pd.Series(d)"
   ]
  },
  {
   "cell_type": "code",
   "execution_count": 228,
   "id": "1b4a27cb",
   "metadata": {},
   "outputs": [
    {
     "data": {
      "text/plain": [
       "USA         1\n",
       "Alemania    2\n",
       "Ucrania     3\n",
       "Japón       4\n",
       "dtype: int64"
      ]
     },
     "execution_count": 228,
     "metadata": {},
     "output_type": "execute_result"
    }
   ],
   "source": [
    "ser1 = pd.Series(data = [1,2,3,4], index = ['USA', 'Alemania', 'Ucrania', 'Japón'])\n",
    "ser1"
   ]
  },
  {
   "cell_type": "code",
   "execution_count": 229,
   "id": "4572d303",
   "metadata": {},
   "outputs": [
    {
     "data": {
      "text/plain": [
       "USA         1\n",
       "Alemania    2\n",
       "Italia      5\n",
       "Japón       4\n",
       "dtype: int64"
      ]
     },
     "execution_count": 229,
     "metadata": {},
     "output_type": "execute_result"
    }
   ],
   "source": [
    "ser2 = pd.Series(data = [1,2,5,4], index = ['USA', 'Alemania', 'Italia', 'Japón'])\n",
    "ser2"
   ]
  },
  {
   "cell_type": "code",
   "execution_count": 230,
   "id": "3fff9222",
   "metadata": {},
   "outputs": [
    {
     "data": {
      "text/plain": [
       "1"
      ]
     },
     "execution_count": 230,
     "metadata": {},
     "output_type": "execute_result"
    }
   ],
   "source": [
    "ser2['USA']"
   ]
  },
  {
   "cell_type": "code",
   "execution_count": 232,
   "id": "6e623085",
   "metadata": {},
   "outputs": [
    {
     "data": {
      "text/plain": [
       "5"
      ]
     },
     "execution_count": 232,
     "metadata": {},
     "output_type": "execute_result"
    }
   ],
   "source": [
    "ser2[2]"
   ]
  },
  {
   "cell_type": "code",
   "execution_count": 233,
   "id": "6c39bf75",
   "metadata": {},
   "outputs": [
    {
     "data": {
      "text/plain": [
       "5"
      ]
     },
     "execution_count": 233,
     "metadata": {},
     "output_type": "execute_result"
    }
   ],
   "source": [
    "ser2['Italia']"
   ]
  },
  {
   "cell_type": "code",
   "execution_count": 234,
   "id": "6131283b",
   "metadata": {},
   "outputs": [
    {
     "data": {
      "text/plain": [
       "Alemania    4.0\n",
       "Italia      NaN\n",
       "Japón       8.0\n",
       "USA         2.0\n",
       "Ucrania     NaN\n",
       "dtype: float64"
      ]
     },
     "execution_count": 234,
     "metadata": {},
     "output_type": "execute_result"
    }
   ],
   "source": [
    "ser1 + ser2"
   ]
  },
  {
   "cell_type": "markdown",
   "id": "486d34b4",
   "metadata": {},
   "source": [
    "# Métodos integrados de cálculos"
   ]
  },
  {
   "cell_type": "code",
   "execution_count": 235,
   "id": "fb8009b1",
   "metadata": {},
   "outputs": [
    {
     "data": {
      "text/plain": [
       "4"
      ]
     },
     "execution_count": 235,
     "metadata": {},
     "output_type": "execute_result"
    }
   ],
   "source": [
    "ser1.count()"
   ]
  },
  {
   "cell_type": "code",
   "execution_count": 236,
   "id": "ac91fba2",
   "metadata": {},
   "outputs": [
    {
     "data": {
      "text/plain": [
       "12"
      ]
     },
     "execution_count": 236,
     "metadata": {},
     "output_type": "execute_result"
    }
   ],
   "source": [
    "ser2.sum()"
   ]
  },
  {
   "cell_type": "code",
   "execution_count": 237,
   "id": "ba0a114f",
   "metadata": {},
   "outputs": [
    {
     "data": {
      "text/plain": [
       "2.5"
      ]
     },
     "execution_count": 237,
     "metadata": {},
     "output_type": "execute_result"
    }
   ],
   "source": [
    "ser1.mean()"
   ]
  },
  {
   "cell_type": "code",
   "execution_count": 240,
   "id": "ddc6cfa6",
   "metadata": {},
   "outputs": [
    {
     "data": {
      "text/plain": [
       "2.5"
      ]
     },
     "execution_count": 240,
     "metadata": {},
     "output_type": "execute_result"
    }
   ],
   "source": [
    "ser1.median()"
   ]
  },
  {
   "cell_type": "markdown",
   "id": "acc70622",
   "metadata": {},
   "source": [
    "# Data Frames"
   ]
  },
  {
   "cell_type": "code",
   "execution_count": 254,
   "id": "0c108eb3",
   "metadata": {},
   "outputs": [],
   "source": [
    "matriz = np.random.randn(5,4)"
   ]
  },
  {
   "cell_type": "code",
   "execution_count": 255,
   "id": "2b622f19",
   "metadata": {},
   "outputs": [],
   "source": [
    "columnas = ['a','b','c','d']\n",
    "indice = ['e','f','g','h','i']"
   ]
  },
  {
   "cell_type": "code",
   "execution_count": 264,
   "id": "5248c0cd",
   "metadata": {},
   "outputs": [
    {
     "data": {
      "text/html": [
       "<div>\n",
       "<style scoped>\n",
       "    .dataframe tbody tr th:only-of-type {\n",
       "        vertical-align: middle;\n",
       "    }\n",
       "\n",
       "    .dataframe tbody tr th {\n",
       "        vertical-align: top;\n",
       "    }\n",
       "\n",
       "    .dataframe thead th {\n",
       "        text-align: right;\n",
       "    }\n",
       "</style>\n",
       "<table border=\"1\" class=\"dataframe\">\n",
       "  <thead>\n",
       "    <tr style=\"text-align: right;\">\n",
       "      <th></th>\n",
       "      <th>a</th>\n",
       "      <th>b</th>\n",
       "      <th>c</th>\n",
       "      <th>d</th>\n",
       "    </tr>\n",
       "  </thead>\n",
       "  <tbody>\n",
       "    <tr>\n",
       "      <th>e</th>\n",
       "      <td>0.416521</td>\n",
       "      <td>-0.708704</td>\n",
       "      <td>-0.146177</td>\n",
       "      <td>2.322912</td>\n",
       "    </tr>\n",
       "    <tr>\n",
       "      <th>f</th>\n",
       "      <td>-0.904858</td>\n",
       "      <td>-1.060373</td>\n",
       "      <td>0.667033</td>\n",
       "      <td>-0.039637</td>\n",
       "    </tr>\n",
       "    <tr>\n",
       "      <th>g</th>\n",
       "      <td>-0.007392</td>\n",
       "      <td>-0.759991</td>\n",
       "      <td>0.265387</td>\n",
       "      <td>2.106834</td>\n",
       "    </tr>\n",
       "    <tr>\n",
       "      <th>h</th>\n",
       "      <td>1.464881</td>\n",
       "      <td>-0.432266</td>\n",
       "      <td>1.239782</td>\n",
       "      <td>-0.327442</td>\n",
       "    </tr>\n",
       "    <tr>\n",
       "      <th>i</th>\n",
       "      <td>-0.693036</td>\n",
       "      <td>-3.502554</td>\n",
       "      <td>1.038166</td>\n",
       "      <td>-0.752953</td>\n",
       "    </tr>\n",
       "  </tbody>\n",
       "</table>\n",
       "</div>"
      ],
      "text/plain": [
       "          a         b         c         d\n",
       "e  0.416521 -0.708704 -0.146177  2.322912\n",
       "f -0.904858 -1.060373  0.667033 -0.039637\n",
       "g -0.007392 -0.759991  0.265387  2.106834\n",
       "h  1.464881 -0.432266  1.239782 -0.327442\n",
       "i -0.693036 -3.502554  1.038166 -0.752953"
      ]
     },
     "execution_count": 264,
     "metadata": {},
     "output_type": "execute_result"
    }
   ],
   "source": [
    "matriz_df = pd.DataFrame(matriz, indice, columnas)\n",
    "matriz_df"
   ]
  },
  {
   "cell_type": "markdown",
   "id": "e8500d6e",
   "metadata": {},
   "source": [
    "# Conectando a fuentes de datos"
   ]
  },
  {
   "cell_type": "code",
   "execution_count": null,
   "id": "94ae448f",
   "metadata": {},
   "outputs": [],
   "source": [
    "df_csv = pd.read_csv()"
   ]
  }
 ],
 "metadata": {
  "kernelspec": {
   "display_name": "Python 3 (ipykernel)",
   "language": "python",
   "name": "python3"
  },
  "language_info": {
   "codemirror_mode": {
    "name": "ipython",
    "version": 3
   },
   "file_extension": ".py",
   "mimetype": "text/x-python",
   "name": "python",
   "nbconvert_exporter": "python",
   "pygments_lexer": "ipython3",
   "version": "3.10.9"
  }
 },
 "nbformat": 4,
 "nbformat_minor": 5
}
