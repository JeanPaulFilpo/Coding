{
 "cells": [
  {
   "cell_type": "markdown",
   "metadata": {},
   "source": [
    "# Aprendizaje No Supervisado\n",
    "\n",
    "## K Modes\n",
    "\n",
    "K Modes o K Modas Clustering es un algoritmo de aprendizaje no supervisado que intenta agrupar datos en función de su similitud al igual que K Medias, pero especificamente para variables categoricas. En esencia el proceso es lo mismo que K Medias pero hace un paso interno de transformación de las variables en dummies o variables indicativas binarias para todas las etiquetas (posibles valores que puede tomar una variable)."
   ]
  },
  {
   "cell_type": "markdown",
   "metadata": {},
   "source": [
    "Para esta ocasión trabajaremos con un dataset de vestidos, trataremos de agrupar los vestidos por sus características"
   ]
  },
  {
   "cell_type": "code",
   "execution_count": 1,
   "metadata": {},
   "outputs": [],
   "source": [
    "#La librería que utilizaremos es kmodes\n",
    "#pip install kmodes"
   ]
  },
  {
   "cell_type": "markdown",
   "metadata": {},
   "source": [
    "# Librerías"
   ]
  },
  {
   "cell_type": "code",
   "execution_count": 2,
   "metadata": {},
   "outputs": [],
   "source": [
    "import pandas as pd\n",
    "import numpy as np\n",
    "import matplotlib.pyplot as plt"
   ]
  },
  {
   "cell_type": "markdown",
   "metadata": {},
   "source": [
    "# Obtención de Datos"
   ]
  },
  {
   "cell_type": "code",
   "execution_count": 3,
   "metadata": {},
   "outputs": [],
   "source": [
    "df = pd.read_excel('Attribute DataSet.xlsx')"
   ]
  },
  {
   "cell_type": "code",
   "execution_count": 4,
   "metadata": {},
   "outputs": [
    {
     "data": {
      "text/html": [
       "<div>\n",
       "<style scoped>\n",
       "    .dataframe tbody tr th:only-of-type {\n",
       "        vertical-align: middle;\n",
       "    }\n",
       "\n",
       "    .dataframe tbody tr th {\n",
       "        vertical-align: top;\n",
       "    }\n",
       "\n",
       "    .dataframe thead th {\n",
       "        text-align: right;\n",
       "    }\n",
       "</style>\n",
       "<table border=\"1\" class=\"dataframe\">\n",
       "  <thead>\n",
       "    <tr style=\"text-align: right;\">\n",
       "      <th></th>\n",
       "      <th>Style</th>\n",
       "      <th>Price</th>\n",
       "      <th>Season</th>\n",
       "      <th>NeckLine</th>\n",
       "      <th>SleeveLength</th>\n",
       "      <th>waiseline</th>\n",
       "      <th>Material</th>\n",
       "      <th>FabricType</th>\n",
       "      <th>Decoration</th>\n",
       "      <th>Pattern Type</th>\n",
       "    </tr>\n",
       "  </thead>\n",
       "  <tbody>\n",
       "    <tr>\n",
       "      <th>0</th>\n",
       "      <td>Brief</td>\n",
       "      <td>Average</td>\n",
       "      <td>Spring</td>\n",
       "      <td>o-neck</td>\n",
       "      <td>full</td>\n",
       "      <td>natural</td>\n",
       "      <td>silk</td>\n",
       "      <td>chiffon</td>\n",
       "      <td>embroidary</td>\n",
       "      <td>print</td>\n",
       "    </tr>\n",
       "    <tr>\n",
       "      <th>1</th>\n",
       "      <td>cute</td>\n",
       "      <td>Low</td>\n",
       "      <td>Summer</td>\n",
       "      <td>o-neck</td>\n",
       "      <td>butterfly</td>\n",
       "      <td>natural</td>\n",
       "      <td>chiffonfabric</td>\n",
       "      <td>chiffon</td>\n",
       "      <td>bow</td>\n",
       "      <td>dot</td>\n",
       "    </tr>\n",
       "    <tr>\n",
       "      <th>2</th>\n",
       "      <td>Flare</td>\n",
       "      <td>Average</td>\n",
       "      <td>Spring</td>\n",
       "      <td>v-neck</td>\n",
       "      <td>short</td>\n",
       "      <td>empire</td>\n",
       "      <td>cotton</td>\n",
       "      <td>broadcloth</td>\n",
       "      <td>beading</td>\n",
       "      <td>solid</td>\n",
       "    </tr>\n",
       "    <tr>\n",
       "      <th>3</th>\n",
       "      <td>party</td>\n",
       "      <td>Average</td>\n",
       "      <td>Summer</td>\n",
       "      <td>o-neck</td>\n",
       "      <td>full</td>\n",
       "      <td>natural</td>\n",
       "      <td>polyster</td>\n",
       "      <td>broadcloth</td>\n",
       "      <td>lace</td>\n",
       "      <td>solid</td>\n",
       "    </tr>\n",
       "    <tr>\n",
       "      <th>4</th>\n",
       "      <td>cute</td>\n",
       "      <td>Low</td>\n",
       "      <td>Automn</td>\n",
       "      <td>o-neck</td>\n",
       "      <td>sleevless</td>\n",
       "      <td>natural</td>\n",
       "      <td>polyster</td>\n",
       "      <td>chiffon</td>\n",
       "      <td>sashes</td>\n",
       "      <td>striped</td>\n",
       "    </tr>\n",
       "  </tbody>\n",
       "</table>\n",
       "</div>"
      ],
      "text/plain": [
       "   Style    Price  Season NeckLine SleeveLength waiseline       Material  \\\n",
       "0  Brief  Average  Spring   o-neck         full   natural           silk   \n",
       "1   cute      Low  Summer   o-neck    butterfly   natural  chiffonfabric   \n",
       "2  Flare  Average  Spring   v-neck        short    empire         cotton   \n",
       "3  party  Average  Summer   o-neck         full   natural       polyster   \n",
       "4   cute      Low  Automn   o-neck    sleevless   natural       polyster   \n",
       "\n",
       "   FabricType  Decoration Pattern Type  \n",
       "0     chiffon  embroidary        print  \n",
       "1     chiffon         bow          dot  \n",
       "2  broadcloth     beading        solid  \n",
       "3  broadcloth        lace        solid  \n",
       "4     chiffon      sashes      striped  "
      ]
     },
     "execution_count": 4,
     "metadata": {},
     "output_type": "execute_result"
    }
   ],
   "source": [
    "df.head()"
   ]
  },
  {
   "cell_type": "markdown",
   "metadata": {},
   "source": [
    "# Exploración inicial"
   ]
  },
  {
   "cell_type": "code",
   "execution_count": 5,
   "metadata": {},
   "outputs": [
    {
     "data": {
      "text/plain": [
       "Style           0\n",
       "Price           1\n",
       "Season          0\n",
       "NeckLine        1\n",
       "SleeveLength    0\n",
       "waiseline       1\n",
       "Material        1\n",
       "FabricType      1\n",
       "Decoration      1\n",
       "Pattern Type    1\n",
       "dtype: int64"
      ]
     },
     "execution_count": 5,
     "metadata": {},
     "output_type": "execute_result"
    }
   ],
   "source": [
    "df.isnull().sum()"
   ]
  },
  {
   "cell_type": "code",
   "execution_count": 6,
   "metadata": {},
   "outputs": [],
   "source": [
    "df.dropna(inplace=True)"
   ]
  },
  {
   "cell_type": "code",
   "execution_count": 7,
   "metadata": {},
   "outputs": [
    {
     "data": {
      "text/plain": [
       "Style           0\n",
       "Price           0\n",
       "Season          0\n",
       "NeckLine        0\n",
       "SleeveLength    0\n",
       "waiseline       0\n",
       "Material        0\n",
       "FabricType      0\n",
       "Decoration      0\n",
       "Pattern Type    0\n",
       "dtype: int64"
      ]
     },
     "execution_count": 7,
     "metadata": {},
     "output_type": "execute_result"
    }
   ],
   "source": [
    "df.isnull().sum()"
   ]
  },
  {
   "cell_type": "code",
   "execution_count": 8,
   "metadata": {},
   "outputs": [
    {
     "name": "stdout",
     "output_type": "stream",
     "text": [
      "<class 'pandas.core.frame.DataFrame'>\n",
      "Int64Index: 99 entries, 0 to 99\n",
      "Data columns (total 10 columns):\n",
      " #   Column        Non-Null Count  Dtype \n",
      "---  ------        --------------  ----- \n",
      " 0   Style         99 non-null     object\n",
      " 1   Price         99 non-null     object\n",
      " 2   Season        99 non-null     object\n",
      " 3   NeckLine      99 non-null     object\n",
      " 4   SleeveLength  99 non-null     object\n",
      " 5   waiseline     99 non-null     object\n",
      " 6   Material      99 non-null     object\n",
      " 7   FabricType    99 non-null     object\n",
      " 8   Decoration    99 non-null     object\n",
      " 9   Pattern Type  99 non-null     object\n",
      "dtypes: object(10)\n",
      "memory usage: 8.5+ KB\n"
     ]
    }
   ],
   "source": [
    "df.info()"
   ]
  },
  {
   "cell_type": "code",
   "execution_count": 9,
   "metadata": {},
   "outputs": [
    {
     "data": {
      "text/html": [
       "<div>\n",
       "<style scoped>\n",
       "    .dataframe tbody tr th:only-of-type {\n",
       "        vertical-align: middle;\n",
       "    }\n",
       "\n",
       "    .dataframe tbody tr th {\n",
       "        vertical-align: top;\n",
       "    }\n",
       "\n",
       "    .dataframe thead th {\n",
       "        text-align: right;\n",
       "    }\n",
       "</style>\n",
       "<table border=\"1\" class=\"dataframe\">\n",
       "  <thead>\n",
       "    <tr style=\"text-align: right;\">\n",
       "      <th></th>\n",
       "      <th>Style</th>\n",
       "      <th>Price</th>\n",
       "      <th>Season</th>\n",
       "      <th>NeckLine</th>\n",
       "      <th>SleeveLength</th>\n",
       "      <th>waiseline</th>\n",
       "      <th>Material</th>\n",
       "      <th>FabricType</th>\n",
       "      <th>Decoration</th>\n",
       "      <th>Pattern Type</th>\n",
       "    </tr>\n",
       "  </thead>\n",
       "  <tbody>\n",
       "    <tr>\n",
       "      <th>count</th>\n",
       "      <td>99</td>\n",
       "      <td>99</td>\n",
       "      <td>99</td>\n",
       "      <td>99</td>\n",
       "      <td>99</td>\n",
       "      <td>99</td>\n",
       "      <td>99</td>\n",
       "      <td>99</td>\n",
       "      <td>99</td>\n",
       "      <td>99</td>\n",
       "    </tr>\n",
       "    <tr>\n",
       "      <th>unique</th>\n",
       "      <td>11</td>\n",
       "      <td>6</td>\n",
       "      <td>6</td>\n",
       "      <td>10</td>\n",
       "      <td>7</td>\n",
       "      <td>2</td>\n",
       "      <td>13</td>\n",
       "      <td>13</td>\n",
       "      <td>17</td>\n",
       "      <td>7</td>\n",
       "    </tr>\n",
       "    <tr>\n",
       "      <th>top</th>\n",
       "      <td>Casual</td>\n",
       "      <td>Average</td>\n",
       "      <td>Spring</td>\n",
       "      <td>o-neck</td>\n",
       "      <td>sleevless</td>\n",
       "      <td>natural</td>\n",
       "      <td>cotton</td>\n",
       "      <td>chiffon</td>\n",
       "      <td>lace</td>\n",
       "      <td>solid</td>\n",
       "    </tr>\n",
       "    <tr>\n",
       "      <th>freq</th>\n",
       "      <td>45</td>\n",
       "      <td>48</td>\n",
       "      <td>30</td>\n",
       "      <td>57</td>\n",
       "      <td>41</td>\n",
       "      <td>79</td>\n",
       "      <td>28</td>\n",
       "      <td>50</td>\n",
       "      <td>19</td>\n",
       "      <td>62</td>\n",
       "    </tr>\n",
       "  </tbody>\n",
       "</table>\n",
       "</div>"
      ],
      "text/plain": [
       "         Style    Price  Season NeckLine SleeveLength waiseline Material  \\\n",
       "count       99       99      99       99           99        99       99   \n",
       "unique      11        6       6       10            7         2       13   \n",
       "top     Casual  Average  Spring   o-neck    sleevless   natural   cotton   \n",
       "freq        45       48      30       57           41        79       28   \n",
       "\n",
       "       FabricType Decoration Pattern Type  \n",
       "count          99         99           99  \n",
       "unique         13         17            7  \n",
       "top       chiffon       lace        solid  \n",
       "freq           50         19           62  "
      ]
     },
     "execution_count": 9,
     "metadata": {},
     "output_type": "execute_result"
    }
   ],
   "source": [
    "df.describe()"
   ]
  },
  {
   "cell_type": "markdown",
   "metadata": {},
   "source": [
    "# Creando los clusters (grupos)\n",
    "\n",
    "K Mode tiene varios \"inicializadores (init)\" los cuales son hiperparametros para el algoritmo que determinan como calcularán la disimilitud entre variables. Este es el hiperaparametro más importante del algoritmo. \n",
    "\n",
    "- 'Huang': Method in Huang [1997, 1998]\n",
    "- 'Cao': Method in Cao et al. [2009]\n",
    "- 'random': elige 'n_clusters' de las observaciones (filas) de manera aleatoria en los datos para los centroides iniciales.\n",
    "\n",
    "En este link pueden tener más información sobre los hiperparametros de este algoritmo:\n",
    "\n",
    "https://medium.com/@shailja.nitp2013/k-modesclustering-ef6d9ef06449\n",
    "\n",
    "Para nuestro proyecto probaremos los 3 metodos para ver la diferencia en la selección de grupos."
   ]
  },
  {
   "cell_type": "code",
   "execution_count": 10,
   "metadata": {},
   "outputs": [],
   "source": [
    "from kmodes.kmodes import KModes"
   ]
  },
  {
   "cell_type": "markdown",
   "metadata": {},
   "source": [
    "# Cao"
   ]
  },
  {
   "cell_type": "code",
   "execution_count": 11,
   "metadata": {
    "scrolled": true
   },
   "outputs": [
    {
     "name": "stdout",
     "output_type": "stream",
     "text": [
      "Init: initializing centroids\n",
      "Init: initializing clusters\n",
      "Starting iterations...\n",
      "Run 1, iteration: 1/100, moves: 0, cost: 531.0\n",
      "Init: initializing centroids\n",
      "Init: initializing clusters\n",
      "Starting iterations...\n",
      "Run 1, iteration: 1/100, moves: 7, cost: 495.0\n",
      "Init: initializing centroids\n",
      "Init: initializing clusters\n",
      "Starting iterations...\n",
      "Run 1, iteration: 1/100, moves: 15, cost: 454.0\n",
      "Run 1, iteration: 2/100, moves: 3, cost: 454.0\n",
      "Init: initializing centroids\n",
      "Init: initializing clusters\n",
      "Starting iterations...\n",
      "Run 1, iteration: 1/100, moves: 16, cost: 436.0\n",
      "Run 1, iteration: 2/100, moves: 15, cost: 405.0\n",
      "Run 1, iteration: 3/100, moves: 11, cost: 405.0\n",
      "Init: initializing centroids\n",
      "Init: initializing clusters\n",
      "Starting iterations...\n",
      "Run 1, iteration: 1/100, moves: 16, cost: 415.0\n",
      "Run 1, iteration: 2/100, moves: 25, cost: 390.0\n",
      "Run 1, iteration: 3/100, moves: 4, cost: 387.0\n",
      "Run 1, iteration: 4/100, moves: 0, cost: 387.0\n",
      "Init: initializing centroids\n",
      "Init: initializing clusters\n",
      "Starting iterations...\n",
      "Run 1, iteration: 1/100, moves: 13, cost: 411.0\n",
      "Run 1, iteration: 2/100, moves: 14, cost: 390.0\n",
      "Run 1, iteration: 3/100, moves: 15, cost: 379.0\n",
      "Run 1, iteration: 4/100, moves: 2, cost: 379.0\n",
      "Init: initializing centroids\n",
      "Init: initializing clusters\n",
      "Starting iterations...\n",
      "Run 1, iteration: 1/100, moves: 15, cost: 393.0\n",
      "Run 1, iteration: 2/100, moves: 8, cost: 385.0\n",
      "Run 1, iteration: 3/100, moves: 5, cost: 378.0\n",
      "Run 1, iteration: 4/100, moves: 1, cost: 378.0\n",
      "Init: initializing centroids\n",
      "Init: initializing clusters\n",
      "Starting iterations...\n",
      "Run 1, iteration: 1/100, moves: 16, cost: 376.0\n",
      "Run 1, iteration: 2/100, moves: 1, cost: 376.0\n",
      "Init: initializing centroids\n",
      "Init: initializing clusters\n",
      "Starting iterations...\n",
      "Run 1, iteration: 1/100, moves: 16, cost: 368.0\n",
      "Run 1, iteration: 2/100, moves: 0, cost: 368.0\n"
     ]
    },
    {
     "data": {
      "image/png": "[encoded data removed]",
      "text/plain": [
       "<Figure size 432x288 with 1 Axes>"
      ]
     },
     "metadata": {
      "needs_background": "light"
     },
     "output_type": "display_data"
    }
   ],
   "source": [
    "perdida = []\n",
    "K = range(1,10)\n",
    "for num_clusters in list(K):\n",
    "    kmode = KModes(n_clusters=num_clusters, init = \"Cao\", n_init = 1, verbose=1)\n",
    "    kmode.fit_predict(df)\n",
    "    perdida.append(kmode.cost_)\n",
    "    \n",
    "plt.plot(K, perdida, 'bx-')\n",
    "plt.xlabel('# de Clusters')\n",
    "plt.ylabel('Perdida')\n",
    "plt.title('Metodo del Codo para # de Clusters Optimos')\n",
    "plt.show()"
   ]
  },
  {
   "cell_type": "markdown",
   "metadata": {},
   "source": [
    "# Huang"
   ]
  },
  {
   "cell_type": "code",
   "execution_count": 12,
   "metadata": {
    "scrolled": true
   },
   "outputs": [
    {
     "name": "stdout",
     "output_type": "stream",
     "text": [
      "Init: initializing centroids\n",
      "Init: initializing clusters\n",
      "Starting iterations...\n",
      "Run 1, iteration: 1/100, moves: 0, cost: 531.0\n",
      "Init: initializing centroids\n",
      "Init: initializing clusters\n",
      "Starting iterations...\n",
      "Run 1, iteration: 1/100, moves: 25, cost: 484.0\n",
      "Run 1, iteration: 2/100, moves: 5, cost: 484.0\n",
      "Init: initializing centroids\n",
      "Init: initializing clusters\n",
      "Starting iterations...\n",
      "Run 1, iteration: 1/100, moves: 25, cost: 462.0\n",
      "Run 1, iteration: 2/100, moves: 2, cost: 462.0\n",
      "Init: initializing centroids\n",
      "Init: initializing clusters\n",
      "Starting iterations...\n",
      "Run 1, iteration: 1/100, moves: 27, cost: 419.0\n",
      "Run 1, iteration: 2/100, moves: 6, cost: 419.0\n",
      "Init: initializing centroids\n",
      "Init: initializing clusters\n",
      "Starting iterations...\n",
      "Run 1, iteration: 1/100, moves: 19, cost: 397.0\n",
      "Run 1, iteration: 2/100, moves: 8, cost: 395.0\n",
      "Run 1, iteration: 3/100, moves: 0, cost: 395.0\n",
      "Init: initializing centroids\n",
      "Init: initializing clusters\n",
      "Starting iterations...\n",
      "Run 1, iteration: 1/100, moves: 25, cost: 401.0\n",
      "Run 1, iteration: 2/100, moves: 18, cost: 391.0\n",
      "Run 1, iteration: 3/100, moves: 11, cost: 390.0\n",
      "Run 1, iteration: 4/100, moves: 0, cost: 390.0\n",
      "Init: initializing centroids\n",
      "Init: initializing clusters\n",
      "Starting iterations...\n",
      "Run 1, iteration: 1/100, moves: 25, cost: 365.0\n",
      "Run 1, iteration: 2/100, moves: 7, cost: 361.0\n",
      "Run 1, iteration: 3/100, moves: 0, cost: 361.0\n",
      "Init: initializing centroids\n",
      "Init: initializing clusters\n",
      "Starting iterations...\n",
      "Run 1, iteration: 1/100, moves: 31, cost: 381.0\n",
      "Run 1, iteration: 2/100, moves: 6, cost: 379.0\n",
      "Run 1, iteration: 3/100, moves: 1, cost: 379.0\n",
      "Init: initializing centroids\n",
      "Init: initializing clusters\n",
      "Starting iterations...\n",
      "Run 1, iteration: 1/100, moves: 35, cost: 348.0\n",
      "Run 1, iteration: 2/100, moves: 4, cost: 347.0\n",
      "Run 1, iteration: 3/100, moves: 0, cost: 347.0\n"
     ]
    },
    {
     "data": {
      "image/png": "[encoded data removed]",
      "text/plain": [
       "<Figure size 432x288 with 1 Axes>"
      ]
     },
     "metadata": {
      "needs_background": "light"
     },
     "output_type": "display_data"
    }
   ],
   "source": [
    "perdida = []\n",
    "K = range(1,10)\n",
    "for num_clusters in list(K):\n",
    "    kmode = KModes(n_clusters=num_clusters, init = \"Huang\", n_init = 1, verbose=1)\n",
    "    kmode.fit_predict(df)\n",
    "    perdida.append(kmode.cost_)\n",
    "    \n",
    "plt.plot(K, perdida, 'bx-')\n",
    "plt.xlabel('# de Clusters')\n",
    "plt.ylabel('Perdida')\n",
    "plt.title('Metodo del Codo para # de Clusters Optimos')\n",
    "plt.show()"
   ]
  },
  {
   "cell_type": "markdown",
   "metadata": {},
   "source": [
    "# Random"
   ]
  },
  {
   "cell_type": "code",
   "execution_count": 13,
   "metadata": {
    "scrolled": true
   },
   "outputs": [
    {
     "name": "stdout",
     "output_type": "stream",
     "text": [
      "Init: initializing centroids\n",
      "Init: initializing clusters\n",
      "Starting iterations...\n",
      "Run 1, iteration: 1/100, moves: 0, cost: 531.0\n",
      "Init: initializing centroids\n",
      "Init: initializing clusters\n",
      "Starting iterations...\n",
      "Run 1, iteration: 1/100, moves: 23, cost: 486.0\n",
      "Run 1, iteration: 2/100, moves: 0, cost: 486.0\n",
      "Init: initializing centroids\n",
      "Init: initializing clusters\n",
      "Starting iterations...\n",
      "Run 1, iteration: 1/100, moves: 30, cost: 433.0\n",
      "Run 1, iteration: 2/100, moves: 7, cost: 432.0\n",
      "Run 1, iteration: 3/100, moves: 0, cost: 432.0\n",
      "Init: initializing centroids\n",
      "Init: initializing clusters\n",
      "Starting iterations...\n",
      "Run 1, iteration: 1/100, moves: 27, cost: 413.0\n",
      "Run 1, iteration: 2/100, moves: 4, cost: 413.0\n",
      "Init: initializing centroids\n",
      "Init: initializing clusters\n",
      "Starting iterations...\n",
      "Run 1, iteration: 1/100, moves: 32, cost: 398.0\n",
      "Run 1, iteration: 2/100, moves: 1, cost: 398.0\n",
      "Init: initializing centroids\n",
      "Init: initializing clusters\n",
      "Starting iterations...\n",
      "Run 1, iteration: 1/100, moves: 21, cost: 398.0\n",
      "Init: initializing centroids\n",
      "Init: initializing clusters\n",
      "Starting iterations...\n",
      "Run 1, iteration: 1/100, moves: 37, cost: 394.0\n",
      "Run 1, iteration: 2/100, moves: 7, cost: 377.0\n",
      "Run 1, iteration: 3/100, moves: 1, cost: 376.0\n",
      "Run 1, iteration: 4/100, moves: 0, cost: 376.0\n",
      "Init: initializing centroids\n",
      "Init: initializing clusters\n",
      "Starting iterations...\n",
      "Run 1, iteration: 1/100, moves: 38, cost: 367.0\n",
      "Run 1, iteration: 2/100, moves: 6, cost: 364.0\n",
      "Run 1, iteration: 3/100, moves: 0, cost: 364.0\n",
      "Init: initializing centroids\n",
      "Init: initializing clusters\n",
      "Starting iterations...\n",
      "Run 1, iteration: 1/100, moves: 25, cost: 359.0\n",
      "Run 1, iteration: 2/100, moves: 11, cost: 347.0\n",
      "Run 1, iteration: 3/100, moves: 9, cost: 343.0\n",
      "Run 1, iteration: 4/100, moves: 0, cost: 343.0\n"
     ]
    },
    {
     "data": {
      "image/png": "[encoded data removed]",
      "text/plain": [
       "<Figure size 432x288 with 1 Axes>"
      ]
     },
     "metadata": {
      "needs_background": "light"
     },
     "output_type": "display_data"
    }
   ],
   "source": [
    "perdida = []\n",
    "K = range(1,10)\n",
    "for num_clusters in list(K):\n",
    "    kmode = KModes(n_clusters=num_clusters, init = \"Random\", n_init = 1, verbose=1)\n",
    "    kmode.fit_predict(df)\n",
    "    perdida.append(kmode.cost_)\n",
    "    \n",
    "plt.plot(K, perdida, 'bx-')\n",
    "plt.xlabel('# de Clusters')\n",
    "plt.ylabel('Perdida')\n",
    "plt.title('Metodo del Codo para # de Clusters Optimos')\n",
    "plt.show()"
   ]
  },
  {
   "cell_type": "markdown",
   "metadata": {},
   "source": [
    "El metodo que aparenta mayor estabilidad es el Cao, usemos ese para nuestro ejercicio."
   ]
  },
  {
   "cell_type": "code",
   "execution_count": 14,
   "metadata": {},
   "outputs": [],
   "source": [
    "#instanciamos el modelo con la cantidad de cluster seleccionados\n",
    "kmode = KModes(n_clusters=4, init = \"Cao\", n_init = 1, verbose=1)"
   ]
  },
  {
   "cell_type": "code",
   "execution_count": 15,
   "metadata": {},
   "outputs": [
    {
     "data": {
      "text/plain": [
       "KModes(n_clusters=4, verbose=1)"
      ]
     },
     "execution_count": 15,
     "metadata": {},
     "output_type": "execute_result"
    }
   ],
   "source": [
    "kmode"
   ]
  },
  {
   "cell_type": "code",
   "execution_count": 16,
   "metadata": {},
   "outputs": [
    {
     "name": "stdout",
     "output_type": "stream",
     "text": [
      "Init: initializing centroids\n",
      "Init: initializing clusters\n",
      "Starting iterations...\n",
      "Run 1, iteration: 1/100, moves: 16, cost: 436.0\n",
      "Run 1, iteration: 2/100, moves: 15, cost: 405.0\n",
      "Run 1, iteration: 3/100, moves: 11, cost: 405.0\n"
     ]
    }
   ],
   "source": [
    "#agregamos la columna con los clusters para cada observacion (fila)\n",
    "df['cluster'] = kmode.fit_predict(df)"
   ]
  },
  {
   "cell_type": "code",
   "execution_count": 17,
   "metadata": {},
   "outputs": [
    {
     "data": {
      "text/plain": [
       "0    52\n",
       "3    20\n",
       "1    16\n",
       "2    11\n",
       "Name: cluster, dtype: int64"
      ]
     },
     "execution_count": 17,
     "metadata": {},
     "output_type": "execute_result"
    }
   ],
   "source": [
    "#Cantidad de vestidos por cluster\n",
    "df['cluster'].value_counts()"
   ]
  },
  {
   "cell_type": "code",
   "execution_count": 18,
   "metadata": {
    "scrolled": false
   },
   "outputs": [
    {
     "data": {
      "text/html": [
       "<div>\n",
       "<style scoped>\n",
       "    .dataframe tbody tr th:only-of-type {\n",
       "        vertical-align: middle;\n",
       "    }\n",
       "\n",
       "    .dataframe tbody tr th {\n",
       "        vertical-align: top;\n",
       "    }\n",
       "\n",
       "    .dataframe thead th {\n",
       "        text-align: right;\n",
       "    }\n",
       "</style>\n",
       "<table border=\"1\" class=\"dataframe\">\n",
       "  <thead>\n",
       "    <tr style=\"text-align: right;\">\n",
       "      <th></th>\n",
       "      <th>Style</th>\n",
       "      <th>Price</th>\n",
       "      <th>Season</th>\n",
       "      <th>NeckLine</th>\n",
       "      <th>SleeveLength</th>\n",
       "      <th>waiseline</th>\n",
       "      <th>Material</th>\n",
       "      <th>FabricType</th>\n",
       "      <th>Decoration</th>\n",
       "      <th>Pattern Type</th>\n",
       "      <th>cluster</th>\n",
       "    </tr>\n",
       "  </thead>\n",
       "  <tbody>\n",
       "    <tr>\n",
       "      <th>0</th>\n",
       "      <td>Brief</td>\n",
       "      <td>Average</td>\n",
       "      <td>Spring</td>\n",
       "      <td>o-neck</td>\n",
       "      <td>full</td>\n",
       "      <td>natural</td>\n",
       "      <td>silk</td>\n",
       "      <td>chiffon</td>\n",
       "      <td>embroidary</td>\n",
       "      <td>print</td>\n",
       "      <td>0</td>\n",
       "    </tr>\n",
       "    <tr>\n",
       "      <th>1</th>\n",
       "      <td>cute</td>\n",
       "      <td>Low</td>\n",
       "      <td>Summer</td>\n",
       "      <td>o-neck</td>\n",
       "      <td>butterfly</td>\n",
       "      <td>natural</td>\n",
       "      <td>chiffonfabric</td>\n",
       "      <td>chiffon</td>\n",
       "      <td>bow</td>\n",
       "      <td>dot</td>\n",
       "      <td>2</td>\n",
       "    </tr>\n",
       "    <tr>\n",
       "      <th>2</th>\n",
       "      <td>Flare</td>\n",
       "      <td>Average</td>\n",
       "      <td>Spring</td>\n",
       "      <td>v-neck</td>\n",
       "      <td>short</td>\n",
       "      <td>empire</td>\n",
       "      <td>cotton</td>\n",
       "      <td>broadcloth</td>\n",
       "      <td>beading</td>\n",
       "      <td>solid</td>\n",
       "      <td>1</td>\n",
       "    </tr>\n",
       "    <tr>\n",
       "      <th>3</th>\n",
       "      <td>party</td>\n",
       "      <td>Average</td>\n",
       "      <td>Summer</td>\n",
       "      <td>o-neck</td>\n",
       "      <td>full</td>\n",
       "      <td>natural</td>\n",
       "      <td>polyster</td>\n",
       "      <td>broadcloth</td>\n",
       "      <td>lace</td>\n",
       "      <td>solid</td>\n",
       "      <td>1</td>\n",
       "    </tr>\n",
       "    <tr>\n",
       "      <th>4</th>\n",
       "      <td>cute</td>\n",
       "      <td>Low</td>\n",
       "      <td>Automn</td>\n",
       "      <td>o-neck</td>\n",
       "      <td>sleevless</td>\n",
       "      <td>natural</td>\n",
       "      <td>polyster</td>\n",
       "      <td>chiffon</td>\n",
       "      <td>sashes</td>\n",
       "      <td>striped</td>\n",
       "      <td>0</td>\n",
       "    </tr>\n",
       "  </tbody>\n",
       "</table>\n",
       "</div>"
      ],
      "text/plain": [
       "   Style    Price  Season NeckLine SleeveLength waiseline       Material  \\\n",
       "0  Brief  Average  Spring   o-neck         full   natural           silk   \n",
       "1   cute      Low  Summer   o-neck    butterfly   natural  chiffonfabric   \n",
       "2  Flare  Average  Spring   v-neck        short    empire         cotton   \n",
       "3  party  Average  Summer   o-neck         full   natural       polyster   \n",
       "4   cute      Low  Automn   o-neck    sleevless   natural       polyster   \n",
       "\n",
       "   FabricType  Decoration Pattern Type  cluster  \n",
       "0     chiffon  embroidary        print        0  \n",
       "1     chiffon         bow          dot        2  \n",
       "2  broadcloth     beading        solid        1  \n",
       "3  broadcloth        lace        solid        1  \n",
       "4     chiffon      sashes      striped        0  "
      ]
     },
     "execution_count": 18,
     "metadata": {},
     "output_type": "execute_result"
    }
   ],
   "source": [
    "df.head()"
   ]
  },
  {
   "cell_type": "code",
   "execution_count": 19,
   "metadata": {},
   "outputs": [
    {
     "name": "stdout",
     "output_type": "stream",
     "text": [
      "Init: initializing centroids\n",
      "Init: initializing clusters\n",
      "Starting iterations...\n",
      "Run 1, iteration: 1/100, moves: 22, cost: 405.0\n",
      "Run 1, iteration: 2/100, moves: 1, cost: 405.0\n"
     ]
    }
   ],
   "source": [
    "df['cluster'] = kmode.fit_predict(df)"
   ]
  },
  {
   "cell_type": "code",
   "execution_count": 20,
   "metadata": {},
   "outputs": [],
   "source": [
    "df_cluster = pd.DataFrame(kmode.cluster_centroids_)\n",
    "df_cluster.columns = df.columns"
   ]
  },
  {
   "cell_type": "code",
   "execution_count": 21,
   "metadata": {},
   "outputs": [
    {
     "data": {
      "text/html": [
       "<div>\n",
       "<style scoped>\n",
       "    .dataframe tbody tr th:only-of-type {\n",
       "        vertical-align: middle;\n",
       "    }\n",
       "\n",
       "    .dataframe tbody tr th {\n",
       "        vertical-align: top;\n",
       "    }\n",
       "\n",
       "    .dataframe thead th {\n",
       "        text-align: right;\n",
       "    }\n",
       "</style>\n",
       "<table border=\"1\" class=\"dataframe\">\n",
       "  <thead>\n",
       "    <tr style=\"text-align: right;\">\n",
       "      <th></th>\n",
       "      <th>Style</th>\n",
       "      <th>Price</th>\n",
       "      <th>Season</th>\n",
       "      <th>NeckLine</th>\n",
       "      <th>SleeveLength</th>\n",
       "      <th>waiseline</th>\n",
       "      <th>Material</th>\n",
       "      <th>FabricType</th>\n",
       "      <th>Decoration</th>\n",
       "      <th>Pattern Type</th>\n",
       "      <th>cluster</th>\n",
       "    </tr>\n",
       "  </thead>\n",
       "  <tbody>\n",
       "    <tr>\n",
       "      <th>0</th>\n",
       "      <td>Casual</td>\n",
       "      <td>Average</td>\n",
       "      <td>Spring</td>\n",
       "      <td>o-neck</td>\n",
       "      <td>sleevless</td>\n",
       "      <td>natural</td>\n",
       "      <td>polyster</td>\n",
       "      <td>chiffon</td>\n",
       "      <td>sashes</td>\n",
       "      <td>solid</td>\n",
       "      <td>0</td>\n",
       "    </tr>\n",
       "    <tr>\n",
       "      <th>1</th>\n",
       "      <td>Casual</td>\n",
       "      <td>Average</td>\n",
       "      <td>Winter</td>\n",
       "      <td>v-neck</td>\n",
       "      <td>short</td>\n",
       "      <td>natural</td>\n",
       "      <td>polyster</td>\n",
       "      <td>broadcloth</td>\n",
       "      <td>lace</td>\n",
       "      <td>solid</td>\n",
       "      <td>1</td>\n",
       "    </tr>\n",
       "    <tr>\n",
       "      <th>2</th>\n",
       "      <td>Casual</td>\n",
       "      <td>Low</td>\n",
       "      <td>Summer</td>\n",
       "      <td>v-neck</td>\n",
       "      <td>sleevless</td>\n",
       "      <td>natural</td>\n",
       "      <td>cotton</td>\n",
       "      <td>worsted</td>\n",
       "      <td>lace</td>\n",
       "      <td>solid</td>\n",
       "      <td>3</td>\n",
       "    </tr>\n",
       "    <tr>\n",
       "      <th>3</th>\n",
       "      <td>cute</td>\n",
       "      <td>Low</td>\n",
       "      <td>Summer</td>\n",
       "      <td>o-neck</td>\n",
       "      <td>short</td>\n",
       "      <td>empire</td>\n",
       "      <td>chiffonfabric</td>\n",
       "      <td>chiffon</td>\n",
       "      <td>bow</td>\n",
       "      <td>dot</td>\n",
       "      <td>2</td>\n",
       "    </tr>\n",
       "  </tbody>\n",
       "</table>\n",
       "</div>"
      ],
      "text/plain": [
       "    Style    Price  Season NeckLine SleeveLength waiseline       Material  \\\n",
       "0  Casual  Average  Spring   o-neck    sleevless   natural       polyster   \n",
       "1  Casual  Average  Winter   v-neck        short   natural       polyster   \n",
       "2  Casual      Low  Summer   v-neck    sleevless   natural         cotton   \n",
       "3    cute      Low  Summer   o-neck        short    empire  chiffonfabric   \n",
       "\n",
       "   FabricType Decoration Pattern Type cluster  \n",
       "0     chiffon     sashes        solid       0  \n",
       "1  broadcloth       lace        solid       1  \n",
       "2     worsted       lace        solid       3  \n",
       "3     chiffon        bow          dot       2  "
      ]
     },
     "execution_count": 21,
     "metadata": {},
     "output_type": "execute_result"
    }
   ],
   "source": [
    "df_cluster"
   ]
  },
  {
   "cell_type": "markdown",
   "metadata": {},
   "source": [
    "# K Prototype\n",
    "\n",
    "Este algoritmo es la combinación de K Mode y K Means, podemos usarlo para datasets con variables categoricas como numericas.\n",
    "\n",
    "https://towardsdatascience.com/the-k-prototype-as-clustering-algorithm-for-mixed-data-type-categorical-and-numerical-fe7c50538ebb\n",
    "\n",
    "https://medium.com/analytics-vidhya/customer-segmentation-using-k-prototypes-algorithm-in-python-aad4acbaaede"
   ]
  }
 ],
 "metadata": {
  "kernelspec": {
   "display_name": "Python 3 (ipykernel)",
   "language": "python",
   "name": "python3"
  },
  "language_info": {
   "codemirror_mode": {
    "name": "ipython",
    "version": 3
   },
   "file_extension": ".py",
   "mimetype": "text/x-python",
   "name": "python",
   "nbconvert_exporter": "python",
   "pygments_lexer": "ipython3",
   "version": "3.9.13"
  }
 },
 "nbformat": 4,
 "nbformat_minor": 4
}
