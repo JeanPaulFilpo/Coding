{
 "cells": [
  {
   "cell_type": "markdown",
   "metadata": {},
   "source": [
    "# Introducción a Python - Ejercicios\n",
    "\n",
    " Tiempo de prácticar lo aprendido.\n"
   ]
  },
  {
   "cell_type": "markdown",
   "metadata": {},
   "source": [
    "## Ejercicios\n",
    "\n",
    "Responda las preguntas o complete las tareas descritas en negrita a continuación, utilice el método específico descrito si corresponde."
   ]
  },
  {
   "cell_type": "markdown",
   "metadata": {},
   "source": [
    "**Cual es la 3 potencia de 3?**"
   ]
  },
  {
   "cell_type": "code",
   "execution_count": 1,
   "metadata": {},
   "outputs": [
    {
     "data": {
      "text/plain": [
       "27"
      ]
     },
     "execution_count": 1,
     "metadata": {},
     "output_type": "execute_result"
    }
   ],
   "source": [
    "3**3"
   ]
  },
  {
   "cell_type": "markdown",
   "metadata": {},
   "source": [
    "**Separa este texto y conviertelos en listas:**\n",
    "\n",
    "    s = \"Hola, mi nombre es Juan\""
   ]
  },
  {
   "cell_type": "code",
   "execution_count": 2,
   "metadata": {},
   "outputs": [],
   "source": [
    "s = 'Hola, mi nombre es Juan'"
   ]
  },
  {
   "cell_type": "code",
   "execution_count": 3,
   "metadata": {},
   "outputs": [
    {
     "data": {
      "text/plain": [
       "['Hola,', 'mi', 'nombre', 'es', 'Juan']"
      ]
     },
     "execution_count": 3,
     "metadata": {},
     "output_type": "execute_result"
    }
   ],
   "source": [
    "s.split()"
   ]
  },
  {
   "cell_type": "markdown",
   "metadata": {},
   "source": [
    "**Dadas las siguientes variables:**\n",
    "\n",
    "    planeta = \"Tierra\"\n",
    "    diametro = 12742\n",
    "\n",
    "**Usa .format() para printear la siguiente oración:**\n",
    "\n",
    "    El diametro de la Tierra es 12742 kilometros."
   ]
  },
  {
   "cell_type": "code",
   "execution_count": 4,
   "metadata": {},
   "outputs": [],
   "source": [
    "planeta = \"Tierra\"\n",
    "diametro = 12742"
   ]
  },
  {
   "cell_type": "code",
   "execution_count": 5,
   "metadata": {},
   "outputs": [
    {
     "name": "stdout",
     "output_type": "stream",
     "text": [
      "El diametro de la Tierra es 12742 kilometros\n"
     ]
    }
   ],
   "source": [
    "print(\"El diametro de la {} es {} kilometros\".format(planeta,diametro))"
   ]
  },
  {
   "cell_type": "markdown",
   "metadata": {},
   "source": [
    "**Dada esta lista anidada, use la indexación para obtener la palabra \"hola\"**"
   ]
  },
  {
   "cell_type": "code",
   "execution_count": 6,
   "metadata": {},
   "outputs": [],
   "source": [
    "lst = [1,2,[3,4],[5,[100,200,['hola']],23,11],1,7]"
   ]
  },
  {
   "cell_type": "code",
   "execution_count": 7,
   "metadata": {},
   "outputs": [
    {
     "data": {
      "text/plain": [
       "['hola']"
      ]
     },
     "execution_count": 7,
     "metadata": {},
     "output_type": "execute_result"
    }
   ],
   "source": [
    "lst[3][1][2]"
   ]
  },
  {
   "cell_type": "markdown",
   "metadata": {},
   "source": [
    "**Dado este diccionario anidado, tome la palabra \"hola\".**"
   ]
  },
  {
   "cell_type": "code",
   "execution_count": 8,
   "metadata": {},
   "outputs": [],
   "source": [
    "d = {'k1':[1,2,3,{'tricky':['oh','man','inception',{'target':[1,2,3,'hola']}]}]}"
   ]
  },
  {
   "cell_type": "code",
   "execution_count": 9,
   "metadata": {},
   "outputs": [
    {
     "data": {
      "text/plain": [
       "'hola'"
      ]
     },
     "execution_count": 9,
     "metadata": {},
     "output_type": "execute_result"
    }
   ],
   "source": [
    "d['k1'][3]['tricky'][3]['target'][3]"
   ]
  },
  {
   "cell_type": "markdown",
   "metadata": {},
   "source": [
    "**¿Cuál es la principal diferencia entre una tupla y una lista?**"
   ]
  },
  {
   "cell_type": "code",
   "execution_count": 10,
   "metadata": {},
   "outputs": [],
   "source": [
    "# Las tuplas no se le puede asignar valores a los objetos, en la lista sí."
   ]
  },
  {
   "cell_type": "markdown",
   "metadata": {},
   "source": [
    "**Crea una función que tome el dominio del sitio web de correo electrónico de una cadena con el siguiente formato:**\n",
    "\n",
    "    usuario@dominio.com\n",
    "    \n",
    "**Entonces, por ejemplo, al pasar \"usuario@dominio.com\" se devolvería: dominio.com**"
   ]
  },
  {
   "cell_type": "code",
   "execution_count": 11,
   "metadata": {},
   "outputs": [],
   "source": [
    "def ObtenerDominio(email):\n",
    "    return email.split('@')[1]"
   ]
  },
  {
   "cell_type": "code",
   "execution_count": 12,
   "metadata": {
    "scrolled": true
   },
   "outputs": [
    {
     "data": {
      "text/plain": [
       "'dominio.com'"
      ]
     },
     "execution_count": 12,
     "metadata": {},
     "output_type": "execute_result"
    }
   ],
   "source": [
    "ObtenerDominio('usuario@dominio.com')"
   ]
  },
  {
   "cell_type": "code",
   "execution_count": null,
   "metadata": {},
   "outputs": [],
   "source": []
  },
  {
   "cell_type": "markdown",
   "metadata": {},
   "source": [
    "**Crea una función básica que devuelva True si la palabra 'perro' está contenida en la cadena de entrada. No se preocupe por casos extremos como la puntuación que se adjunta a la palabra perro, pero tenga en cuenta las mayúsculas.**"
   ]
  },
  {
   "cell_type": "code",
   "execution_count": 13,
   "metadata": {},
   "outputs": [],
   "source": [
    "def encuentraPerro(st):\n",
    "    return 'perro' in st.lower().split()"
   ]
  },
  {
   "cell_type": "code",
   "execution_count": 14,
   "metadata": {},
   "outputs": [
    {
     "data": {
      "text/plain": [
       "True"
      ]
     },
     "execution_count": 14,
     "metadata": {},
     "output_type": "execute_result"
    }
   ],
   "source": [
    "encuentraPerro('Voy a pasear al Perro')"
   ]
  },
  {
   "cell_type": "markdown",
   "metadata": {},
   "source": [
    "**Cree una función que cuente el número de veces que aparece la palabra \"perro\" en una cadena. Nuevamente ignore los casos extremos.**"
   ]
  },
  {
   "cell_type": "code",
   "execution_count": 15,
   "metadata": {},
   "outputs": [],
   "source": [
    "def contarPerro(st):\n",
    "    contar = 0\n",
    "    for palabra in st.lower().split():\n",
    "        if palabra == 'perro':\n",
    "            contar = contar + 1\n",
    "    return contar"
   ]
  },
  {
   "cell_type": "code",
   "execution_count": 16,
   "metadata": {},
   "outputs": [
    {
     "data": {
      "text/plain": [
       "3"
      ]
     },
     "execution_count": 16,
     "metadata": {},
     "output_type": "execute_result"
    }
   ],
   "source": [
    "contarPerro('Este perro corre más rapido que mi perro anterior, y mi perro anterior era rapido')"
   ]
  },
  {
   "cell_type": "markdown",
   "metadata": {},
   "source": [
    "### Problema final\n",
    "*Estás conduciendo demasiado rápido y un oficial de policía te detiene. Escribe una función\n",
    "  para devolver uno de los 3 resultados posibles: \"Sin ticket\", \"ticket pequeño\" o \"ticket grande\".\n",
    "  Si su velocidad es de 60 o menos, el resultado es \"Sin ticket\". Si la velocidad está entre 61\n",
    "  y 80 inclusive, el resultado es \"ticket pequeño\". Si la velocidad es 81 o más, el resultado es \"ticket grande\". A menos que sea su cumpleaños (codificado como un valor booleano en los parámetros de la función), en su cumpleaños, su velocidad puede ser 5 más alta en tal\n",
    "  caso.*"
   ]
  },
  {
   "cell_type": "code",
   "execution_count": 17,
   "metadata": {},
   "outputs": [],
   "source": [
    "def detenido_velocidad(velocidad, es_cumpleanos):\n",
    "    \"\"\"\n",
    "    Esta función evalúa si su velocidad es de 60 o menos, y devuelve el resultado \"Sin ticket\". Si la velocidad está entre 61\n",
    "    y 80 inclusive, el resultado es \"ticket pequeño\". Si la velocidad es 81 o más, el resultado es \"ticket grande\". A menos que \n",
    "    sea su cumpleaños (codificado como un valor booleano en los parámetros de la función), en su cumpleaños, su velocidad puede \n",
    "    ser 5 más alta en tal casos\n",
    "    \"\"\"\n",
    "    if es_cumpleanos:\n",
    "        velocidad = velocidad - 5\n",
    "    else:\n",
    "        velocidad = velocidad\n",
    "    \n",
    "    if velocidad > 80:\n",
    "        return 'ticket grande'\n",
    "    elif velocidad > 60:\n",
    "        return 'ticket pequeño'\n",
    "    else:\n",
    "        return 'Sin ticket'"
   ]
  },
  {
   "cell_type": "code",
   "execution_count": 18,
   "metadata": {},
   "outputs": [
    {
     "data": {
      "text/plain": [
       "'ticket pequeño'"
      ]
     },
     "execution_count": 18,
     "metadata": {},
     "output_type": "execute_result"
    }
   ],
   "source": [
    "detenido_velocidad(81, True)"
   ]
  },
  {
   "cell_type": "code",
   "execution_count": 19,
   "metadata": {},
   "outputs": [
    {
     "data": {
      "text/plain": [
       "'ticket grande'"
      ]
     },
     "execution_count": 19,
     "metadata": {},
     "output_type": "execute_result"
    }
   ],
   "source": [
    "detenido_velocidad(81,False)"
   ]
  },
  {
   "cell_type": "code",
   "execution_count": 20,
   "metadata": {},
   "outputs": [
    {
     "data": {
      "text/plain": [
       "'Sin ticket'"
      ]
     },
     "execution_count": 20,
     "metadata": {},
     "output_type": "execute_result"
    }
   ],
   "source": [
    "detenido_velocidad(50,False)"
   ]
  },
  {
   "cell_type": "markdown",
   "metadata": {},
   "source": [
    "# Buen trabajo!"
   ]
  }
 ],
 "metadata": {
  "kernelspec": {
   "display_name": "Python 3 (ipykernel)",
   "language": "python",
   "name": "python3"
  },
  "language_info": {
   "codemirror_mode": {
    "name": "ipython",
    "version": 3
   },
   "file_extension": ".py",
   "mimetype": "text/x-python",
   "name": "python",
   "nbconvert_exporter": "python",
   "pygments_lexer": "ipython3",
   "version": "3.9.13"
  }
 },
 "nbformat": 4,
 "nbformat_minor": 2
}
