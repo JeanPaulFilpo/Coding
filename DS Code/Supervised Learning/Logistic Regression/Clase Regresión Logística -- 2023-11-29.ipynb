{
 "cells": [
  {
   "cell_type": "code",
   "execution_count": 1,
   "id": "55b88d7a",
   "metadata": {},
   "outputs": [],
   "source": [
    "#Importemos las librerías\n",
    "import pandas as pd\n",
    "import numpy as np\n",
    "import matplotlib.pyplot as plt\n",
    "import seaborn as sns"
   ]
  },
  {
   "cell_type": "code",
   "execution_count": 2,
   "id": "6ce3b042",
   "metadata": {},
   "outputs": [],
   "source": [
    "#Ahora importemos el dataset de Titanic\n",
    "df = pd.read_csv('titanic_train.csv')\n"
   ]
  },
  {
   "cell_type": "code",
   "execution_count": 3,
   "id": "829881ae",
   "metadata": {},
   "outputs": [
    {
     "data": {
      "text/html": [
       "<div>\n",
       "<style scoped>\n",
       "    .dataframe tbody tr th:only-of-type {\n",
       "        vertical-align: middle;\n",
       "    }\n",
       "\n",
       "    .dataframe tbody tr th {\n",
       "        vertical-align: top;\n",
       "    }\n",
       "\n",
       "    .dataframe thead th {\n",
       "        text-align: right;\n",
       "    }\n",
       "</style>\n",
       "<table border=\"1\" class=\"dataframe\">\n",
       "  <thead>\n",
       "    <tr style=\"text-align: right;\">\n",
       "      <th></th>\n",
       "      <th>PassengerId</th>\n",
       "      <th>Survived</th>\n",
       "      <th>Pclass</th>\n",
       "      <th>Name</th>\n",
       "      <th>Sex</th>\n",
       "      <th>Age</th>\n",
       "      <th>SibSp</th>\n",
       "      <th>Parch</th>\n",
       "      <th>Ticket</th>\n",
       "      <th>Fare</th>\n",
       "      <th>Cabin</th>\n",
       "      <th>Embarked</th>\n",
       "    </tr>\n",
       "  </thead>\n",
       "  <tbody>\n",
       "    <tr>\n",
       "      <th>0</th>\n",
       "      <td>1</td>\n",
       "      <td>0</td>\n",
       "      <td>3</td>\n",
       "      <td>Braund, Mr. Owen Harris</td>\n",
       "      <td>male</td>\n",
       "      <td>22.0</td>\n",
       "      <td>1</td>\n",
       "      <td>0</td>\n",
       "      <td>A/5 21171</td>\n",
       "      <td>7.2500</td>\n",
       "      <td>NaN</td>\n",
       "      <td>S</td>\n",
       "    </tr>\n",
       "    <tr>\n",
       "      <th>1</th>\n",
       "      <td>2</td>\n",
       "      <td>1</td>\n",
       "      <td>1</td>\n",
       "      <td>Cumings, Mrs. John Bradley (Florence Briggs Th...</td>\n",
       "      <td>female</td>\n",
       "      <td>38.0</td>\n",
       "      <td>1</td>\n",
       "      <td>0</td>\n",
       "      <td>PC 17599</td>\n",
       "      <td>71.2833</td>\n",
       "      <td>C85</td>\n",
       "      <td>C</td>\n",
       "    </tr>\n",
       "    <tr>\n",
       "      <th>2</th>\n",
       "      <td>3</td>\n",
       "      <td>1</td>\n",
       "      <td>3</td>\n",
       "      <td>Heikkinen, Miss. Laina</td>\n",
       "      <td>female</td>\n",
       "      <td>26.0</td>\n",
       "      <td>0</td>\n",
       "      <td>0</td>\n",
       "      <td>STON/O2. 3101282</td>\n",
       "      <td>7.9250</td>\n",
       "      <td>NaN</td>\n",
       "      <td>S</td>\n",
       "    </tr>\n",
       "    <tr>\n",
       "      <th>3</th>\n",
       "      <td>4</td>\n",
       "      <td>1</td>\n",
       "      <td>1</td>\n",
       "      <td>Futrelle, Mrs. Jacques Heath (Lily May Peel)</td>\n",
       "      <td>female</td>\n",
       "      <td>35.0</td>\n",
       "      <td>1</td>\n",
       "      <td>0</td>\n",
       "      <td>113803</td>\n",
       "      <td>53.1000</td>\n",
       "      <td>C123</td>\n",
       "      <td>S</td>\n",
       "    </tr>\n",
       "    <tr>\n",
       "      <th>4</th>\n",
       "      <td>5</td>\n",
       "      <td>0</td>\n",
       "      <td>3</td>\n",
       "      <td>Allen, Mr. William Henry</td>\n",
       "      <td>male</td>\n",
       "      <td>35.0</td>\n",
       "      <td>0</td>\n",
       "      <td>0</td>\n",
       "      <td>373450</td>\n",
       "      <td>8.0500</td>\n",
       "      <td>NaN</td>\n",
       "      <td>S</td>\n",
       "    </tr>\n",
       "  </tbody>\n",
       "</table>\n",
       "</div>"
      ],
      "text/plain": [
       "   PassengerId  Survived  Pclass  \\\n",
       "0            1         0       3   \n",
       "1            2         1       1   \n",
       "2            3         1       3   \n",
       "3            4         1       1   \n",
       "4            5         0       3   \n",
       "\n",
       "                                                Name     Sex   Age  SibSp  \\\n",
       "0                            Braund, Mr. Owen Harris    male  22.0      1   \n",
       "1  Cumings, Mrs. John Bradley (Florence Briggs Th...  female  38.0      1   \n",
       "2                             Heikkinen, Miss. Laina  female  26.0      0   \n",
       "3       Futrelle, Mrs. Jacques Heath (Lily May Peel)  female  35.0      1   \n",
       "4                           Allen, Mr. William Henry    male  35.0      0   \n",
       "\n",
       "   Parch            Ticket     Fare Cabin Embarked  \n",
       "0      0         A/5 21171   7.2500   NaN        S  \n",
       "1      0          PC 17599  71.2833   C85        C  \n",
       "2      0  STON/O2. 3101282   7.9250   NaN        S  \n",
       "3      0            113803  53.1000  C123        S  \n",
       "4      0            373450   8.0500   NaN        S  "
      ]
     },
     "execution_count": 3,
     "metadata": {},
     "output_type": "execute_result"
    }
   ],
   "source": [
    "df.head()"
   ]
  },
  {
   "cell_type": "code",
   "execution_count": 4,
   "id": "8142bfe8",
   "metadata": {},
   "outputs": [
    {
     "name": "stdout",
     "output_type": "stream",
     "text": [
      "<class 'pandas.core.frame.DataFrame'>\n",
      "RangeIndex: 891 entries, 0 to 890\n",
      "Data columns (total 12 columns):\n",
      " #   Column       Non-Null Count  Dtype  \n",
      "---  ------       --------------  -----  \n",
      " 0   PassengerId  891 non-null    int64  \n",
      " 1   Survived     891 non-null    int64  \n",
      " 2   Pclass       891 non-null    int64  \n",
      " 3   Name         891 non-null    object \n",
      " 4   Sex          891 non-null    object \n",
      " 5   Age          714 non-null    float64\n",
      " 6   SibSp        891 non-null    int64  \n",
      " 7   Parch        891 non-null    int64  \n",
      " 8   Ticket       891 non-null    object \n",
      " 9   Fare         891 non-null    float64\n",
      " 10  Cabin        204 non-null    object \n",
      " 11  Embarked     889 non-null    object \n",
      "dtypes: float64(2), int64(5), object(5)\n",
      "memory usage: 83.7+ KB\n"
     ]
    }
   ],
   "source": [
    "df.info()"
   ]
  },
  {
   "cell_type": "code",
   "execution_count": 5,
   "id": "7deb4d5e",
   "metadata": {},
   "outputs": [
    {
     "data": {
      "text/plain": [
       "PassengerId      0\n",
       "Survived         0\n",
       "Pclass           0\n",
       "Name             0\n",
       "Sex              0\n",
       "Age            177\n",
       "SibSp            0\n",
       "Parch            0\n",
       "Ticket           0\n",
       "Fare             0\n",
       "Cabin          687\n",
       "Embarked         2\n",
       "dtype: int64"
      ]
     },
     "execution_count": 5,
     "metadata": {},
     "output_type": "execute_result"
    }
   ],
   "source": [
    "df.isnull().sum() #También podríamos usar df.isna().sum()"
   ]
  },
  {
   "cell_type": "code",
   "execution_count": 6,
   "id": "c5b3a8e1",
   "metadata": {},
   "outputs": [
    {
     "data": {
      "text/plain": [
       "PassengerId     0.000000\n",
       "Survived        0.000000\n",
       "Pclass          0.000000\n",
       "Name            0.000000\n",
       "Sex             0.000000\n",
       "Age            19.865320\n",
       "SibSp           0.000000\n",
       "Parch           0.000000\n",
       "Ticket          0.000000\n",
       "Fare            0.000000\n",
       "Cabin          77.104377\n",
       "Embarked        0.224467\n",
       "dtype: float64"
      ]
     },
     "execution_count": 6,
     "metadata": {},
     "output_type": "execute_result"
    }
   ],
   "source": [
    "#A veces es mejor considerar el porcentaje de valores nulos\n",
    "df.isnull().sum()/len(df) * 100"
   ]
  },
  {
   "cell_type": "code",
   "execution_count": 7,
   "id": "b82a524a",
   "metadata": {},
   "outputs": [
    {
     "data": {
      "text/plain": [
       "<Axes: >"
      ]
     },
     "execution_count": 7,
     "metadata": {},
     "output_type": "execute_result"
    },
    {
     "data": {
      "image/png": "[encoded data removed]",
      "text/plain": [
       "<Figure size 640x480 with 1 Axes>"
      ]
     },
     "metadata": {},
     "output_type": "display_data"
    }
   ],
   "source": [
    "sns.heatmap(df.isnull(), yticklabels = False, cbar = False, cmap = 'viridis')"
   ]
  },
  {
   "cell_type": "code",
   "execution_count": 8,
   "id": "f5b4c389",
   "metadata": {},
   "outputs": [
    {
     "data": {
      "text/plain": [
       "<Axes: xlabel='Pclass', ylabel='Age'>"
      ]
     },
     "execution_count": 8,
     "metadata": {},
     "output_type": "execute_result"
    },
    {
     "data": {
      "image/png": "[encoded data removed]",
      "text/plain": [
       "<Figure size 640x480 with 1 Axes>"
      ]
     },
     "metadata": {},
     "output_type": "display_data"
    }
   ],
   "source": [
    "sns.boxplot(x = 'Pclass', y='Age', data=df)"
   ]
  },
  {
   "cell_type": "code",
   "execution_count": 9,
   "id": "1b3c1e9f",
   "metadata": {},
   "outputs": [
    {
     "name": "stderr",
     "output_type": "stream",
     "text": [
      "C:\\Users\\jeanp\\AppData\\Local\\Temp\\ipykernel_33368\\328810730.py:1: FutureWarning: The default value of numeric_only in DataFrameGroupBy.mean is deprecated. In a future version, numeric_only will default to False. Either specify numeric_only or select only columns which should be valid for the function.\n",
      "  df.groupby('Pclass').mean()['Age']\n"
     ]
    },
    {
     "data": {
      "text/plain": [
       "Pclass\n",
       "1    38.233441\n",
       "2    29.877630\n",
       "3    25.140620\n",
       "Name: Age, dtype: float64"
      ]
     },
     "execution_count": 9,
     "metadata": {},
     "output_type": "execute_result"
    }
   ],
   "source": [
    "df.groupby('Pclass').mean()['Age']"
   ]
  },
  {
   "cell_type": "code",
   "execution_count": 10,
   "id": "7c9c44db",
   "metadata": {},
   "outputs": [],
   "source": [
    "def imputar_edad(columnas):\n",
    "    \n",
    "    edad = columnas[0]\n",
    "    clase = columnas[1]\n",
    "    \n",
    "    if pd.isnull(edad):\n",
    "        if clase == 1:\n",
    "            return 38\n",
    "        elif clase==2:\n",
    "            return 30\n",
    "        else:\n",
    "            return 25\n",
    "    else:\n",
    "        return edad"
   ]
  },
  {
   "cell_type": "code",
   "execution_count": 11,
   "id": "574c97d4",
   "metadata": {},
   "outputs": [],
   "source": [
    "df['Age'] = df[['Age','Pclass']].apply(imputar_edad, axis=1)"
   ]
  },
  {
   "cell_type": "code",
   "execution_count": 12,
   "id": "573e9d2a",
   "metadata": {},
   "outputs": [
    {
     "data": {
      "text/plain": [
       "<Axes: >"
      ]
     },
     "execution_count": 12,
     "metadata": {},
     "output_type": "execute_result"
    },
    {
     "data": {
      "image/png": "[encoded data removed]",
      "text/plain": [
       "<Figure size 640x480 with 1 Axes>"
      ]
     },
     "metadata": {},
     "output_type": "display_data"
    }
   ],
   "source": [
    "sns.heatmap(df.isnull(), yticklabels = False, cbar = False, cmap = 'viridis')"
   ]
  },
  {
   "cell_type": "code",
   "execution_count": 13,
   "id": "5eacea09",
   "metadata": {},
   "outputs": [],
   "source": [
    "df.drop(columns = ['Cabin'], inplace=True)"
   ]
  },
  {
   "cell_type": "code",
   "execution_count": 15,
   "id": "b8074a51",
   "metadata": {},
   "outputs": [
    {
     "name": "stdout",
     "output_type": "stream",
     "text": [
      "<class 'pandas.core.frame.DataFrame'>\n",
      "RangeIndex: 891 entries, 0 to 890\n",
      "Data columns (total 11 columns):\n",
      " #   Column       Non-Null Count  Dtype  \n",
      "---  ------       --------------  -----  \n",
      " 0   PassengerId  891 non-null    int64  \n",
      " 1   Survived     891 non-null    int64  \n",
      " 2   Pclass       891 non-null    int64  \n",
      " 3   Name         891 non-null    object \n",
      " 4   Sex          891 non-null    object \n",
      " 5   Age          891 non-null    float64\n",
      " 6   SibSp        891 non-null    int64  \n",
      " 7   Parch        891 non-null    int64  \n",
      " 8   Ticket       891 non-null    object \n",
      " 9   Fare         891 non-null    float64\n",
      " 10  Embarked     889 non-null    object \n",
      "dtypes: float64(2), int64(5), object(4)\n",
      "memory usage: 76.7+ KB\n"
     ]
    }
   ],
   "source": [
    "df.info()"
   ]
  },
  {
   "cell_type": "code",
   "execution_count": 16,
   "id": "f49b44ff",
   "metadata": {},
   "outputs": [
    {
     "name": "stdout",
     "output_type": "stream",
     "text": [
      "<class 'pandas.core.frame.DataFrame'>\n",
      "Int64Index: 889 entries, 0 to 890\n",
      "Data columns (total 11 columns):\n",
      " #   Column       Non-Null Count  Dtype  \n",
      "---  ------       --------------  -----  \n",
      " 0   PassengerId  889 non-null    int64  \n",
      " 1   Survived     889 non-null    int64  \n",
      " 2   Pclass       889 non-null    int64  \n",
      " 3   Name         889 non-null    object \n",
      " 4   Sex          889 non-null    object \n",
      " 5   Age          889 non-null    float64\n",
      " 6   SibSp        889 non-null    int64  \n",
      " 7   Parch        889 non-null    int64  \n",
      " 8   Ticket       889 non-null    object \n",
      " 9   Fare         889 non-null    float64\n",
      " 10  Embarked     889 non-null    object \n",
      "dtypes: float64(2), int64(5), object(4)\n",
      "memory usage: 83.3+ KB\n"
     ]
    }
   ],
   "source": [
    "df.dropna().info()"
   ]
  },
  {
   "cell_type": "code",
   "execution_count": 17,
   "id": "21420159",
   "metadata": {},
   "outputs": [
    {
     "name": "stdout",
     "output_type": "stream",
     "text": [
      "<class 'pandas.core.frame.DataFrame'>\n",
      "RangeIndex: 889 entries, 0 to 888\n",
      "Data columns (total 11 columns):\n",
      " #   Column       Non-Null Count  Dtype  \n",
      "---  ------       --------------  -----  \n",
      " 0   PassengerId  889 non-null    int64  \n",
      " 1   Survived     889 non-null    int64  \n",
      " 2   Pclass       889 non-null    int64  \n",
      " 3   Name         889 non-null    object \n",
      " 4   Sex          889 non-null    object \n",
      " 5   Age          889 non-null    float64\n",
      " 6   SibSp        889 non-null    int64  \n",
      " 7   Parch        889 non-null    int64  \n",
      " 8   Ticket       889 non-null    object \n",
      " 9   Fare         889 non-null    float64\n",
      " 10  Embarked     889 non-null    object \n",
      "dtypes: float64(2), int64(5), object(4)\n",
      "memory usage: 76.5+ KB\n"
     ]
    }
   ],
   "source": [
    "df.dropna(inplace = True)\n",
    "df.reset_index(drop = True, inplace = True)\n",
    "df.info()"
   ]
  },
  {
   "cell_type": "code",
   "execution_count": 20,
   "id": "3b515c38",
   "metadata": {},
   "outputs": [],
   "source": [
    "#Vamos a prepararnos para entrenar el modelo\n",
    "columnas_eliminar = ['PassengerId','Survived','Name', 'Ticket']\n",
    "\n",
    "X = df.drop(columns = columnas_eliminar)\n",
    "y = df['Survived']"
   ]
  },
  {
   "cell_type": "code",
   "execution_count": 21,
   "id": "768a616c",
   "metadata": {},
   "outputs": [],
   "source": [
    "from sklearn.model_selection import train_test_split"
   ]
  },
  {
   "cell_type": "code",
   "execution_count": 22,
   "id": "cee67d99",
   "metadata": {},
   "outputs": [],
   "source": [
    "X_train, X_test, y_train, y_test = train_test_split(X, y, test_size=0.30, random_state=101)"
   ]
  },
  {
   "cell_type": "code",
   "execution_count": 23,
   "id": "70c29c2f",
   "metadata": {},
   "outputs": [],
   "source": [
    "#Ahora, lidiemos con las variables categóricas; para regresión logística, las magnitudes no son tan importantes\n",
    "from sklearn.compose import make_column_selector, make_column_transformer\n",
    "from sklearn.preprocessing import OneHotEncoder, StandardScaler"
   ]
  },
  {
   "cell_type": "code",
   "execution_count": 24,
   "id": "18d6a084",
   "metadata": {},
   "outputs": [],
   "source": [
    "cat_selector = make_column_selector(dtype_include = 'object')\n",
    "num_selector = make_column_selector(dtype_include = 'number')"
   ]
  },
  {
   "cell_type": "code",
   "execution_count": 25,
   "id": "7b34682e",
   "metadata": {},
   "outputs": [],
   "source": [
    "scaler = StandardScaler()\n",
    "ohe = OneHotEncoder(sparse = False, handle_unknown = 'ignore')"
   ]
  },
  {
   "cell_type": "code",
   "execution_count": 26,
   "id": "e74d2e1d",
   "metadata": {},
   "outputs": [],
   "source": [
    "num_tuple = (scaler, num_selector)\n",
    "cat_tuple = (ohe, cat_selector)"
   ]
  },
  {
   "cell_type": "code",
   "execution_count": 27,
   "id": "81b81a13",
   "metadata": {},
   "outputs": [],
   "source": [
    "col_transformer = make_column_transformer(num_tuple, cat_tuple, remainder = 'passthrough')"
   ]
  },
  {
   "cell_type": "code",
   "execution_count": 28,
   "id": "115c8846",
   "metadata": {},
   "outputs": [
    {
     "name": "stderr",
     "output_type": "stream",
     "text": [
      "C:\\Users\\jeanp\\anaconda3\\lib\\site-packages\\sklearn\\preprocessing\\_encoders.py:828: FutureWarning: `sparse` was renamed to `sparse_output` in version 1.2 and will be removed in 1.4. `sparse_output` is ignored unless you leave `sparse` to its default value.\n",
      "  warnings.warn(\n"
     ]
    },
    {
     "data": {
      "text/html": [
       "<style>#sk-container-id-1 {color: black;background-color: white;}#sk-container-id-1 pre{padding: 0;}#sk-container-id-1 div.sk-toggleable {background-color: white;}#sk-container-id-1 label.sk-toggleable__label {cursor: pointer;display: block;width: 100%;margin-bottom: 0;padding: 0.3em;box-sizing: border-box;text-align: center;}#sk-container-id-1 label.sk-toggleable__label-arrow:before {content: \"▸\";float: left;margin-right: 0.25em;color: #696969;}#sk-container-id-1 label.sk-toggleable__label-arrow:hover:before {color: black;}#sk-container-id-1 div.sk-estimator:hover label.sk-toggleable__label-arrow:before {color: black;}#sk-container-id-1 div.sk-toggleable__content {max-height: 0;max-width: 0;overflow: hidden;text-align: left;background-color: #f0f8ff;}#sk-container-id-1 div.sk-toggleable__content pre {margin: 0.2em;color: black;border-radius: 0.25em;background-color: #f0f8ff;}#sk-container-id-1 input.sk-toggleable__control:checked~div.sk-toggleable__content {max-height: 200px;max-width: 100%;overflow: auto;}#sk-container-id-1 input.sk-toggleable__control:checked~label.sk-toggleable__label-arrow:before {content: \"▾\";}#sk-container-id-1 div.sk-estimator input.sk-toggleable__control:checked~label.sk-toggleable__label {background-color: #d4ebff;}#sk-container-id-1 div.sk-label input.sk-toggleable__control:checked~label.sk-toggleable__label {background-color: #d4ebff;}#sk-container-id-1 input.sk-hidden--visually {border: 0;clip: rect(1px 1px 1px 1px);clip: rect(1px, 1px, 1px, 1px);height: 1px;margin: -1px;overflow: hidden;padding: 0;position: absolute;width: 1px;}#sk-container-id-1 div.sk-estimator {font-family: monospace;background-color: #f0f8ff;border: 1px dotted black;border-radius: 0.25em;box-sizing: border-box;margin-bottom: 0.5em;}#sk-container-id-1 div.sk-estimator:hover {background-color: #d4ebff;}#sk-container-id-1 div.sk-parallel-item::after {content: \"\";width: 100%;border-bottom: 1px solid gray;flex-grow: 1;}#sk-container-id-1 div.sk-label:hover label.sk-toggleable__label {background-color: #d4ebff;}#sk-container-id-1 div.sk-serial::before {content: \"\";position: absolute;border-left: 1px solid gray;box-sizing: border-box;top: 0;bottom: 0;left: 50%;z-index: 0;}#sk-container-id-1 div.sk-serial {display: flex;flex-direction: column;align-items: center;background-color: white;padding-right: 0.2em;padding-left: 0.2em;position: relative;}#sk-container-id-1 div.sk-item {position: relative;z-index: 1;}#sk-container-id-1 div.sk-parallel {display: flex;align-items: stretch;justify-content: center;background-color: white;position: relative;}#sk-container-id-1 div.sk-item::before, #sk-container-id-1 div.sk-parallel-item::before {content: \"\";position: absolute;border-left: 1px solid gray;box-sizing: border-box;top: 0;bottom: 0;left: 50%;z-index: -1;}#sk-container-id-1 div.sk-parallel-item {display: flex;flex-direction: column;z-index: 1;position: relative;background-color: white;}#sk-container-id-1 div.sk-parallel-item:first-child::after {align-self: flex-end;width: 50%;}#sk-container-id-1 div.sk-parallel-item:last-child::after {align-self: flex-start;width: 50%;}#sk-container-id-1 div.sk-parallel-item:only-child::after {width: 0;}#sk-container-id-1 div.sk-dashed-wrapped {border: 1px dashed gray;margin: 0 0.4em 0.5em 0.4em;box-sizing: border-box;padding-bottom: 0.4em;background-color: white;}#sk-container-id-1 div.sk-label label {font-family: monospace;font-weight: bold;display: inline-block;line-height: 1.2em;}#sk-container-id-1 div.sk-label-container {text-align: center;}#sk-container-id-1 div.sk-container {/* jupyter's `normalize.less` sets `[hidden] { display: none; }` but bootstrap.min.css set `[hidden] { display: none !important; }` so we also need the `!important` here to be able to override the default hidden behavior on the sphinx rendered scikit-learn.org. See: https://github.com/scikit-learn/scikit-learn/issues/21755 */display: inline-block !important;position: relative;}#sk-container-id-1 div.sk-text-repr-fallback {display: none;}</style><div id=\"sk-container-id-1\" class=\"sk-top-container\"><div class=\"sk-text-repr-fallback\"><pre>ColumnTransformer(remainder=&#x27;passthrough&#x27;,\n",
       "                  transformers=[(&#x27;standardscaler&#x27;, StandardScaler(),\n",
       "                                 &lt;sklearn.compose._column_transformer.make_column_selector object at 0x000001B3D47721D0&gt;),\n",
       "                                (&#x27;onehotencoder&#x27;,\n",
       "                                 OneHotEncoder(handle_unknown=&#x27;ignore&#x27;,\n",
       "                                               sparse=False),\n",
       "                                 &lt;sklearn.compose._column_transformer.make_column_selector object at 0x000001B3D4771D50&gt;)])</pre><b>In a Jupyter environment, please rerun this cell to show the HTML representation or trust the notebook. <br />On GitHub, the HTML representation is unable to render, please try loading this page with nbviewer.org.</b></div><div class=\"sk-container\" hidden><div class=\"sk-item sk-dashed-wrapped\"><div class=\"sk-label-container\"><div class=\"sk-label sk-toggleable\"><input class=\"sk-toggleable__control sk-hidden--visually\" id=\"sk-estimator-id-1\" type=\"checkbox\" ><label for=\"sk-estimator-id-1\" class=\"sk-toggleable__label sk-toggleable__label-arrow\">ColumnTransformer</label><div class=\"sk-toggleable__content\"><pre>ColumnTransformer(remainder=&#x27;passthrough&#x27;,\n",
       "                  transformers=[(&#x27;standardscaler&#x27;, StandardScaler(),\n",
       "                                 &lt;sklearn.compose._column_transformer.make_column_selector object at 0x000001B3D47721D0&gt;),\n",
       "                                (&#x27;onehotencoder&#x27;,\n",
       "                                 OneHotEncoder(handle_unknown=&#x27;ignore&#x27;,\n",
       "                                               sparse=False),\n",
       "                                 &lt;sklearn.compose._column_transformer.make_column_selector object at 0x000001B3D4771D50&gt;)])</pre></div></div></div><div class=\"sk-parallel\"><div class=\"sk-parallel-item\"><div class=\"sk-item\"><div class=\"sk-label-container\"><div class=\"sk-label sk-toggleable\"><input class=\"sk-toggleable__control sk-hidden--visually\" id=\"sk-estimator-id-2\" type=\"checkbox\" ><label for=\"sk-estimator-id-2\" class=\"sk-toggleable__label sk-toggleable__label-arrow\">standardscaler</label><div class=\"sk-toggleable__content\"><pre>&lt;sklearn.compose._column_transformer.make_column_selector object at 0x000001B3D47721D0&gt;</pre></div></div></div><div class=\"sk-serial\"><div class=\"sk-item\"><div class=\"sk-estimator sk-toggleable\"><input class=\"sk-toggleable__control sk-hidden--visually\" id=\"sk-estimator-id-3\" type=\"checkbox\" ><label for=\"sk-estimator-id-3\" class=\"sk-toggleable__label sk-toggleable__label-arrow\">StandardScaler</label><div class=\"sk-toggleable__content\"><pre>StandardScaler()</pre></div></div></div></div></div></div><div class=\"sk-parallel-item\"><div class=\"sk-item\"><div class=\"sk-label-container\"><div class=\"sk-label sk-toggleable\"><input class=\"sk-toggleable__control sk-hidden--visually\" id=\"sk-estimator-id-4\" type=\"checkbox\" ><label for=\"sk-estimator-id-4\" class=\"sk-toggleable__label sk-toggleable__label-arrow\">onehotencoder</label><div class=\"sk-toggleable__content\"><pre>&lt;sklearn.compose._column_transformer.make_column_selector object at 0x000001B3D4771D50&gt;</pre></div></div></div><div class=\"sk-serial\"><div class=\"sk-item\"><div class=\"sk-estimator sk-toggleable\"><input class=\"sk-toggleable__control sk-hidden--visually\" id=\"sk-estimator-id-5\" type=\"checkbox\" ><label for=\"sk-estimator-id-5\" class=\"sk-toggleable__label sk-toggleable__label-arrow\">OneHotEncoder</label><div class=\"sk-toggleable__content\"><pre>OneHotEncoder(handle_unknown=&#x27;ignore&#x27;, sparse=False)</pre></div></div></div></div></div></div><div class=\"sk-parallel-item\"><div class=\"sk-item\"><div class=\"sk-label-container\"><div class=\"sk-label sk-toggleable\"><input class=\"sk-toggleable__control sk-hidden--visually\" id=\"sk-estimator-id-6\" type=\"checkbox\" ><label for=\"sk-estimator-id-6\" class=\"sk-toggleable__label sk-toggleable__label-arrow\">remainder</label><div class=\"sk-toggleable__content\"><pre>[]</pre></div></div></div><div class=\"sk-serial\"><div class=\"sk-item\"><div class=\"sk-estimator sk-toggleable\"><input class=\"sk-toggleable__control sk-hidden--visually\" id=\"sk-estimator-id-7\" type=\"checkbox\" ><label for=\"sk-estimator-id-7\" class=\"sk-toggleable__label sk-toggleable__label-arrow\">passthrough</label><div class=\"sk-toggleable__content\"><pre>passthrough</pre></div></div></div></div></div></div></div></div></div></div>"
      ],
      "text/plain": [
       "ColumnTransformer(remainder='passthrough',\n",
       "                  transformers=[('standardscaler', StandardScaler(),\n",
       "                                 <sklearn.compose._column_transformer.make_column_selector object at 0x000001B3D47721D0>),\n",
       "                                ('onehotencoder',\n",
       "                                 OneHotEncoder(handle_unknown='ignore',\n",
       "                                               sparse=False),\n",
       "                                 <sklearn.compose._column_transformer.make_column_selector object at 0x000001B3D4771D50>)])"
      ]
     },
     "execution_count": 28,
     "metadata": {},
     "output_type": "execute_result"
    }
   ],
   "source": [
    "col_transformer.fit(X_train)"
   ]
  },
  {
   "cell_type": "code",
   "execution_count": 29,
   "id": "0b37bb12",
   "metadata": {},
   "outputs": [],
   "source": [
    "X_train_preprocesadas = col_transformer.transform(X_train)\n",
    "X_test_preprocesadas = col_transformer.transform(X_test)"
   ]
  },
  {
   "cell_type": "code",
   "execution_count": 30,
   "id": "a9f82182",
   "metadata": {},
   "outputs": [
    {
     "data": {
      "text/plain": [
       "array(['standardscaler__Pclass', 'standardscaler__Age',\n",
       "       'standardscaler__SibSp', 'standardscaler__Parch',\n",
       "       'standardscaler__Fare', 'onehotencoder__Sex_female',\n",
       "       'onehotencoder__Sex_male', 'onehotencoder__Embarked_C',\n",
       "       'onehotencoder__Embarked_Q', 'onehotencoder__Embarked_S'],\n",
       "      dtype=object)"
      ]
     },
     "execution_count": 30,
     "metadata": {},
     "output_type": "execute_result"
    }
   ],
   "source": [
    "col_transformer.get_feature_names_out()"
   ]
  },
  {
   "cell_type": "code",
   "execution_count": 31,
   "id": "e50c436d",
   "metadata": {},
   "outputs": [
    {
     "data": {
      "text/plain": [
       "['Pclass',\n",
       " 'Age',\n",
       " 'SibSp',\n",
       " 'Parch',\n",
       " 'Fare',\n",
       " 'Sex_female',\n",
       " 'Sex_male',\n",
       " 'Embarked_C',\n",
       " 'Embarked_Q',\n",
       " 'Embarked_S']"
      ]
     },
     "execution_count": 31,
     "metadata": {},
     "output_type": "execute_result"
    }
   ],
   "source": [
    "variables = []\n",
    "\n",
    "for nombre_variable in list(col_transformer.get_feature_names_out()):\n",
    "    \n",
    "    nombre_variable_correcto = nombre_variable.replace('standardscaler__', '').replace('onehotencoder__','').replace('remainder__','')\n",
    "    \n",
    "    variables.append(nombre_variable_correcto)\n",
    "    \n",
    "variables"
   ]
  },
  {
   "cell_type": "code",
   "execution_count": 32,
   "id": "c32293ed",
   "metadata": {},
   "outputs": [],
   "source": [
    "X_train_df = pd.DataFrame(X_train_preprocesadas, columns = variables, index = X_train.index)\n",
    "X_test_df = pd.DataFrame(X_test_preprocesadas, columns = variables, index = X_test.index)"
   ]
  },
  {
   "cell_type": "code",
   "execution_count": 33,
   "id": "7c2aaebc",
   "metadata": {},
   "outputs": [
    {
     "data": {
      "text/html": [
       "<div>\n",
       "<style scoped>\n",
       "    .dataframe tbody tr th:only-of-type {\n",
       "        vertical-align: middle;\n",
       "    }\n",
       "\n",
       "    .dataframe tbody tr th {\n",
       "        vertical-align: top;\n",
       "    }\n",
       "\n",
       "    .dataframe thead th {\n",
       "        text-align: right;\n",
       "    }\n",
       "</style>\n",
       "<table border=\"1\" class=\"dataframe\">\n",
       "  <thead>\n",
       "    <tr style=\"text-align: right;\">\n",
       "      <th></th>\n",
       "      <th>Pclass</th>\n",
       "      <th>Age</th>\n",
       "      <th>SibSp</th>\n",
       "      <th>Parch</th>\n",
       "      <th>Fare</th>\n",
       "      <th>Sex_female</th>\n",
       "      <th>Sex_male</th>\n",
       "      <th>Embarked_C</th>\n",
       "      <th>Embarked_Q</th>\n",
       "      <th>Embarked_S</th>\n",
       "    </tr>\n",
       "  </thead>\n",
       "  <tbody>\n",
       "    <tr>\n",
       "      <th>806</th>\n",
       "      <td>0.825812</td>\n",
       "      <td>-0.876228</td>\n",
       "      <td>-0.484080</td>\n",
       "      <td>-0.466368</td>\n",
       "      <td>-0.481863</td>\n",
       "      <td>1.0</td>\n",
       "      <td>0.0</td>\n",
       "      <td>0.0</td>\n",
       "      <td>0.0</td>\n",
       "      <td>1.0</td>\n",
       "    </tr>\n",
       "    <tr>\n",
       "      <th>650</th>\n",
       "      <td>-0.363204</td>\n",
       "      <td>-0.876228</td>\n",
       "      <td>-0.484080</td>\n",
       "      <td>0.768019</td>\n",
       "      <td>-0.184331</td>\n",
       "      <td>1.0</td>\n",
       "      <td>0.0</td>\n",
       "      <td>0.0</td>\n",
       "      <td>0.0</td>\n",
       "      <td>1.0</td>\n",
       "    </tr>\n",
       "    <tr>\n",
       "      <th>2</th>\n",
       "      <td>0.825812</td>\n",
       "      <td>-0.253644</td>\n",
       "      <td>-0.484080</td>\n",
       "      <td>-0.466368</td>\n",
       "      <td>-0.478932</td>\n",
       "      <td>1.0</td>\n",
       "      <td>0.0</td>\n",
       "      <td>0.0</td>\n",
       "      <td>0.0</td>\n",
       "      <td>1.0</td>\n",
       "    </tr>\n",
       "    <tr>\n",
       "      <th>689</th>\n",
       "      <td>-1.552221</td>\n",
       "      <td>0.135471</td>\n",
       "      <td>0.439533</td>\n",
       "      <td>-0.466368</td>\n",
       "      <td>0.480109</td>\n",
       "      <td>0.0</td>\n",
       "      <td>1.0</td>\n",
       "      <td>0.0</td>\n",
       "      <td>0.0</td>\n",
       "      <td>1.0</td>\n",
       "    </tr>\n",
       "    <tr>\n",
       "      <th>195</th>\n",
       "      <td>0.825812</td>\n",
       "      <td>-0.331467</td>\n",
       "      <td>-0.484080</td>\n",
       "      <td>-0.466368</td>\n",
       "      <td>-0.482352</td>\n",
       "      <td>0.0</td>\n",
       "      <td>1.0</td>\n",
       "      <td>0.0</td>\n",
       "      <td>1.0</td>\n",
       "      <td>0.0</td>\n",
       "    </tr>\n",
       "  </tbody>\n",
       "</table>\n",
       "</div>"
      ],
      "text/plain": [
       "       Pclass       Age     SibSp     Parch      Fare  Sex_female  Sex_male  \\\n",
       "806  0.825812 -0.876228 -0.484080 -0.466368 -0.481863         1.0       0.0   \n",
       "650 -0.363204 -0.876228 -0.484080  0.768019 -0.184331         1.0       0.0   \n",
       "2    0.825812 -0.253644 -0.484080 -0.466368 -0.478932         1.0       0.0   \n",
       "689 -1.552221  0.135471  0.439533 -0.466368  0.480109         0.0       1.0   \n",
       "195  0.825812 -0.331467 -0.484080 -0.466368 -0.482352         0.0       1.0   \n",
       "\n",
       "     Embarked_C  Embarked_Q  Embarked_S  \n",
       "806         0.0         0.0         1.0  \n",
       "650         0.0         0.0         1.0  \n",
       "2           0.0         0.0         1.0  \n",
       "689         0.0         0.0         1.0  \n",
       "195         0.0         1.0         0.0  "
      ]
     },
     "execution_count": 33,
     "metadata": {},
     "output_type": "execute_result"
    }
   ],
   "source": [
    "X_train_df.head()"
   ]
  },
  {
   "cell_type": "code",
   "execution_count": 34,
   "id": "5f041007",
   "metadata": {},
   "outputs": [],
   "source": [
    "#Pasemos a entrenar el modelo:\n",
    "from sklearn.linear_model import LogisticRegression"
   ]
  },
  {
   "cell_type": "code",
   "execution_count": 35,
   "id": "9b8467b3",
   "metadata": {},
   "outputs": [
    {
     "data": {
      "text/html": [
       "<style>#sk-container-id-2 {color: black;background-color: white;}#sk-container-id-2 pre{padding: 0;}#sk-container-id-2 div.sk-toggleable {background-color: white;}#sk-container-id-2 label.sk-toggleable__label {cursor: pointer;display: block;width: 100%;margin-bottom: 0;padding: 0.3em;box-sizing: border-box;text-align: center;}#sk-container-id-2 label.sk-toggleable__label-arrow:before {content: \"▸\";float: left;margin-right: 0.25em;color: #696969;}#sk-container-id-2 label.sk-toggleable__label-arrow:hover:before {color: black;}#sk-container-id-2 div.sk-estimator:hover label.sk-toggleable__label-arrow:before {color: black;}#sk-container-id-2 div.sk-toggleable__content {max-height: 0;max-width: 0;overflow: hidden;text-align: left;background-color: #f0f8ff;}#sk-container-id-2 div.sk-toggleable__content pre {margin: 0.2em;color: black;border-radius: 0.25em;background-color: #f0f8ff;}#sk-container-id-2 input.sk-toggleable__control:checked~div.sk-toggleable__content {max-height: 200px;max-width: 100%;overflow: auto;}#sk-container-id-2 input.sk-toggleable__control:checked~label.sk-toggleable__label-arrow:before {content: \"▾\";}#sk-container-id-2 div.sk-estimator input.sk-toggleable__control:checked~label.sk-toggleable__label {background-color: #d4ebff;}#sk-container-id-2 div.sk-label input.sk-toggleable__control:checked~label.sk-toggleable__label {background-color: #d4ebff;}#sk-container-id-2 input.sk-hidden--visually {border: 0;clip: rect(1px 1px 1px 1px);clip: rect(1px, 1px, 1px, 1px);height: 1px;margin: -1px;overflow: hidden;padding: 0;position: absolute;width: 1px;}#sk-container-id-2 div.sk-estimator {font-family: monospace;background-color: #f0f8ff;border: 1px dotted black;border-radius: 0.25em;box-sizing: border-box;margin-bottom: 0.5em;}#sk-container-id-2 div.sk-estimator:hover {background-color: #d4ebff;}#sk-container-id-2 div.sk-parallel-item::after {content: \"\";width: 100%;border-bottom: 1px solid gray;flex-grow: 1;}#sk-container-id-2 div.sk-label:hover label.sk-toggleable__label {background-color: #d4ebff;}#sk-container-id-2 div.sk-serial::before {content: \"\";position: absolute;border-left: 1px solid gray;box-sizing: border-box;top: 0;bottom: 0;left: 50%;z-index: 0;}#sk-container-id-2 div.sk-serial {display: flex;flex-direction: column;align-items: center;background-color: white;padding-right: 0.2em;padding-left: 0.2em;position: relative;}#sk-container-id-2 div.sk-item {position: relative;z-index: 1;}#sk-container-id-2 div.sk-parallel {display: flex;align-items: stretch;justify-content: center;background-color: white;position: relative;}#sk-container-id-2 div.sk-item::before, #sk-container-id-2 div.sk-parallel-item::before {content: \"\";position: absolute;border-left: 1px solid gray;box-sizing: border-box;top: 0;bottom: 0;left: 50%;z-index: -1;}#sk-container-id-2 div.sk-parallel-item {display: flex;flex-direction: column;z-index: 1;position: relative;background-color: white;}#sk-container-id-2 div.sk-parallel-item:first-child::after {align-self: flex-end;width: 50%;}#sk-container-id-2 div.sk-parallel-item:last-child::after {align-self: flex-start;width: 50%;}#sk-container-id-2 div.sk-parallel-item:only-child::after {width: 0;}#sk-container-id-2 div.sk-dashed-wrapped {border: 1px dashed gray;margin: 0 0.4em 0.5em 0.4em;box-sizing: border-box;padding-bottom: 0.4em;background-color: white;}#sk-container-id-2 div.sk-label label {font-family: monospace;font-weight: bold;display: inline-block;line-height: 1.2em;}#sk-container-id-2 div.sk-label-container {text-align: center;}#sk-container-id-2 div.sk-container {/* jupyter's `normalize.less` sets `[hidden] { display: none; }` but bootstrap.min.css set `[hidden] { display: none !important; }` so we also need the `!important` here to be able to override the default hidden behavior on the sphinx rendered scikit-learn.org. See: https://github.com/scikit-learn/scikit-learn/issues/21755 */display: inline-block !important;position: relative;}#sk-container-id-2 div.sk-text-repr-fallback {display: none;}</style><div id=\"sk-container-id-2\" class=\"sk-top-container\"><div class=\"sk-text-repr-fallback\"><pre>LogisticRegression()</pre><b>In a Jupyter environment, please rerun this cell to show the HTML representation or trust the notebook. <br />On GitHub, the HTML representation is unable to render, please try loading this page with nbviewer.org.</b></div><div class=\"sk-container\" hidden><div class=\"sk-item\"><div class=\"sk-estimator sk-toggleable\"><input class=\"sk-toggleable__control sk-hidden--visually\" id=\"sk-estimator-id-8\" type=\"checkbox\" checked><label for=\"sk-estimator-id-8\" class=\"sk-toggleable__label sk-toggleable__label-arrow\">LogisticRegression</label><div class=\"sk-toggleable__content\"><pre>LogisticRegression()</pre></div></div></div></div></div>"
      ],
      "text/plain": [
       "LogisticRegression()"
      ]
     },
     "execution_count": 35,
     "metadata": {},
     "output_type": "execute_result"
    }
   ],
   "source": [
    "logmodel = LogisticRegression()\n",
    "\n",
    "logmodel.fit(X_train_df, y_train)"
   ]
  },
  {
   "cell_type": "code",
   "execution_count": 36,
   "id": "6141e0a1",
   "metadata": {},
   "outputs": [
    {
     "data": {
      "text/plain": [
       "array([0, 0, 1, 1, 0, 0, 0, 0, 0, 1, 1, 1, 0, 1, 0, 0, 1, 1, 1, 0, 0, 0,\n",
       "       0, 0, 0, 0, 1, 0, 0, 0, 0, 0, 0, 0, 0, 0, 1, 0, 0, 0, 1, 0, 0, 1,\n",
       "       1, 0, 1, 1, 0, 0, 0, 1, 0, 0, 0, 0, 0, 0, 0, 1, 1, 1, 1, 0, 0, 0,\n",
       "       0, 0, 0, 0, 0, 0, 1, 1, 0, 1, 0, 0, 0, 0, 0, 0, 1, 0, 0, 1, 0, 1,\n",
       "       0, 1, 1, 1, 0, 0, 0, 1, 1, 0, 0, 1, 0, 1, 0, 0, 1, 0, 1, 0, 0, 0,\n",
       "       0, 0, 1, 1, 0, 1, 0, 0, 1, 1, 0, 0, 0, 0, 0, 0, 1, 0, 1, 1, 0, 0,\n",
       "       1, 1, 0, 0, 0, 0, 1, 0, 0, 0, 0, 0, 0, 1, 0, 0, 0, 1, 0, 1, 1, 1,\n",
       "       0, 0, 1, 0, 1, 0, 0, 0, 0, 1, 0, 0, 0, 0, 0, 0, 1, 0, 1, 0, 0, 0,\n",
       "       0, 0, 1, 0, 1, 0, 0, 1, 0, 1, 1, 0, 0, 0, 0, 0, 1, 0, 0, 0, 1, 0,\n",
       "       0, 0, 0, 0, 1, 0, 1, 0, 0, 0, 0, 0, 0, 0, 1, 0, 0, 1, 1, 0, 0, 0,\n",
       "       1, 0, 0, 0, 1, 0, 0, 1, 0, 0, 1, 0, 0, 0, 1, 1, 1, 0, 1, 0, 0, 0,\n",
       "       0, 0, 1, 0, 0, 0, 1, 1, 0, 1, 0, 0, 0, 0, 0, 0, 0, 1, 1, 0, 0, 0,\n",
       "       0, 1, 1], dtype=int64)"
      ]
     },
     "execution_count": 36,
     "metadata": {},
     "output_type": "execute_result"
    }
   ],
   "source": [
    "y_pred = logmodel.predict(X_test_df)\n",
    "y_pred"
   ]
  },
  {
   "cell_type": "code",
   "execution_count": 37,
   "id": "7073c62d",
   "metadata": {},
   "outputs": [
    {
     "data": {
      "text/plain": [
       "array([[0.89396122, 0.10603878],\n",
       "       [0.87337906, 0.12662094],\n",
       "       [0.2314236 , 0.7685764 ],\n",
       "       [0.07515463, 0.92484537],\n",
       "       [0.87210116, 0.12789884],\n",
       "       [0.96755155, 0.03244845],\n",
       "       [0.88694745, 0.11305255],\n",
       "       [0.77254629, 0.22745371],\n",
       "       [0.92730707, 0.07269293],\n",
       "       [0.40703679, 0.59296321],\n",
       "       [0.21059645, 0.78940355],\n",
       "       [0.04275255, 0.95724745],\n",
       "       [0.89398292, 0.10601708],\n",
       "       [0.39147827, 0.60852173],\n",
       "       [0.89375698, 0.10624302],\n",
       "       [0.87270125, 0.12729875],\n",
       "       [0.08277982, 0.91722018],\n",
       "       [0.16246912, 0.83753088],\n",
       "       [0.44595309, 0.55404691],\n",
       "       [0.90158162, 0.09841838],\n",
       "       [0.89387498, 0.10612502],\n",
       "       [0.91391088, 0.08608912],\n",
       "       [0.59635617, 0.40364383],\n",
       "       [0.6813756 , 0.3186244 ],\n",
       "       [0.94536927, 0.05463073],\n",
       "       [0.54445378, 0.45554622],\n",
       "       [0.35709144, 0.64290856],\n",
       "       [0.50324608, 0.49675392],\n",
       "       [0.88118893, 0.11881107],\n",
       "       [0.68370589, 0.31629411],\n",
       "       [0.89931981, 0.10068019],\n",
       "       [0.75390062, 0.24609938],\n",
       "       [0.98557978, 0.01442022],\n",
       "       [0.8940175 , 0.1059825 ],\n",
       "       [0.89005098, 0.10994902],\n",
       "       [0.87053621, 0.12946379],\n",
       "       [0.28666446, 0.71333554],\n",
       "       [0.94461992, 0.05538008],\n",
       "       [0.88481505, 0.11518495],\n",
       "       [0.88605988, 0.11394012],\n",
       "       [0.45912852, 0.54087148],\n",
       "       [0.85314714, 0.14685286],\n",
       "       [0.87724464, 0.12275536],\n",
       "       [0.06256503, 0.93743497],\n",
       "       [0.37874637, 0.62125363],\n",
       "       [0.89415923, 0.10584077],\n",
       "       [0.3566344 , 0.6433656 ],\n",
       "       [0.10957825, 0.89042175],\n",
       "       [0.89882057, 0.10117943],\n",
       "       [0.72596288, 0.27403712],\n",
       "       [0.50273418, 0.49726582],\n",
       "       [0.20570258, 0.79429742],\n",
       "       [0.8344228 , 0.1655772 ],\n",
       "       [0.87237241, 0.12762759],\n",
       "       [0.89410187, 0.10589813],\n",
       "       [0.93526479, 0.06473521],\n",
       "       [0.55997975, 0.44002025],\n",
       "       [0.91847356, 0.08152644],\n",
       "       [0.90240958, 0.09759042],\n",
       "       [0.0828685 , 0.9171315 ],\n",
       "       [0.40703679, 0.59296321],\n",
       "       [0.05585138, 0.94414862],\n",
       "       [0.10742829, 0.89257171],\n",
       "       [0.91106207, 0.08893793],\n",
       "       [0.82720943, 0.17279057],\n",
       "       [0.9595856 , 0.0404144 ],\n",
       "       [0.88171691, 0.11828309],\n",
       "       [0.57474922, 0.42525078],\n",
       "       [0.95081916, 0.04918084],\n",
       "       [0.89732508, 0.10267492],\n",
       "       [0.65707776, 0.34292224],\n",
       "       [0.85544578, 0.14455422],\n",
       "       [0.3692842 , 0.6307158 ],\n",
       "       [0.11014804, 0.88985196],\n",
       "       [0.92911381, 0.07088619],\n",
       "       [0.35143715, 0.64856285],\n",
       "       [0.92462619, 0.07537381],\n",
       "       [0.85544578, 0.14455422],\n",
       "       [0.91857446, 0.08142554],\n",
       "       [0.74081965, 0.25918035],\n",
       "       [0.76122216, 0.23877784],\n",
       "       [0.62546761, 0.37453239],\n",
       "       [0.45746278, 0.54253722],\n",
       "       [0.87270125, 0.12729875],\n",
       "       [0.75245918, 0.24754082],\n",
       "       [0.38006884, 0.61993116],\n",
       "       [0.92795878, 0.07204122],\n",
       "       [0.13897684, 0.86102316],\n",
       "       [0.899453  , 0.100547  ],\n",
       "       [0.10254861, 0.89745139],\n",
       "       [0.44867161, 0.55132839],\n",
       "       [0.46620353, 0.53379647],\n",
       "       [0.91848745, 0.08151255],\n",
       "       [0.9325823 , 0.0674177 ],\n",
       "       [0.64076077, 0.35923923],\n",
       "       [0.07314796, 0.92685204],\n",
       "       [0.25666614, 0.74333386],\n",
       "       [0.66653716, 0.33346284],\n",
       "       [0.85532336, 0.14467664],\n",
       "       [0.20933062, 0.79066938],\n",
       "       [0.88694745, 0.11305255],\n",
       "       [0.09855402, 0.90144598],\n",
       "       [0.87337906, 0.12662094],\n",
       "       [0.82584621, 0.17415379],\n",
       "       [0.35906088, 0.64093912],\n",
       "       [0.89399991, 0.10600009],\n",
       "       [0.04239553, 0.95760447],\n",
       "       [0.60007066, 0.39992934],\n",
       "       [0.76326241, 0.23673759],\n",
       "       [0.60152718, 0.39847282],\n",
       "       [0.93515639, 0.06484361],\n",
       "       [0.58010204, 0.41989796],\n",
       "       [0.1527368 , 0.8472632 ],\n",
       "       [0.20205488, 0.79794512],\n",
       "       [0.89398292, 0.10601708],\n",
       "       [0.09756819, 0.90243181],\n",
       "       [0.86313288, 0.13686712],\n",
       "       [0.89841002, 0.10158998],\n",
       "       [0.22469767, 0.77530233],\n",
       "       [0.19989006, 0.80010994],\n",
       "       [0.52488964, 0.47511036],\n",
       "       [0.85810043, 0.14189957],\n",
       "       [0.90148058, 0.09851942],\n",
       "       [0.8417403 , 0.1582597 ],\n",
       "       [0.87722066, 0.12277934],\n",
       "       [0.70209197, 0.29790803],\n",
       "       [0.23277463, 0.76722537],\n",
       "       [0.53763217, 0.46236783],\n",
       "       [0.10752315, 0.89247685],\n",
       "       [0.31530149, 0.68469851],\n",
       "       [0.77319783, 0.22680217],\n",
       "       [0.65107135, 0.34892865],\n",
       "       [0.08958171, 0.91041829],\n",
       "       [0.39361787, 0.60638213],\n",
       "       [0.93772516, 0.06227484],\n",
       "       [0.92738559, 0.07261441],\n",
       "       [0.93805235, 0.06194765],\n",
       "       [0.87352539, 0.12647461],\n",
       "       [0.42164013, 0.57835987],\n",
       "       [0.85282599, 0.14717401],\n",
       "       [0.93534078, 0.06465922],\n",
       "       [0.87266895, 0.12733105],\n",
       "       [0.79188459, 0.20811541],\n",
       "       [0.87921949, 0.12078051],\n",
       "       [0.59906924, 0.40093076],\n",
       "       [0.39837123, 0.60162877],\n",
       "       [0.87713936, 0.12286064],\n",
       "       [0.65103426, 0.34896574],\n",
       "       [0.70965347, 0.29034653],\n",
       "       [0.15572494, 0.84427506],\n",
       "       [0.89399991, 0.10600009],\n",
       "       [0.24487796, 0.75512204],\n",
       "       [0.34973084, 0.65026916],\n",
       "       [0.19125482, 0.80874518],\n",
       "       [0.88411445, 0.11588555],\n",
       "       [0.75461272, 0.24538728],\n",
       "       [0.49941233, 0.50058767],\n",
       "       [0.94398594, 0.05601406],\n",
       "       [0.11248687, 0.88751313],\n",
       "       [0.63984045, 0.36015955],\n",
       "       [0.87351034, 0.12648966],\n",
       "       [0.89398292, 0.10601708],\n",
       "       [0.92136586, 0.07863414],\n",
       "       [0.44818289, 0.55181711],\n",
       "       [0.90499154, 0.09500846],\n",
       "       [0.54720625, 0.45279375],\n",
       "       [0.76585253, 0.23414747],\n",
       "       [0.94010289, 0.05989711],\n",
       "       [0.74362023, 0.25637977],\n",
       "       [0.75330783, 0.24669217],\n",
       "       [0.35139628, 0.64860372],\n",
       "       [0.77738957, 0.22261043],\n",
       "       [0.20105287, 0.79894713],\n",
       "       [0.65836721, 0.34163279],\n",
       "       [0.86945078, 0.13054922],\n",
       "       [0.90520886, 0.09479114],\n",
       "       [0.67151566, 0.32848434],\n",
       "       [0.84297329, 0.15702671],\n",
       "       [0.03849664, 0.96150336],\n",
       "       [0.60007066, 0.39992934],\n",
       "       [0.35138359, 0.64861641],\n",
       "       [0.91416363, 0.08583637],\n",
       "       [0.64363652, 0.35636348],\n",
       "       [0.35140051, 0.64859949],\n",
       "       [0.88982761, 0.11017239],\n",
       "       [0.32362498, 0.67637502],\n",
       "       [0.16749811, 0.83250189],\n",
       "       [0.80496728, 0.19503272],\n",
       "       [0.9087062 , 0.0912938 ],\n",
       "       [0.84809856, 0.15190144],\n",
       "       [0.89011573, 0.10988427],\n",
       "       [0.58321513, 0.41678487],\n",
       "       [0.40799479, 0.59200521],\n",
       "       [0.88975946, 0.11024054],\n",
       "       [0.85390006, 0.14609994],\n",
       "       [0.75766285, 0.24233715],\n",
       "       [0.24820846, 0.75179154],\n",
       "       [0.94727052, 0.05272948],\n",
       "       [0.9422503 , 0.0577497 ],\n",
       "       [0.55731029, 0.44268971],\n",
       "       [0.5855483 , 0.4144517 ],\n",
       "       [0.66817155, 0.33182845],\n",
       "       [0.048526  , 0.951474  ],\n",
       "       [0.87338316, 0.12661684],\n",
       "       [0.29953857, 0.70046143],\n",
       "       [0.89403156, 0.10596844],\n",
       "       [0.89059615, 0.10940385],\n",
       "       [0.87722066, 0.12277934],\n",
       "       [0.94671721, 0.05328279],\n",
       "       [0.86802139, 0.13197861],\n",
       "       [0.67386655, 0.32613345],\n",
       "       [0.85544578, 0.14455422],\n",
       "       [0.45892976, 0.54107024],\n",
       "       [0.60492954, 0.39507046],\n",
       "       [0.66744034, 0.33255966],\n",
       "       [0.12610887, 0.87389113],\n",
       "       [0.22043542, 0.77956458],\n",
       "       [0.87336605, 0.12663395],\n",
       "       [0.7651189 , 0.2348811 ],\n",
       "       [0.89655941, 0.10344059],\n",
       "       [0.24895681, 0.75104319],\n",
       "       [0.90869389, 0.09130611],\n",
       "       [0.70361951, 0.29638049],\n",
       "       [0.89010242, 0.10989758],\n",
       "       [0.24344798, 0.75655202],\n",
       "       [0.74284025, 0.25715975],\n",
       "       [0.78037878, 0.21962122],\n",
       "       [0.37779373, 0.62220627],\n",
       "       [0.84809856, 0.15190144],\n",
       "       [0.89398292, 0.10601708],\n",
       "       [0.26567421, 0.73432579],\n",
       "       [0.86802139, 0.13197861],\n",
       "       [0.89396122, 0.10603878],\n",
       "       [0.85544578, 0.14455422],\n",
       "       [0.21940461, 0.78059539],\n",
       "       [0.11611156, 0.88388844],\n",
       "       [0.35139628, 0.64860372],\n",
       "       [0.83544585, 0.16455415],\n",
       "       [0.25486641, 0.74513359],\n",
       "       [0.71764644, 0.28235356],\n",
       "       [0.89305004, 0.10694996],\n",
       "       [0.83138991, 0.16861009],\n",
       "       [0.68370589, 0.31629411],\n",
       "       [0.82790853, 0.17209147],\n",
       "       [0.17454004, 0.82545996],\n",
       "       [0.85544655, 0.14455345],\n",
       "       [0.91848745, 0.08151255],\n",
       "       [0.65748313, 0.34251687],\n",
       "       [0.42755549, 0.57244451],\n",
       "       [0.17536792, 0.82463208],\n",
       "       [0.94876827, 0.05123173],\n",
       "       [0.44861934, 0.55138066],\n",
       "       [0.60312745, 0.39687255],\n",
       "       [0.7763529 , 0.2236471 ],\n",
       "       [0.80033964, 0.19966036],\n",
       "       [0.95442066, 0.04557934],\n",
       "       [0.90867233, 0.09132767],\n",
       "       [0.94877729, 0.05122271],\n",
       "       [0.94953671, 0.05046329],\n",
       "       [0.13516291, 0.86483709],\n",
       "       [0.39819712, 0.60180288],\n",
       "       [0.91865688, 0.08134312],\n",
       "       [0.84297329, 0.15702671],\n",
       "       [0.87337906, 0.12662094],\n",
       "       [0.77591986, 0.22408014],\n",
       "       [0.12914286, 0.87085714],\n",
       "       [0.45977191, 0.54022809]])"
      ]
     },
     "execution_count": 37,
     "metadata": {},
     "output_type": "execute_result"
    }
   ],
   "source": [
    "logmodel.predict_proba(X_test_df)"
   ]
  },
  {
   "cell_type": "code",
   "execution_count": 40,
   "id": "36471373",
   "metadata": {},
   "outputs": [],
   "source": [
    "from sklearn.metrics import classification_report, confusion_matrix"
   ]
  },
  {
   "cell_type": "code",
   "execution_count": 45,
   "id": "da332a77",
   "metadata": {},
   "outputs": [],
   "source": [
    "from sklearn.metrics import ConfusionMatrixDisplay"
   ]
  },
  {
   "cell_type": "code",
   "execution_count": 49,
   "id": "44ce76fc",
   "metadata": {},
   "outputs": [],
   "source": [
    "cm = confusion_matrix(y_test, y_pred)\n",
    "disp = ConfusionMatrixDisplay(confusion_matrix=cm)"
   ]
  },
  {
   "cell_type": "code",
   "execution_count": 51,
   "id": "3f203d47",
   "metadata": {},
   "outputs": [
    {
     "data": {
      "text/plain": [
       "<sklearn.metrics._plot.confusion_matrix.ConfusionMatrixDisplay at 0x1b3d49fd4b0>"
      ]
     },
     "execution_count": 51,
     "metadata": {},
     "output_type": "execute_result"
    },
    {
     "data": {
      "image/png": "[encoded data removed]",
      "text/plain": [
       "<Figure size 640x480 with 2 Axes>"
      ]
     },
     "metadata": {},
     "output_type": "display_data"
    }
   ],
   "source": [
    "disp.plot()"
   ]
  },
  {
   "cell_type": "code",
   "execution_count": 53,
   "id": "5e7cf216",
   "metadata": {},
   "outputs": [
    {
     "name": "stdout",
     "output_type": "stream",
     "text": [
      "              precision    recall  f1-score   support\n",
      "\n",
      "           0       0.82      0.92      0.87       163\n",
      "           1       0.85      0.69      0.76       104\n",
      "\n",
      "    accuracy                           0.83       267\n",
      "   macro avg       0.84      0.81      0.82       267\n",
      "weighted avg       0.83      0.83      0.83       267\n",
      "\n"
     ]
    }
   ],
   "source": [
    "print(classification_report(y_test,y_pred))"
   ]
  },
  {
   "cell_type": "code",
   "execution_count": 54,
   "id": "3c29a08e",
   "metadata": {},
   "outputs": [],
   "source": [
    "y_train_pred = logmodel.predict(X_train_df)"
   ]
  },
  {
   "cell_type": "code",
   "execution_count": 55,
   "id": "3fae3326",
   "metadata": {},
   "outputs": [
    {
     "name": "stdout",
     "output_type": "stream",
     "text": [
      "              precision    recall  f1-score   support\n",
      "\n",
      "           0       0.83      0.87      0.85       386\n",
      "           1       0.77      0.71      0.74       236\n",
      "\n",
      "    accuracy                           0.81       622\n",
      "   macro avg       0.80      0.79      0.79       622\n",
      "weighted avg       0.81      0.81      0.81       622\n",
      "\n"
     ]
    }
   ],
   "source": [
    "print(classification_report(y_train,y_train_pred))"
   ]
  },
  {
   "cell_type": "code",
   "execution_count": null,
   "id": "09db037b",
   "metadata": {},
   "outputs": [],
   "source": []
  }
 ],
 "metadata": {
  "kernelspec": {
   "display_name": "Python 3 (ipykernel)",
   "language": "python",
   "name": "python3"
  },
  "language_info": {
   "codemirror_mode": {
    "name": "ipython",
    "version": 3
   },
   "file_extension": ".py",
   "mimetype": "text/x-python",
   "name": "python",
   "nbconvert_exporter": "python",
   "pygments_lexer": "ipython3",
   "version": "3.10.9"
  }
 },
 "nbformat": 4,
 "nbformat_minor": 5
}
