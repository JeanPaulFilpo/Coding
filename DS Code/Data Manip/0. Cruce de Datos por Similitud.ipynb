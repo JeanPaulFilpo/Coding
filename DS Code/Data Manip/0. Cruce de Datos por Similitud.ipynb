{
 "cells": [
  {
   "cell_type": "markdown",
   "metadata": {},
   "source": [
    "# Cruce por Similitud"
   ]
  },
  {
   "cell_type": "code",
   "execution_count": 21,
   "metadata": {},
   "outputs": [],
   "source": [
    "import fuzzywuzzy\n",
    "from fuzzywuzzy import fuzz, process"
   ]
  },
  {
   "cell_type": "code",
   "execution_count": 22,
   "metadata": {},
   "outputs": [],
   "source": [
    "palabra_a = 'FuzzyWuzzy es lo mejor'\n",
    "palabra_b = 'fuzzy wuzzy lo mejor es'"
   ]
  },
  {
   "cell_type": "code",
   "execution_count": 23,
   "metadata": {},
   "outputs": [
    {
     "data": {
      "text/plain": [
       "76"
      ]
     },
     "execution_count": 23,
     "metadata": {},
     "output_type": "execute_result"
    }
   ],
   "source": [
    "fuzz.ratio(palabra_a,palabra_b)"
   ]
  },
  {
   "cell_type": "code",
   "execution_count": 24,
   "metadata": {},
   "outputs": [
    {
     "data": {
      "text/plain": [
       "84"
      ]
     },
     "execution_count": 24,
     "metadata": {},
     "output_type": "execute_result"
    }
   ],
   "source": [
    "fuzz.ratio(palabra_a.lower(),palabra_b.lower())"
   ]
  },
  {
   "cell_type": "markdown",
   "metadata": {},
   "source": [
    "FuzzyWuzzy también tiene funciones de token que tokenizan las cadenas, cambian las mayúsculas a minúsculas y eliminan la puntuación. La función **token_sort_ratio()** ordena las cadenas alfabéticamente y luego las une. Luego, se calcula fuzz.ratio(). Esto puede ser útil cuando las cadenas que está comparando tienen la misma ortografía pero no están en el mismo orden."
   ]
  },
  {
   "cell_type": "code",
   "execution_count": 25,
   "metadata": {},
   "outputs": [],
   "source": [
    "palabra_a1 = 'Gilberto Almonte Frias'\n",
    "palabra_a2 = 'Almonte Frias, Gilberto'"
   ]
  },
  {
   "cell_type": "code",
   "execution_count": 26,
   "metadata": {},
   "outputs": [
    {
     "data": {
      "text/plain": [
       "58"
      ]
     },
     "execution_count": 26,
     "metadata": {},
     "output_type": "execute_result"
    }
   ],
   "source": [
    "fuzz.ratio(palabra_a1,palabra_a2)"
   ]
  },
  {
   "cell_type": "code",
   "execution_count": 27,
   "metadata": {},
   "outputs": [
    {
     "data": {
      "text/plain": [
       "100"
      ]
     },
     "execution_count": 27,
     "metadata": {},
     "output_type": "execute_result"
    }
   ],
   "source": [
    "fuzz.token_sort_ratio(palabra_a1,palabra_a2)"
   ]
  },
  {
   "cell_type": "code",
   "execution_count": 28,
   "metadata": {},
   "outputs": [
    {
     "data": {
      "text/plain": [
       "[('Gilberto A.', 82),\n",
       " ('gilberto alm', 74),\n",
       " ('Gilberto Almonte', 61),\n",
       " ('GIlberto Almonte Frias', 48),\n",
       " ('G. Almonte', 25)]"
      ]
     },
     "execution_count": 28,
     "metadata": {},
     "output_type": "execute_result"
    }
   ],
   "source": [
    "opciones = ['gilberto alm', \n",
    "            'Gilberto Almonte',\n",
    "            'GIlberto Almonte Frias',\n",
    "            'G. Almonte',\n",
    "            'Gilberto A.']\n",
    "\n",
    "process.extract('Gilbert', opciones, scorer=fuzz.token_sort_ratio)"
   ]
  },
  {
   "cell_type": "code",
   "execution_count": 29,
   "metadata": {},
   "outputs": [
    {
     "data": {
      "text/plain": [
       "('Gilberto A.', 82)"
      ]
     },
     "execution_count": 29,
     "metadata": {},
     "output_type": "execute_result"
    }
   ],
   "source": [
    "process.extractOne('Gilbert', opciones, scorer=fuzz.token_sort_ratio)"
   ]
  },
  {
   "cell_type": "code",
   "execution_count": 30,
   "metadata": {},
   "outputs": [],
   "source": [
    "df_base1 = pd.read_excel('Base1.xlsx')\n",
    "df_base2 = pd.read_excel('Base2.xlsx')"
   ]
  },
  {
   "cell_type": "code",
   "execution_count": 31,
   "metadata": {},
   "outputs": [
    {
     "data": {
      "text/html": [
       "<div>\n",
       "<style scoped>\n",
       "    .dataframe tbody tr th:only-of-type {\n",
       "        vertical-align: middle;\n",
       "    }\n",
       "\n",
       "    .dataframe tbody tr th {\n",
       "        vertical-align: top;\n",
       "    }\n",
       "\n",
       "    .dataframe thead th {\n",
       "        text-align: right;\n",
       "    }\n",
       "</style>\n",
       "<table border=\"1\" class=\"dataframe\">\n",
       "  <thead>\n",
       "    <tr style=\"text-align: right;\">\n",
       "      <th></th>\n",
       "      <th>Nombre</th>\n",
       "    </tr>\n",
       "  </thead>\n",
       "  <tbody>\n",
       "    <tr>\n",
       "      <th>0</th>\n",
       "      <td>Gilberto Almonte</td>\n",
       "    </tr>\n",
       "    <tr>\n",
       "      <th>1</th>\n",
       "      <td>Luis Perez</td>\n",
       "    </tr>\n",
       "    <tr>\n",
       "      <th>2</th>\n",
       "      <td>Maria Gomez</td>\n",
       "    </tr>\n",
       "    <tr>\n",
       "      <th>3</th>\n",
       "      <td>Maria A. Perez</td>\n",
       "    </tr>\n",
       "    <tr>\n",
       "      <th>4</th>\n",
       "      <td>Alberto Gonzales</td>\n",
       "    </tr>\n",
       "  </tbody>\n",
       "</table>\n",
       "</div>"
      ],
      "text/plain": [
       "             Nombre\n",
       "0  Gilberto Almonte\n",
       "1        Luis Perez\n",
       "2       Maria Gomez\n",
       "3    Maria A. Perez\n",
       "4  Alberto Gonzales"
      ]
     },
     "execution_count": 31,
     "metadata": {},
     "output_type": "execute_result"
    }
   ],
   "source": [
    "df_base1.head()"
   ]
  },
  {
   "cell_type": "code",
   "execution_count": 32,
   "metadata": {},
   "outputs": [
    {
     "data": {
      "text/html": [
       "<div>\n",
       "<style scoped>\n",
       "    .dataframe tbody tr th:only-of-type {\n",
       "        vertical-align: middle;\n",
       "    }\n",
       "\n",
       "    .dataframe tbody tr th {\n",
       "        vertical-align: top;\n",
       "    }\n",
       "\n",
       "    .dataframe thead th {\n",
       "        text-align: right;\n",
       "    }\n",
       "</style>\n",
       "<table border=\"1\" class=\"dataframe\">\n",
       "  <thead>\n",
       "    <tr style=\"text-align: right;\">\n",
       "      <th></th>\n",
       "      <th>Nombre</th>\n",
       "      <th>Edad</th>\n",
       "    </tr>\n",
       "  </thead>\n",
       "  <tbody>\n",
       "    <tr>\n",
       "      <th>0</th>\n",
       "      <td>Almonte, Gilberto</td>\n",
       "      <td>26</td>\n",
       "    </tr>\n",
       "    <tr>\n",
       "      <th>1</th>\n",
       "      <td>Perez, Luis</td>\n",
       "      <td>21</td>\n",
       "    </tr>\n",
       "    <tr>\n",
       "      <th>2</th>\n",
       "      <td>Gomez, Maria</td>\n",
       "      <td>30</td>\n",
       "    </tr>\n",
       "    <tr>\n",
       "      <th>3</th>\n",
       "      <td>Perez, Maria Alejandra</td>\n",
       "      <td>22</td>\n",
       "    </tr>\n",
       "    <tr>\n",
       "      <th>4</th>\n",
       "      <td>Gonzales, Alberto</td>\n",
       "      <td>30</td>\n",
       "    </tr>\n",
       "  </tbody>\n",
       "</table>\n",
       "</div>"
      ],
      "text/plain": [
       "                   Nombre  Edad\n",
       "0       Almonte, Gilberto    26\n",
       "1             Perez, Luis    21\n",
       "2            Gomez, Maria    30\n",
       "3  Perez, Maria Alejandra    22\n",
       "4       Gonzales, Alberto    30"
      ]
     },
     "execution_count": 32,
     "metadata": {},
     "output_type": "execute_result"
    }
   ],
   "source": [
    "df_base2.head()"
   ]
  },
  {
   "cell_type": "code",
   "execution_count": 33,
   "metadata": {},
   "outputs": [],
   "source": [
    "lista_base1 = list(df_base1['Nombre'])\n",
    "lista_base2 = list(df_base2['Nombre'])"
   ]
  },
  {
   "cell_type": "code",
   "execution_count": 34,
   "metadata": {},
   "outputs": [],
   "source": [
    "def evaluador(lista1,lista2):\n",
    "    lista_nombre = []\n",
    "    lista_ratios = []\n",
    "    for valor1 in lista1:\n",
    "        if valor1 in lista2:\n",
    "            lista_nombre.append(valor1)\n",
    "            lista_ratios.append(100)\n",
    "        else:\n",
    "            x = process.extractOne(valor1, \n",
    "                                   lista2, \n",
    "                                   scorer=fuzz.token_sort_ratio)\n",
    "            lista_nombre.append(x[0])\n",
    "            lista_ratios.append(x[1])\n",
    "    return lista_nombre,lista_ratios"
   ]
  },
  {
   "cell_type": "code",
   "execution_count": 36,
   "metadata": {},
   "outputs": [],
   "source": [
    "nombre, ratio = evaluador(lista_base1,lista_base2)"
   ]
  },
  {
   "cell_type": "code",
   "execution_count": 37,
   "metadata": {},
   "outputs": [
    {
     "data": {
      "text/plain": [
       "['Almonte, Gilberto',\n",
       " 'Perez, Luis',\n",
       " 'Gomez, Maria',\n",
       " 'Perez, Maria Alejandra',\n",
       " 'Gonzales, Alberto',\n",
       " 'Martinez Lara, Luis Manuel',\n",
       " 'Enrique, Pedro']"
      ]
     },
     "execution_count": 37,
     "metadata": {},
     "output_type": "execute_result"
    }
   ],
   "source": [
    "nombre"
   ]
  },
  {
   "cell_type": "code",
   "execution_count": 38,
   "metadata": {},
   "outputs": [],
   "source": [
    "df_resultado = pd.DataFrame()\n",
    "df_resultado['Base1'] = df_base1['Nombre']\n",
    "df_resultado['CoincidenciaBase2'] = nombre\n",
    "df_resultado['Ratio'] = ratio"
   ]
  },
  {
   "cell_type": "code",
   "execution_count": 39,
   "metadata": {},
   "outputs": [
    {
     "data": {
      "text/html": [
       "<div>\n",
       "<style scoped>\n",
       "    .dataframe tbody tr th:only-of-type {\n",
       "        vertical-align: middle;\n",
       "    }\n",
       "\n",
       "    .dataframe tbody tr th {\n",
       "        vertical-align: top;\n",
       "    }\n",
       "\n",
       "    .dataframe thead th {\n",
       "        text-align: right;\n",
       "    }\n",
       "</style>\n",
       "<table border=\"1\" class=\"dataframe\">\n",
       "  <thead>\n",
       "    <tr style=\"text-align: right;\">\n",
       "      <th></th>\n",
       "      <th>Base1</th>\n",
       "      <th>CoincidenciaBase2</th>\n",
       "      <th>Ratio</th>\n",
       "    </tr>\n",
       "  </thead>\n",
       "  <tbody>\n",
       "    <tr>\n",
       "      <th>0</th>\n",
       "      <td>Gilberto Almonte</td>\n",
       "      <td>Almonte, Gilberto</td>\n",
       "      <td>100</td>\n",
       "    </tr>\n",
       "    <tr>\n",
       "      <th>1</th>\n",
       "      <td>Luis Perez</td>\n",
       "      <td>Perez, Luis</td>\n",
       "      <td>100</td>\n",
       "    </tr>\n",
       "    <tr>\n",
       "      <th>2</th>\n",
       "      <td>Maria Gomez</td>\n",
       "      <td>Gomez, Maria</td>\n",
       "      <td>100</td>\n",
       "    </tr>\n",
       "    <tr>\n",
       "      <th>3</th>\n",
       "      <td>Maria A. Perez</td>\n",
       "      <td>Perez, Maria Alejandra</td>\n",
       "      <td>76</td>\n",
       "    </tr>\n",
       "    <tr>\n",
       "      <th>4</th>\n",
       "      <td>Alberto Gonzales</td>\n",
       "      <td>Gonzales, Alberto</td>\n",
       "      <td>100</td>\n",
       "    </tr>\n",
       "    <tr>\n",
       "      <th>5</th>\n",
       "      <td>Luis Manuel Martinez L.</td>\n",
       "      <td>Martinez Lara, Luis Manuel</td>\n",
       "      <td>94</td>\n",
       "    </tr>\n",
       "    <tr>\n",
       "      <th>6</th>\n",
       "      <td>Pedro Enrique</td>\n",
       "      <td>Enrique, Pedro</td>\n",
       "      <td>100</td>\n",
       "    </tr>\n",
       "  </tbody>\n",
       "</table>\n",
       "</div>"
      ],
      "text/plain": [
       "                     Base1           CoincidenciaBase2  Ratio\n",
       "0         Gilberto Almonte           Almonte, Gilberto    100\n",
       "1               Luis Perez                 Perez, Luis    100\n",
       "2              Maria Gomez                Gomez, Maria    100\n",
       "3           Maria A. Perez      Perez, Maria Alejandra     76\n",
       "4         Alberto Gonzales           Gonzales, Alberto    100\n",
       "5  Luis Manuel Martinez L.  Martinez Lara, Luis Manuel     94\n",
       "6            Pedro Enrique              Enrique, Pedro    100"
      ]
     },
     "execution_count": 39,
     "metadata": {},
     "output_type": "execute_result"
    }
   ],
   "source": [
    "df_resultado"
   ]
  },
  {
   "cell_type": "code",
   "execution_count": 40,
   "metadata": {},
   "outputs": [
    {
     "data": {
      "text/html": [
       "<div>\n",
       "<style scoped>\n",
       "    .dataframe tbody tr th:only-of-type {\n",
       "        vertical-align: middle;\n",
       "    }\n",
       "\n",
       "    .dataframe tbody tr th {\n",
       "        vertical-align: top;\n",
       "    }\n",
       "\n",
       "    .dataframe thead th {\n",
       "        text-align: right;\n",
       "    }\n",
       "</style>\n",
       "<table border=\"1\" class=\"dataframe\">\n",
       "  <thead>\n",
       "    <tr style=\"text-align: right;\">\n",
       "      <th></th>\n",
       "      <th>Base1</th>\n",
       "      <th>CoincidenciaBase2</th>\n",
       "      <th>Ratio</th>\n",
       "      <th>Nombre</th>\n",
       "      <th>Edad</th>\n",
       "    </tr>\n",
       "  </thead>\n",
       "  <tbody>\n",
       "    <tr>\n",
       "      <th>0</th>\n",
       "      <td>Gilberto Almonte</td>\n",
       "      <td>Almonte, Gilberto</td>\n",
       "      <td>100</td>\n",
       "      <td>Almonte, Gilberto</td>\n",
       "      <td>26</td>\n",
       "    </tr>\n",
       "    <tr>\n",
       "      <th>1</th>\n",
       "      <td>Luis Perez</td>\n",
       "      <td>Perez, Luis</td>\n",
       "      <td>100</td>\n",
       "      <td>Perez, Luis</td>\n",
       "      <td>21</td>\n",
       "    </tr>\n",
       "    <tr>\n",
       "      <th>2</th>\n",
       "      <td>Maria Gomez</td>\n",
       "      <td>Gomez, Maria</td>\n",
       "      <td>100</td>\n",
       "      <td>Gomez, Maria</td>\n",
       "      <td>30</td>\n",
       "    </tr>\n",
       "    <tr>\n",
       "      <th>3</th>\n",
       "      <td>Maria A. Perez</td>\n",
       "      <td>Perez, Maria Alejandra</td>\n",
       "      <td>76</td>\n",
       "      <td>Perez, Maria Alejandra</td>\n",
       "      <td>22</td>\n",
       "    </tr>\n",
       "    <tr>\n",
       "      <th>4</th>\n",
       "      <td>Alberto Gonzales</td>\n",
       "      <td>Gonzales, Alberto</td>\n",
       "      <td>100</td>\n",
       "      <td>Gonzales, Alberto</td>\n",
       "      <td>30</td>\n",
       "    </tr>\n",
       "    <tr>\n",
       "      <th>5</th>\n",
       "      <td>Luis Manuel Martinez L.</td>\n",
       "      <td>Martinez Lara, Luis Manuel</td>\n",
       "      <td>94</td>\n",
       "      <td>Martinez Lara, Luis Manuel</td>\n",
       "      <td>20</td>\n",
       "    </tr>\n",
       "    <tr>\n",
       "      <th>6</th>\n",
       "      <td>Pedro Enrique</td>\n",
       "      <td>Enrique, Pedro</td>\n",
       "      <td>100</td>\n",
       "      <td>Enrique, Pedro</td>\n",
       "      <td>20</td>\n",
       "    </tr>\n",
       "  </tbody>\n",
       "</table>\n",
       "</div>"
      ],
      "text/plain": [
       "                     Base1           CoincidenciaBase2  Ratio  \\\n",
       "0         Gilberto Almonte           Almonte, Gilberto    100   \n",
       "1               Luis Perez                 Perez, Luis    100   \n",
       "2              Maria Gomez                Gomez, Maria    100   \n",
       "3           Maria A. Perez      Perez, Maria Alejandra     76   \n",
       "4         Alberto Gonzales           Gonzales, Alberto    100   \n",
       "5  Luis Manuel Martinez L.  Martinez Lara, Luis Manuel     94   \n",
       "6            Pedro Enrique              Enrique, Pedro    100   \n",
       "\n",
       "                       Nombre  Edad  \n",
       "0           Almonte, Gilberto    26  \n",
       "1                 Perez, Luis    21  \n",
       "2                Gomez, Maria    30  \n",
       "3      Perez, Maria Alejandra    22  \n",
       "4           Gonzales, Alberto    30  \n",
       "5  Martinez Lara, Luis Manuel    20  \n",
       "6              Enrique, Pedro    20  "
      ]
     },
     "execution_count": 40,
     "metadata": {},
     "output_type": "execute_result"
    }
   ],
   "source": [
    "df_resultado.merge(df_base2, \n",
    "                   left_on='CoincidenciaBase2', \n",
    "                   right_on='Nombre')"
   ]
  },
  {
   "cell_type": "code",
   "execution_count": null,
   "metadata": {},
   "outputs": [],
   "source": []
  }
 ],
 "metadata": {
  "kernelspec": {
   "display_name": "Python 3 (ipykernel)",
   "language": "python",
   "name": "python3"
  },
  "language_info": {
   "codemirror_mode": {
    "name": "ipython",
    "version": 3
   },
   "file_extension": ".py",
   "mimetype": "text/x-python",
   "name": "python",
   "nbconvert_exporter": "python",
   "pygments_lexer": "ipython3",
   "version": "3.9.7"
  }
 },
 "nbformat": 4,
 "nbformat_minor": 4
}
