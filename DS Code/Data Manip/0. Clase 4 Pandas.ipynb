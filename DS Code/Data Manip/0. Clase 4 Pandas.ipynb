{
 "cells": [
  {
   "cell_type": "code",
   "execution_count": 1,
   "metadata": {},
   "outputs": [],
   "source": [
    "import pandas as pd\n",
    "import numpy as np"
   ]
  },
  {
   "cell_type": "markdown",
   "metadata": {
    "collapsed": true
   },
   "source": [
    "# Fusión, unión y concatenación\n",
    "\n",
    "Hay 3 formas principales de combinar DataFrames: Fusionar (pd.merge), Unir (pd.join) y Concatenar (pd.concat). En esta clase discutiremos estos 3 métodos con ejemplos."
   ]
  },
  {
   "cell_type": "code",
   "execution_count": 2,
   "metadata": {},
   "outputs": [],
   "source": [
    "#np.random.randint(valor_menor, valor_mayor, (filas, columnas))"
   ]
  },
  {
   "cell_type": "code",
   "execution_count": 3,
   "metadata": {},
   "outputs": [],
   "source": [
    "df1 = pd.DataFrame(np.random.randint(100, 200, (3, 3)),\n",
    "                      columns = ['enero','febrero','diciembre'],\n",
    "                      index=list(range(2010,2013)))"
   ]
  },
  {
   "cell_type": "code",
   "execution_count": 4,
   "metadata": {},
   "outputs": [],
   "source": [
    "df2 = pd.DataFrame(np.random.randint(100, 200, (3, 3)),\n",
    "                      columns = ['enero','febrero','diciembre'],\n",
    "                      index=list(range(2013,2016)))"
   ]
  },
  {
   "cell_type": "code",
   "execution_count": 5,
   "metadata": {},
   "outputs": [],
   "source": [
    "df3 = pd.DataFrame(np.random.randint(100, 200, (3, 3)),\n",
    "                      columns = ['enero','febrero','diciembre'],\n",
    "                      index=list(range(2016,2019)))"
   ]
  },
  {
   "cell_type": "code",
   "execution_count": 6,
   "metadata": {},
   "outputs": [
    {
     "data": {
      "text/html": [
       "<div>\n",
       "<style scoped>\n",
       "    .dataframe tbody tr th:only-of-type {\n",
       "        vertical-align: middle;\n",
       "    }\n",
       "\n",
       "    .dataframe tbody tr th {\n",
       "        vertical-align: top;\n",
       "    }\n",
       "\n",
       "    .dataframe thead th {\n",
       "        text-align: right;\n",
       "    }\n",
       "</style>\n",
       "<table border=\"1\" class=\"dataframe\">\n",
       "  <thead>\n",
       "    <tr style=\"text-align: right;\">\n",
       "      <th></th>\n",
       "      <th>enero</th>\n",
       "      <th>febrero</th>\n",
       "      <th>diciembre</th>\n",
       "    </tr>\n",
       "  </thead>\n",
       "  <tbody>\n",
       "    <tr>\n",
       "      <th>2010</th>\n",
       "      <td>183</td>\n",
       "      <td>152</td>\n",
       "      <td>146</td>\n",
       "    </tr>\n",
       "    <tr>\n",
       "      <th>2011</th>\n",
       "      <td>121</td>\n",
       "      <td>174</td>\n",
       "      <td>150</td>\n",
       "    </tr>\n",
       "    <tr>\n",
       "      <th>2012</th>\n",
       "      <td>146</td>\n",
       "      <td>108</td>\n",
       "      <td>154</td>\n",
       "    </tr>\n",
       "  </tbody>\n",
       "</table>\n",
       "</div>"
      ],
      "text/plain": [
       "      enero  febrero  diciembre\n",
       "2010    183      152        146\n",
       "2011    121      174        150\n",
       "2012    146      108        154"
      ]
     },
     "execution_count": 6,
     "metadata": {},
     "output_type": "execute_result"
    }
   ],
   "source": [
    "df1"
   ]
  },
  {
   "cell_type": "code",
   "execution_count": 7,
   "metadata": {},
   "outputs": [
    {
     "data": {
      "text/html": [
       "<div>\n",
       "<style scoped>\n",
       "    .dataframe tbody tr th:only-of-type {\n",
       "        vertical-align: middle;\n",
       "    }\n",
       "\n",
       "    .dataframe tbody tr th {\n",
       "        vertical-align: top;\n",
       "    }\n",
       "\n",
       "    .dataframe thead th {\n",
       "        text-align: right;\n",
       "    }\n",
       "</style>\n",
       "<table border=\"1\" class=\"dataframe\">\n",
       "  <thead>\n",
       "    <tr style=\"text-align: right;\">\n",
       "      <th></th>\n",
       "      <th>enero</th>\n",
       "      <th>febrero</th>\n",
       "      <th>diciembre</th>\n",
       "    </tr>\n",
       "  </thead>\n",
       "  <tbody>\n",
       "    <tr>\n",
       "      <th>2013</th>\n",
       "      <td>100</td>\n",
       "      <td>111</td>\n",
       "      <td>170</td>\n",
       "    </tr>\n",
       "    <tr>\n",
       "      <th>2014</th>\n",
       "      <td>156</td>\n",
       "      <td>163</td>\n",
       "      <td>122</td>\n",
       "    </tr>\n",
       "    <tr>\n",
       "      <th>2015</th>\n",
       "      <td>193</td>\n",
       "      <td>101</td>\n",
       "      <td>199</td>\n",
       "    </tr>\n",
       "  </tbody>\n",
       "</table>\n",
       "</div>"
      ],
      "text/plain": [
       "      enero  febrero  diciembre\n",
       "2013    100      111        170\n",
       "2014    156      163        122\n",
       "2015    193      101        199"
      ]
     },
     "execution_count": 7,
     "metadata": {},
     "output_type": "execute_result"
    }
   ],
   "source": [
    "df2"
   ]
  },
  {
   "cell_type": "code",
   "execution_count": 8,
   "metadata": {},
   "outputs": [
    {
     "data": {
      "text/html": [
       "<div>\n",
       "<style scoped>\n",
       "    .dataframe tbody tr th:only-of-type {\n",
       "        vertical-align: middle;\n",
       "    }\n",
       "\n",
       "    .dataframe tbody tr th {\n",
       "        vertical-align: top;\n",
       "    }\n",
       "\n",
       "    .dataframe thead th {\n",
       "        text-align: right;\n",
       "    }\n",
       "</style>\n",
       "<table border=\"1\" class=\"dataframe\">\n",
       "  <thead>\n",
       "    <tr style=\"text-align: right;\">\n",
       "      <th></th>\n",
       "      <th>enero</th>\n",
       "      <th>febrero</th>\n",
       "      <th>diciembre</th>\n",
       "    </tr>\n",
       "  </thead>\n",
       "  <tbody>\n",
       "    <tr>\n",
       "      <th>2016</th>\n",
       "      <td>134</td>\n",
       "      <td>130</td>\n",
       "      <td>188</td>\n",
       "    </tr>\n",
       "    <tr>\n",
       "      <th>2017</th>\n",
       "      <td>147</td>\n",
       "      <td>150</td>\n",
       "      <td>156</td>\n",
       "    </tr>\n",
       "    <tr>\n",
       "      <th>2018</th>\n",
       "      <td>190</td>\n",
       "      <td>190</td>\n",
       "      <td>138</td>\n",
       "    </tr>\n",
       "  </tbody>\n",
       "</table>\n",
       "</div>"
      ],
      "text/plain": [
       "      enero  febrero  diciembre\n",
       "2016    134      130        188\n",
       "2017    147      150        156\n",
       "2018    190      190        138"
      ]
     },
     "execution_count": 8,
     "metadata": {},
     "output_type": "execute_result"
    }
   ],
   "source": [
    "df3"
   ]
  },
  {
   "cell_type": "markdown",
   "metadata": {},
   "source": [
    "## Concatenación\n",
    "\n",
    "La concatenación básicamente une DataFrames. Tenga en cuenta que las dimensiones deben coincidir a lo largo del eje en el que está concatenando. Puede usar **pd.concat** y pasar una lista de DataFrames para concatenar juntos:"
   ]
  },
  {
   "cell_type": "code",
   "execution_count": 9,
   "metadata": {},
   "outputs": [
    {
     "data": {
      "text/html": [
       "<div>\n",
       "<style scoped>\n",
       "    .dataframe tbody tr th:only-of-type {\n",
       "        vertical-align: middle;\n",
       "    }\n",
       "\n",
       "    .dataframe tbody tr th {\n",
       "        vertical-align: top;\n",
       "    }\n",
       "\n",
       "    .dataframe thead th {\n",
       "        text-align: right;\n",
       "    }\n",
       "</style>\n",
       "<table border=\"1\" class=\"dataframe\">\n",
       "  <thead>\n",
       "    <tr style=\"text-align: right;\">\n",
       "      <th></th>\n",
       "      <th>enero</th>\n",
       "      <th>febrero</th>\n",
       "      <th>diciembre</th>\n",
       "    </tr>\n",
       "  </thead>\n",
       "  <tbody>\n",
       "    <tr>\n",
       "      <th>2010</th>\n",
       "      <td>183</td>\n",
       "      <td>152</td>\n",
       "      <td>146</td>\n",
       "    </tr>\n",
       "    <tr>\n",
       "      <th>2011</th>\n",
       "      <td>121</td>\n",
       "      <td>174</td>\n",
       "      <td>150</td>\n",
       "    </tr>\n",
       "    <tr>\n",
       "      <th>2012</th>\n",
       "      <td>146</td>\n",
       "      <td>108</td>\n",
       "      <td>154</td>\n",
       "    </tr>\n",
       "    <tr>\n",
       "      <th>2013</th>\n",
       "      <td>100</td>\n",
       "      <td>111</td>\n",
       "      <td>170</td>\n",
       "    </tr>\n",
       "    <tr>\n",
       "      <th>2014</th>\n",
       "      <td>156</td>\n",
       "      <td>163</td>\n",
       "      <td>122</td>\n",
       "    </tr>\n",
       "    <tr>\n",
       "      <th>2015</th>\n",
       "      <td>193</td>\n",
       "      <td>101</td>\n",
       "      <td>199</td>\n",
       "    </tr>\n",
       "    <tr>\n",
       "      <th>2016</th>\n",
       "      <td>134</td>\n",
       "      <td>130</td>\n",
       "      <td>188</td>\n",
       "    </tr>\n",
       "    <tr>\n",
       "      <th>2017</th>\n",
       "      <td>147</td>\n",
       "      <td>150</td>\n",
       "      <td>156</td>\n",
       "    </tr>\n",
       "    <tr>\n",
       "      <th>2018</th>\n",
       "      <td>190</td>\n",
       "      <td>190</td>\n",
       "      <td>138</td>\n",
       "    </tr>\n",
       "  </tbody>\n",
       "</table>\n",
       "</div>"
      ],
      "text/plain": [
       "      enero  febrero  diciembre\n",
       "2010    183      152        146\n",
       "2011    121      174        150\n",
       "2012    146      108        154\n",
       "2013    100      111        170\n",
       "2014    156      163        122\n",
       "2015    193      101        199\n",
       "2016    134      130        188\n",
       "2017    147      150        156\n",
       "2018    190      190        138"
      ]
     },
     "execution_count": 9,
     "metadata": {},
     "output_type": "execute_result"
    }
   ],
   "source": [
    "pd.concat([df1,df2,df3])"
   ]
  },
  {
   "cell_type": "code",
   "execution_count": 10,
   "metadata": {},
   "outputs": [
    {
     "data": {
      "text/html": [
       "<div>\n",
       "<style scoped>\n",
       "    .dataframe tbody tr th:only-of-type {\n",
       "        vertical-align: middle;\n",
       "    }\n",
       "\n",
       "    .dataframe tbody tr th {\n",
       "        vertical-align: top;\n",
       "    }\n",
       "\n",
       "    .dataframe thead th {\n",
       "        text-align: right;\n",
       "    }\n",
       "</style>\n",
       "<table border=\"1\" class=\"dataframe\">\n",
       "  <thead>\n",
       "    <tr style=\"text-align: right;\">\n",
       "      <th></th>\n",
       "      <th>enero</th>\n",
       "      <th>febrero</th>\n",
       "      <th>diciembre</th>\n",
       "      <th>enero</th>\n",
       "      <th>febrero</th>\n",
       "      <th>diciembre</th>\n",
       "      <th>enero</th>\n",
       "      <th>febrero</th>\n",
       "      <th>diciembre</th>\n",
       "    </tr>\n",
       "  </thead>\n",
       "  <tbody>\n",
       "    <tr>\n",
       "      <th>2010</th>\n",
       "      <td>183.0</td>\n",
       "      <td>152.0</td>\n",
       "      <td>146.0</td>\n",
       "      <td>NaN</td>\n",
       "      <td>NaN</td>\n",
       "      <td>NaN</td>\n",
       "      <td>NaN</td>\n",
       "      <td>NaN</td>\n",
       "      <td>NaN</td>\n",
       "    </tr>\n",
       "    <tr>\n",
       "      <th>2011</th>\n",
       "      <td>121.0</td>\n",
       "      <td>174.0</td>\n",
       "      <td>150.0</td>\n",
       "      <td>NaN</td>\n",
       "      <td>NaN</td>\n",
       "      <td>NaN</td>\n",
       "      <td>NaN</td>\n",
       "      <td>NaN</td>\n",
       "      <td>NaN</td>\n",
       "    </tr>\n",
       "    <tr>\n",
       "      <th>2012</th>\n",
       "      <td>146.0</td>\n",
       "      <td>108.0</td>\n",
       "      <td>154.0</td>\n",
       "      <td>NaN</td>\n",
       "      <td>NaN</td>\n",
       "      <td>NaN</td>\n",
       "      <td>NaN</td>\n",
       "      <td>NaN</td>\n",
       "      <td>NaN</td>\n",
       "    </tr>\n",
       "    <tr>\n",
       "      <th>2013</th>\n",
       "      <td>NaN</td>\n",
       "      <td>NaN</td>\n",
       "      <td>NaN</td>\n",
       "      <td>100.0</td>\n",
       "      <td>111.0</td>\n",
       "      <td>170.0</td>\n",
       "      <td>NaN</td>\n",
       "      <td>NaN</td>\n",
       "      <td>NaN</td>\n",
       "    </tr>\n",
       "    <tr>\n",
       "      <th>2014</th>\n",
       "      <td>NaN</td>\n",
       "      <td>NaN</td>\n",
       "      <td>NaN</td>\n",
       "      <td>156.0</td>\n",
       "      <td>163.0</td>\n",
       "      <td>122.0</td>\n",
       "      <td>NaN</td>\n",
       "      <td>NaN</td>\n",
       "      <td>NaN</td>\n",
       "    </tr>\n",
       "    <tr>\n",
       "      <th>2015</th>\n",
       "      <td>NaN</td>\n",
       "      <td>NaN</td>\n",
       "      <td>NaN</td>\n",
       "      <td>193.0</td>\n",
       "      <td>101.0</td>\n",
       "      <td>199.0</td>\n",
       "      <td>NaN</td>\n",
       "      <td>NaN</td>\n",
       "      <td>NaN</td>\n",
       "    </tr>\n",
       "    <tr>\n",
       "      <th>2016</th>\n",
       "      <td>NaN</td>\n",
       "      <td>NaN</td>\n",
       "      <td>NaN</td>\n",
       "      <td>NaN</td>\n",
       "      <td>NaN</td>\n",
       "      <td>NaN</td>\n",
       "      <td>134.0</td>\n",
       "      <td>130.0</td>\n",
       "      <td>188.0</td>\n",
       "    </tr>\n",
       "    <tr>\n",
       "      <th>2017</th>\n",
       "      <td>NaN</td>\n",
       "      <td>NaN</td>\n",
       "      <td>NaN</td>\n",
       "      <td>NaN</td>\n",
       "      <td>NaN</td>\n",
       "      <td>NaN</td>\n",
       "      <td>147.0</td>\n",
       "      <td>150.0</td>\n",
       "      <td>156.0</td>\n",
       "    </tr>\n",
       "    <tr>\n",
       "      <th>2018</th>\n",
       "      <td>NaN</td>\n",
       "      <td>NaN</td>\n",
       "      <td>NaN</td>\n",
       "      <td>NaN</td>\n",
       "      <td>NaN</td>\n",
       "      <td>NaN</td>\n",
       "      <td>190.0</td>\n",
       "      <td>190.0</td>\n",
       "      <td>138.0</td>\n",
       "    </tr>\n",
       "  </tbody>\n",
       "</table>\n",
       "</div>"
      ],
      "text/plain": [
       "      enero  febrero  diciembre  enero  febrero  diciembre  enero  febrero  \\\n",
       "2010  183.0    152.0      146.0    NaN      NaN        NaN    NaN      NaN   \n",
       "2011  121.0    174.0      150.0    NaN      NaN        NaN    NaN      NaN   \n",
       "2012  146.0    108.0      154.0    NaN      NaN        NaN    NaN      NaN   \n",
       "2013    NaN      NaN        NaN  100.0    111.0      170.0    NaN      NaN   \n",
       "2014    NaN      NaN        NaN  156.0    163.0      122.0    NaN      NaN   \n",
       "2015    NaN      NaN        NaN  193.0    101.0      199.0    NaN      NaN   \n",
       "2016    NaN      NaN        NaN    NaN      NaN        NaN  134.0    130.0   \n",
       "2017    NaN      NaN        NaN    NaN      NaN        NaN  147.0    150.0   \n",
       "2018    NaN      NaN        NaN    NaN      NaN        NaN  190.0    190.0   \n",
       "\n",
       "      diciembre  \n",
       "2010        NaN  \n",
       "2011        NaN  \n",
       "2012        NaN  \n",
       "2013        NaN  \n",
       "2014        NaN  \n",
       "2015        NaN  \n",
       "2016      188.0  \n",
       "2017      156.0  \n",
       "2018      138.0  "
      ]
     },
     "execution_count": 10,
     "metadata": {},
     "output_type": "execute_result"
    }
   ],
   "source": [
    "pd.concat([df1,df2,df3],axis=1)"
   ]
  },
  {
   "cell_type": "markdown",
   "metadata": {},
   "source": [
    "## DataFrames de ejemplos"
   ]
  },
  {
   "cell_type": "code",
   "execution_count": 11,
   "metadata": {},
   "outputs": [],
   "source": [
    "ventas = pd.DataFrame({'id_cliente': ['A1','A2','A3'],\n",
    "                       'ventas': [250, 375, 500],\n",
    "                       'costo': [155, 175, 200]})"
   ]
  },
  {
   "cell_type": "code",
   "execution_count": 12,
   "metadata": {},
   "outputs": [],
   "source": [
    "clientes = pd.DataFrame({'id_cliente': ['A1','A2','A3'],\n",
    "                         'edad': [25, 37, 50],\n",
    "                         'sucursal': ['x','y','z']})"
   ]
  },
  {
   "cell_type": "code",
   "execution_count": 13,
   "metadata": {},
   "outputs": [
    {
     "data": {
      "text/html": [
       "<div>\n",
       "<style scoped>\n",
       "    .dataframe tbody tr th:only-of-type {\n",
       "        vertical-align: middle;\n",
       "    }\n",
       "\n",
       "    .dataframe tbody tr th {\n",
       "        vertical-align: top;\n",
       "    }\n",
       "\n",
       "    .dataframe thead th {\n",
       "        text-align: right;\n",
       "    }\n",
       "</style>\n",
       "<table border=\"1\" class=\"dataframe\">\n",
       "  <thead>\n",
       "    <tr style=\"text-align: right;\">\n",
       "      <th></th>\n",
       "      <th>id_cliente</th>\n",
       "      <th>ventas</th>\n",
       "      <th>costo</th>\n",
       "    </tr>\n",
       "  </thead>\n",
       "  <tbody>\n",
       "    <tr>\n",
       "      <th>0</th>\n",
       "      <td>A1</td>\n",
       "      <td>250</td>\n",
       "      <td>155</td>\n",
       "    </tr>\n",
       "    <tr>\n",
       "      <th>1</th>\n",
       "      <td>A2</td>\n",
       "      <td>375</td>\n",
       "      <td>175</td>\n",
       "    </tr>\n",
       "    <tr>\n",
       "      <th>2</th>\n",
       "      <td>A3</td>\n",
       "      <td>500</td>\n",
       "      <td>200</td>\n",
       "    </tr>\n",
       "  </tbody>\n",
       "</table>\n",
       "</div>"
      ],
      "text/plain": [
       "  id_cliente  ventas  costo\n",
       "0         A1     250    155\n",
       "1         A2     375    175\n",
       "2         A3     500    200"
      ]
     },
     "execution_count": 13,
     "metadata": {},
     "output_type": "execute_result"
    }
   ],
   "source": [
    "ventas"
   ]
  },
  {
   "cell_type": "code",
   "execution_count": 14,
   "metadata": {},
   "outputs": [
    {
     "data": {
      "text/html": [
       "<div>\n",
       "<style scoped>\n",
       "    .dataframe tbody tr th:only-of-type {\n",
       "        vertical-align: middle;\n",
       "    }\n",
       "\n",
       "    .dataframe tbody tr th {\n",
       "        vertical-align: top;\n",
       "    }\n",
       "\n",
       "    .dataframe thead th {\n",
       "        text-align: right;\n",
       "    }\n",
       "</style>\n",
       "<table border=\"1\" class=\"dataframe\">\n",
       "  <thead>\n",
       "    <tr style=\"text-align: right;\">\n",
       "      <th></th>\n",
       "      <th>id_cliente</th>\n",
       "      <th>edad</th>\n",
       "      <th>sucursal</th>\n",
       "    </tr>\n",
       "  </thead>\n",
       "  <tbody>\n",
       "    <tr>\n",
       "      <th>0</th>\n",
       "      <td>A1</td>\n",
       "      <td>25</td>\n",
       "      <td>x</td>\n",
       "    </tr>\n",
       "    <tr>\n",
       "      <th>1</th>\n",
       "      <td>A2</td>\n",
       "      <td>37</td>\n",
       "      <td>y</td>\n",
       "    </tr>\n",
       "    <tr>\n",
       "      <th>2</th>\n",
       "      <td>A3</td>\n",
       "      <td>50</td>\n",
       "      <td>z</td>\n",
       "    </tr>\n",
       "  </tbody>\n",
       "</table>\n",
       "</div>"
      ],
      "text/plain": [
       "  id_cliente  edad sucursal\n",
       "0         A1    25        x\n",
       "1         A2    37        y\n",
       "2         A3    50        z"
      ]
     },
     "execution_count": 14,
     "metadata": {},
     "output_type": "execute_result"
    }
   ],
   "source": [
    "clientes"
   ]
  },
  {
   "cell_type": "markdown",
   "metadata": {},
   "source": [
    "## Fusionando\n",
    "\n",
    "La función **Merge** le permite fusionar DataFrames utilizando una lógica similar a la de fusionar (joins) tablas SQL. Por ejemplo:"
   ]
  },
  {
   "attachments": {
    "image.png": {
     "image/png": "[encoded data removed]"
    }
   },
   "cell_type": "markdown",
   "metadata": {},
   "source": [
    "![image.png](attachment:image.png)"
   ]
  },
  {
   "attachments": {
    "image.png": {
     "image/png": "[encoded data removed]"
    }
   },
   "cell_type": "markdown",
   "metadata": {},
   "source": [
    "![image.png](attachment:image.png)"
   ]
  },
  {
   "cell_type": "code",
   "execution_count": 15,
   "metadata": {},
   "outputs": [
    {
     "data": {
      "text/html": [
       "<div>\n",
       "<style scoped>\n",
       "    .dataframe tbody tr th:only-of-type {\n",
       "        vertical-align: middle;\n",
       "    }\n",
       "\n",
       "    .dataframe tbody tr th {\n",
       "        vertical-align: top;\n",
       "    }\n",
       "\n",
       "    .dataframe thead th {\n",
       "        text-align: right;\n",
       "    }\n",
       "</style>\n",
       "<table border=\"1\" class=\"dataframe\">\n",
       "  <thead>\n",
       "    <tr style=\"text-align: right;\">\n",
       "      <th></th>\n",
       "      <th>id_cliente</th>\n",
       "      <th>ventas</th>\n",
       "      <th>costo</th>\n",
       "      <th>edad</th>\n",
       "      <th>sucursal</th>\n",
       "    </tr>\n",
       "  </thead>\n",
       "  <tbody>\n",
       "    <tr>\n",
       "      <th>0</th>\n",
       "      <td>A1</td>\n",
       "      <td>250</td>\n",
       "      <td>155</td>\n",
       "      <td>25</td>\n",
       "      <td>x</td>\n",
       "    </tr>\n",
       "    <tr>\n",
       "      <th>1</th>\n",
       "      <td>A2</td>\n",
       "      <td>375</td>\n",
       "      <td>175</td>\n",
       "      <td>37</td>\n",
       "      <td>y</td>\n",
       "    </tr>\n",
       "    <tr>\n",
       "      <th>2</th>\n",
       "      <td>A3</td>\n",
       "      <td>500</td>\n",
       "      <td>200</td>\n",
       "      <td>50</td>\n",
       "      <td>z</td>\n",
       "    </tr>\n",
       "  </tbody>\n",
       "</table>\n",
       "</div>"
      ],
      "text/plain": [
       "  id_cliente  ventas  costo  edad sucursal\n",
       "0         A1     250    155    25        x\n",
       "1         A2     375    175    37        y\n",
       "2         A3     500    200    50        z"
      ]
     },
     "execution_count": 15,
     "metadata": {},
     "output_type": "execute_result"
    }
   ],
   "source": [
    "pd.merge(ventas,clientes, on = 'id_cliente', how='inner')"
   ]
  },
  {
   "cell_type": "markdown",
   "metadata": {},
   "source": [
    "Un ejemplo un poco más complicado:"
   ]
  },
  {
   "cell_type": "code",
   "execution_count": 16,
   "metadata": {},
   "outputs": [],
   "source": [
    "ventas = pd.DataFrame({'id_vendedor': ['A1','A1','A2','A3'],\n",
    "                       'año': [2015, 2016, 2015, 2016],\n",
    "                       'ventas': [250, 375, 500, 350],\n",
    "                       'costo': [155, 175, 200, 110]})"
   ]
  },
  {
   "cell_type": "code",
   "execution_count": 17,
   "metadata": {},
   "outputs": [],
   "source": [
    "vendedores = pd.DataFrame({'id_vendedor': ['A1','A2','A2','A3'],\n",
    "                           'año': [2015, 2015, 2016, 2015],\n",
    "                           'edad': [25, 37, 50, 21],\n",
    "                           'sucursal': ['x', 'y', 'z', 'w']})"
   ]
  },
  {
   "cell_type": "code",
   "execution_count": 18,
   "metadata": {},
   "outputs": [
    {
     "data": {
      "text/html": [
       "<div>\n",
       "<style scoped>\n",
       "    .dataframe tbody tr th:only-of-type {\n",
       "        vertical-align: middle;\n",
       "    }\n",
       "\n",
       "    .dataframe tbody tr th {\n",
       "        vertical-align: top;\n",
       "    }\n",
       "\n",
       "    .dataframe thead th {\n",
       "        text-align: right;\n",
       "    }\n",
       "</style>\n",
       "<table border=\"1\" class=\"dataframe\">\n",
       "  <thead>\n",
       "    <tr style=\"text-align: right;\">\n",
       "      <th></th>\n",
       "      <th>id_vendedor</th>\n",
       "      <th>año</th>\n",
       "      <th>ventas</th>\n",
       "      <th>costo</th>\n",
       "      <th>edad</th>\n",
       "      <th>sucursal</th>\n",
       "    </tr>\n",
       "  </thead>\n",
       "  <tbody>\n",
       "    <tr>\n",
       "      <th>0</th>\n",
       "      <td>A1</td>\n",
       "      <td>2015</td>\n",
       "      <td>250</td>\n",
       "      <td>155</td>\n",
       "      <td>25</td>\n",
       "      <td>x</td>\n",
       "    </tr>\n",
       "    <tr>\n",
       "      <th>1</th>\n",
       "      <td>A2</td>\n",
       "      <td>2015</td>\n",
       "      <td>500</td>\n",
       "      <td>200</td>\n",
       "      <td>37</td>\n",
       "      <td>y</td>\n",
       "    </tr>\n",
       "  </tbody>\n",
       "</table>\n",
       "</div>"
      ],
      "text/plain": [
       "  id_vendedor   año  ventas  costo  edad sucursal\n",
       "0          A1  2015     250    155    25        x\n",
       "1          A2  2015     500    200    37        y"
      ]
     },
     "execution_count": 18,
     "metadata": {},
     "output_type": "execute_result"
    }
   ],
   "source": [
    "pd.merge(ventas, vendedores, on=['id_vendedor', 'año'])"
   ]
  },
  {
   "cell_type": "code",
   "execution_count": 19,
   "metadata": {},
   "outputs": [
    {
     "data": {
      "text/html": [
       "<div>\n",
       "<style scoped>\n",
       "    .dataframe tbody tr th:only-of-type {\n",
       "        vertical-align: middle;\n",
       "    }\n",
       "\n",
       "    .dataframe tbody tr th {\n",
       "        vertical-align: top;\n",
       "    }\n",
       "\n",
       "    .dataframe thead th {\n",
       "        text-align: right;\n",
       "    }\n",
       "</style>\n",
       "<table border=\"1\" class=\"dataframe\">\n",
       "  <thead>\n",
       "    <tr style=\"text-align: right;\">\n",
       "      <th></th>\n",
       "      <th>id_vendedor</th>\n",
       "      <th>año</th>\n",
       "      <th>ventas</th>\n",
       "      <th>costo</th>\n",
       "      <th>edad</th>\n",
       "      <th>sucursal</th>\n",
       "    </tr>\n",
       "  </thead>\n",
       "  <tbody>\n",
       "    <tr>\n",
       "      <th>0</th>\n",
       "      <td>A1</td>\n",
       "      <td>2015</td>\n",
       "      <td>250.0</td>\n",
       "      <td>155.0</td>\n",
       "      <td>25.0</td>\n",
       "      <td>x</td>\n",
       "    </tr>\n",
       "    <tr>\n",
       "      <th>1</th>\n",
       "      <td>A1</td>\n",
       "      <td>2016</td>\n",
       "      <td>375.0</td>\n",
       "      <td>175.0</td>\n",
       "      <td>NaN</td>\n",
       "      <td>NaN</td>\n",
       "    </tr>\n",
       "    <tr>\n",
       "      <th>2</th>\n",
       "      <td>A2</td>\n",
       "      <td>2015</td>\n",
       "      <td>500.0</td>\n",
       "      <td>200.0</td>\n",
       "      <td>37.0</td>\n",
       "      <td>y</td>\n",
       "    </tr>\n",
       "    <tr>\n",
       "      <th>3</th>\n",
       "      <td>A3</td>\n",
       "      <td>2016</td>\n",
       "      <td>350.0</td>\n",
       "      <td>110.0</td>\n",
       "      <td>NaN</td>\n",
       "      <td>NaN</td>\n",
       "    </tr>\n",
       "    <tr>\n",
       "      <th>4</th>\n",
       "      <td>A2</td>\n",
       "      <td>2016</td>\n",
       "      <td>NaN</td>\n",
       "      <td>NaN</td>\n",
       "      <td>50.0</td>\n",
       "      <td>z</td>\n",
       "    </tr>\n",
       "    <tr>\n",
       "      <th>5</th>\n",
       "      <td>A3</td>\n",
       "      <td>2015</td>\n",
       "      <td>NaN</td>\n",
       "      <td>NaN</td>\n",
       "      <td>21.0</td>\n",
       "      <td>w</td>\n",
       "    </tr>\n",
       "  </tbody>\n",
       "</table>\n",
       "</div>"
      ],
      "text/plain": [
       "  id_vendedor   año  ventas  costo  edad sucursal\n",
       "0          A1  2015   250.0  155.0  25.0        x\n",
       "1          A1  2016   375.0  175.0   NaN      NaN\n",
       "2          A2  2015   500.0  200.0  37.0        y\n",
       "3          A3  2016   350.0  110.0   NaN      NaN\n",
       "4          A2  2016     NaN    NaN  50.0        z\n",
       "5          A3  2015     NaN    NaN  21.0        w"
      ]
     },
     "execution_count": 19,
     "metadata": {},
     "output_type": "execute_result"
    }
   ],
   "source": [
    "pd.merge(ventas, vendedores, on=['id_vendedor', 'año'], how='outer')"
   ]
  },
  {
   "cell_type": "code",
   "execution_count": 20,
   "metadata": {},
   "outputs": [
    {
     "data": {
      "text/html": [
       "<div>\n",
       "<style scoped>\n",
       "    .dataframe tbody tr th:only-of-type {\n",
       "        vertical-align: middle;\n",
       "    }\n",
       "\n",
       "    .dataframe tbody tr th {\n",
       "        vertical-align: top;\n",
       "    }\n",
       "\n",
       "    .dataframe thead th {\n",
       "        text-align: right;\n",
       "    }\n",
       "</style>\n",
       "<table border=\"1\" class=\"dataframe\">\n",
       "  <thead>\n",
       "    <tr style=\"text-align: right;\">\n",
       "      <th></th>\n",
       "      <th>id_vendedor</th>\n",
       "      <th>año</th>\n",
       "      <th>ventas</th>\n",
       "      <th>costo</th>\n",
       "      <th>edad</th>\n",
       "      <th>sucursal</th>\n",
       "    </tr>\n",
       "  </thead>\n",
       "  <tbody>\n",
       "    <tr>\n",
       "      <th>0</th>\n",
       "      <td>A1</td>\n",
       "      <td>2015</td>\n",
       "      <td>250.0</td>\n",
       "      <td>155.0</td>\n",
       "      <td>25</td>\n",
       "      <td>x</td>\n",
       "    </tr>\n",
       "    <tr>\n",
       "      <th>1</th>\n",
       "      <td>A2</td>\n",
       "      <td>2015</td>\n",
       "      <td>500.0</td>\n",
       "      <td>200.0</td>\n",
       "      <td>37</td>\n",
       "      <td>y</td>\n",
       "    </tr>\n",
       "    <tr>\n",
       "      <th>2</th>\n",
       "      <td>A2</td>\n",
       "      <td>2016</td>\n",
       "      <td>NaN</td>\n",
       "      <td>NaN</td>\n",
       "      <td>50</td>\n",
       "      <td>z</td>\n",
       "    </tr>\n",
       "    <tr>\n",
       "      <th>3</th>\n",
       "      <td>A3</td>\n",
       "      <td>2015</td>\n",
       "      <td>NaN</td>\n",
       "      <td>NaN</td>\n",
       "      <td>21</td>\n",
       "      <td>w</td>\n",
       "    </tr>\n",
       "  </tbody>\n",
       "</table>\n",
       "</div>"
      ],
      "text/plain": [
       "  id_vendedor   año  ventas  costo  edad sucursal\n",
       "0          A1  2015   250.0  155.0    25        x\n",
       "1          A2  2015   500.0  200.0    37        y\n",
       "2          A2  2016     NaN    NaN    50        z\n",
       "3          A3  2015     NaN    NaN    21        w"
      ]
     },
     "execution_count": 20,
     "metadata": {},
     "output_type": "execute_result"
    }
   ],
   "source": [
    "pd.merge(ventas, vendedores, on=['id_vendedor', 'año'], how='right')"
   ]
  },
  {
   "cell_type": "code",
   "execution_count": 21,
   "metadata": {},
   "outputs": [
    {
     "data": {
      "text/html": [
       "<div>\n",
       "<style scoped>\n",
       "    .dataframe tbody tr th:only-of-type {\n",
       "        vertical-align: middle;\n",
       "    }\n",
       "\n",
       "    .dataframe tbody tr th {\n",
       "        vertical-align: top;\n",
       "    }\n",
       "\n",
       "    .dataframe thead th {\n",
       "        text-align: right;\n",
       "    }\n",
       "</style>\n",
       "<table border=\"1\" class=\"dataframe\">\n",
       "  <thead>\n",
       "    <tr style=\"text-align: right;\">\n",
       "      <th></th>\n",
       "      <th>id_vendedor</th>\n",
       "      <th>año</th>\n",
       "      <th>ventas</th>\n",
       "      <th>costo</th>\n",
       "      <th>edad</th>\n",
       "      <th>sucursal</th>\n",
       "    </tr>\n",
       "  </thead>\n",
       "  <tbody>\n",
       "    <tr>\n",
       "      <th>0</th>\n",
       "      <td>A1</td>\n",
       "      <td>2015</td>\n",
       "      <td>250</td>\n",
       "      <td>155</td>\n",
       "      <td>25.0</td>\n",
       "      <td>x</td>\n",
       "    </tr>\n",
       "    <tr>\n",
       "      <th>1</th>\n",
       "      <td>A1</td>\n",
       "      <td>2016</td>\n",
       "      <td>375</td>\n",
       "      <td>175</td>\n",
       "      <td>NaN</td>\n",
       "      <td>NaN</td>\n",
       "    </tr>\n",
       "    <tr>\n",
       "      <th>2</th>\n",
       "      <td>A2</td>\n",
       "      <td>2015</td>\n",
       "      <td>500</td>\n",
       "      <td>200</td>\n",
       "      <td>37.0</td>\n",
       "      <td>y</td>\n",
       "    </tr>\n",
       "    <tr>\n",
       "      <th>3</th>\n",
       "      <td>A3</td>\n",
       "      <td>2016</td>\n",
       "      <td>350</td>\n",
       "      <td>110</td>\n",
       "      <td>NaN</td>\n",
       "      <td>NaN</td>\n",
       "    </tr>\n",
       "  </tbody>\n",
       "</table>\n",
       "</div>"
      ],
      "text/plain": [
       "  id_vendedor   año  ventas  costo  edad sucursal\n",
       "0          A1  2015     250    155  25.0        x\n",
       "1          A1  2016     375    175   NaN      NaN\n",
       "2          A2  2015     500    200  37.0        y\n",
       "3          A3  2016     350    110   NaN      NaN"
      ]
     },
     "execution_count": 21,
     "metadata": {},
     "output_type": "execute_result"
    }
   ],
   "source": [
    "pd.merge(ventas, vendedores, on=['id_vendedor', 'año'], how='left')"
   ]
  },
  {
   "cell_type": "markdown",
   "metadata": {},
   "source": [
    "## Uniendo (Joining)\n",
    "Unirse (join) es un método conveniente para combinar las columnas de dos DataFrames indexados potencialmente de manera diferente en un DataFrame de resultado único."
   ]
  },
  {
   "cell_type": "code",
   "execution_count": 22,
   "metadata": {},
   "outputs": [],
   "source": [
    "ventas1 = pd.DataFrame({'enero': [115, 150, 189],\n",
    "                        'febrero': [250, 358, 291]},\n",
    "                       index = ['A1','A2','A3']) #vendedores"
   ]
  },
  {
   "cell_type": "code",
   "execution_count": 23,
   "metadata": {},
   "outputs": [],
   "source": [
    "ventas2 = pd.DataFrame({'marzo': [250, 375, 500],\n",
    "                        'abril': [155, 175, 200]},\n",
    "                       index = ['A1','A2','A4']) #vendedores"
   ]
  },
  {
   "cell_type": "code",
   "execution_count": 24,
   "metadata": {},
   "outputs": [
    {
     "data": {
      "text/html": [
       "<div>\n",
       "<style scoped>\n",
       "    .dataframe tbody tr th:only-of-type {\n",
       "        vertical-align: middle;\n",
       "    }\n",
       "\n",
       "    .dataframe tbody tr th {\n",
       "        vertical-align: top;\n",
       "    }\n",
       "\n",
       "    .dataframe thead th {\n",
       "        text-align: right;\n",
       "    }\n",
       "</style>\n",
       "<table border=\"1\" class=\"dataframe\">\n",
       "  <thead>\n",
       "    <tr style=\"text-align: right;\">\n",
       "      <th></th>\n",
       "      <th>enero</th>\n",
       "      <th>febrero</th>\n",
       "      <th>marzo</th>\n",
       "      <th>abril</th>\n",
       "    </tr>\n",
       "  </thead>\n",
       "  <tbody>\n",
       "    <tr>\n",
       "      <th>A1</th>\n",
       "      <td>115</td>\n",
       "      <td>250</td>\n",
       "      <td>250.0</td>\n",
       "      <td>155.0</td>\n",
       "    </tr>\n",
       "    <tr>\n",
       "      <th>A2</th>\n",
       "      <td>150</td>\n",
       "      <td>358</td>\n",
       "      <td>375.0</td>\n",
       "      <td>175.0</td>\n",
       "    </tr>\n",
       "    <tr>\n",
       "      <th>A3</th>\n",
       "      <td>189</td>\n",
       "      <td>291</td>\n",
       "      <td>NaN</td>\n",
       "      <td>NaN</td>\n",
       "    </tr>\n",
       "  </tbody>\n",
       "</table>\n",
       "</div>"
      ],
      "text/plain": [
       "    enero  febrero  marzo  abril\n",
       "A1    115      250  250.0  155.0\n",
       "A2    150      358  375.0  175.0\n",
       "A3    189      291    NaN    NaN"
      ]
     },
     "execution_count": 24,
     "metadata": {},
     "output_type": "execute_result"
    }
   ],
   "source": [
    "ventas1.join(ventas2)"
   ]
  },
  {
   "cell_type": "code",
   "execution_count": 25,
   "metadata": {},
   "outputs": [
    {
     "data": {
      "text/html": [
       "<div>\n",
       "<style scoped>\n",
       "    .dataframe tbody tr th:only-of-type {\n",
       "        vertical-align: middle;\n",
       "    }\n",
       "\n",
       "    .dataframe tbody tr th {\n",
       "        vertical-align: top;\n",
       "    }\n",
       "\n",
       "    .dataframe thead th {\n",
       "        text-align: right;\n",
       "    }\n",
       "</style>\n",
       "<table border=\"1\" class=\"dataframe\">\n",
       "  <thead>\n",
       "    <tr style=\"text-align: right;\">\n",
       "      <th></th>\n",
       "      <th>enero</th>\n",
       "      <th>febrero</th>\n",
       "      <th>marzo</th>\n",
       "      <th>abril</th>\n",
       "    </tr>\n",
       "  </thead>\n",
       "  <tbody>\n",
       "    <tr>\n",
       "      <th>A1</th>\n",
       "      <td>115.0</td>\n",
       "      <td>250.0</td>\n",
       "      <td>250.0</td>\n",
       "      <td>155.0</td>\n",
       "    </tr>\n",
       "    <tr>\n",
       "      <th>A2</th>\n",
       "      <td>150.0</td>\n",
       "      <td>358.0</td>\n",
       "      <td>375.0</td>\n",
       "      <td>175.0</td>\n",
       "    </tr>\n",
       "    <tr>\n",
       "      <th>A3</th>\n",
       "      <td>189.0</td>\n",
       "      <td>291.0</td>\n",
       "      <td>NaN</td>\n",
       "      <td>NaN</td>\n",
       "    </tr>\n",
       "    <tr>\n",
       "      <th>A4</th>\n",
       "      <td>NaN</td>\n",
       "      <td>NaN</td>\n",
       "      <td>500.0</td>\n",
       "      <td>200.0</td>\n",
       "    </tr>\n",
       "  </tbody>\n",
       "</table>\n",
       "</div>"
      ],
      "text/plain": [
       "    enero  febrero  marzo  abril\n",
       "A1  115.0    250.0  250.0  155.0\n",
       "A2  150.0    358.0  375.0  175.0\n",
       "A3  189.0    291.0    NaN    NaN\n",
       "A4    NaN      NaN  500.0  200.0"
      ]
     },
     "execution_count": 25,
     "metadata": {},
     "output_type": "execute_result"
    }
   ],
   "source": [
    "ventas1.join(ventas2, how='outer')"
   ]
  },
  {
   "cell_type": "markdown",
   "metadata": {},
   "source": [
    "# Accesor de partes de una fecha en series"
   ]
  },
  {
   "cell_type": "code",
   "execution_count": 26,
   "metadata": {},
   "outputs": [],
   "source": [
    "data_fechas = {'fecha_recibido':['2021-08-11 23:11:40',\n",
    "                                 '2021-08-12 19:12:35',\n",
    "                                 '2021-08-01 14:51:45',\n",
    "                                 '2021-06-01 17:14:23',\n",
    "                                 '2021-10-11 18:32:25',\n",
    "                                 '2021-08-17 21:22:28'],\n",
    "               'fecha_despacho':['2022-08-13 23:12:53',\n",
    "                                 '2023-08-14 20:12:47',\n",
    "                                 '2021-08-04 19:09:15',\n",
    "                                 '2025-06-05 18:22:09',\n",
    "                                 '2024-10-12 19:08:14',\n",
    "                                 '2023-08-19 22:12:27']}\n",
    "\n",
    "df_fechas = pd.DataFrame(data_fechas)"
   ]
  },
  {
   "cell_type": "code",
   "execution_count": 27,
   "metadata": {},
   "outputs": [
    {
     "data": {
      "text/html": [
       "<div>\n",
       "<style scoped>\n",
       "    .dataframe tbody tr th:only-of-type {\n",
       "        vertical-align: middle;\n",
       "    }\n",
       "\n",
       "    .dataframe tbody tr th {\n",
       "        vertical-align: top;\n",
       "    }\n",
       "\n",
       "    .dataframe thead th {\n",
       "        text-align: right;\n",
       "    }\n",
       "</style>\n",
       "<table border=\"1\" class=\"dataframe\">\n",
       "  <thead>\n",
       "    <tr style=\"text-align: right;\">\n",
       "      <th></th>\n",
       "      <th>fecha_recibido</th>\n",
       "      <th>fecha_despacho</th>\n",
       "    </tr>\n",
       "  </thead>\n",
       "  <tbody>\n",
       "    <tr>\n",
       "      <th>0</th>\n",
       "      <td>2021-08-11 23:11:40</td>\n",
       "      <td>2022-08-13 23:12:53</td>\n",
       "    </tr>\n",
       "    <tr>\n",
       "      <th>1</th>\n",
       "      <td>2021-08-12 19:12:35</td>\n",
       "      <td>2023-08-14 20:12:47</td>\n",
       "    </tr>\n",
       "    <tr>\n",
       "      <th>2</th>\n",
       "      <td>2021-08-01 14:51:45</td>\n",
       "      <td>2021-08-04 19:09:15</td>\n",
       "    </tr>\n",
       "    <tr>\n",
       "      <th>3</th>\n",
       "      <td>2021-06-01 17:14:23</td>\n",
       "      <td>2025-06-05 18:22:09</td>\n",
       "    </tr>\n",
       "    <tr>\n",
       "      <th>4</th>\n",
       "      <td>2021-10-11 18:32:25</td>\n",
       "      <td>2024-10-12 19:08:14</td>\n",
       "    </tr>\n",
       "    <tr>\n",
       "      <th>5</th>\n",
       "      <td>2021-08-17 21:22:28</td>\n",
       "      <td>2023-08-19 22:12:27</td>\n",
       "    </tr>\n",
       "  </tbody>\n",
       "</table>\n",
       "</div>"
      ],
      "text/plain": [
       "        fecha_recibido       fecha_despacho\n",
       "0  2021-08-11 23:11:40  2022-08-13 23:12:53\n",
       "1  2021-08-12 19:12:35  2023-08-14 20:12:47\n",
       "2  2021-08-01 14:51:45  2021-08-04 19:09:15\n",
       "3  2021-06-01 17:14:23  2025-06-05 18:22:09\n",
       "4  2021-10-11 18:32:25  2024-10-12 19:08:14\n",
       "5  2021-08-17 21:22:28  2023-08-19 22:12:27"
      ]
     },
     "execution_count": 27,
     "metadata": {},
     "output_type": "execute_result"
    }
   ],
   "source": [
    "df_fechas"
   ]
  },
  {
   "cell_type": "code",
   "execution_count": 28,
   "metadata": {},
   "outputs": [
    {
     "name": "stdout",
     "output_type": "stream",
     "text": [
      "<class 'pandas.core.frame.DataFrame'>\n",
      "RangeIndex: 6 entries, 0 to 5\n",
      "Data columns (total 2 columns):\n",
      " #   Column          Non-Null Count  Dtype \n",
      "---  ------          --------------  ----- \n",
      " 0   fecha_recibido  6 non-null      object\n",
      " 1   fecha_despacho  6 non-null      object\n",
      "dtypes: object(2)\n",
      "memory usage: 224.0+ bytes\n"
     ]
    }
   ],
   "source": [
    "df_fechas.info()"
   ]
  },
  {
   "cell_type": "code",
   "execution_count": 29,
   "metadata": {},
   "outputs": [],
   "source": [
    "df_fechas['fecha_recibido_'] = pd.to_datetime(df_fechas['fecha_recibido'])\n",
    "df_fechas['fecha_despacho_'] = pd.to_datetime(df_fechas['fecha_despacho'])"
   ]
  },
  {
   "cell_type": "code",
   "execution_count": 30,
   "metadata": {},
   "outputs": [
    {
     "data": {
      "text/html": [
       "<div>\n",
       "<style scoped>\n",
       "    .dataframe tbody tr th:only-of-type {\n",
       "        vertical-align: middle;\n",
       "    }\n",
       "\n",
       "    .dataframe tbody tr th {\n",
       "        vertical-align: top;\n",
       "    }\n",
       "\n",
       "    .dataframe thead th {\n",
       "        text-align: right;\n",
       "    }\n",
       "</style>\n",
       "<table border=\"1\" class=\"dataframe\">\n",
       "  <thead>\n",
       "    <tr style=\"text-align: right;\">\n",
       "      <th></th>\n",
       "      <th>fecha_recibido</th>\n",
       "      <th>fecha_despacho</th>\n",
       "      <th>fecha_recibido_</th>\n",
       "      <th>fecha_despacho_</th>\n",
       "    </tr>\n",
       "  </thead>\n",
       "  <tbody>\n",
       "    <tr>\n",
       "      <th>0</th>\n",
       "      <td>2021-08-11 23:11:40</td>\n",
       "      <td>2022-08-13 23:12:53</td>\n",
       "      <td>2021-08-11 23:11:40</td>\n",
       "      <td>2022-08-13 23:12:53</td>\n",
       "    </tr>\n",
       "    <tr>\n",
       "      <th>1</th>\n",
       "      <td>2021-08-12 19:12:35</td>\n",
       "      <td>2023-08-14 20:12:47</td>\n",
       "      <td>2021-08-12 19:12:35</td>\n",
       "      <td>2023-08-14 20:12:47</td>\n",
       "    </tr>\n",
       "    <tr>\n",
       "      <th>2</th>\n",
       "      <td>2021-08-01 14:51:45</td>\n",
       "      <td>2021-08-04 19:09:15</td>\n",
       "      <td>2021-08-01 14:51:45</td>\n",
       "      <td>2021-08-04 19:09:15</td>\n",
       "    </tr>\n",
       "    <tr>\n",
       "      <th>3</th>\n",
       "      <td>2021-06-01 17:14:23</td>\n",
       "      <td>2025-06-05 18:22:09</td>\n",
       "      <td>2021-06-01 17:14:23</td>\n",
       "      <td>2025-06-05 18:22:09</td>\n",
       "    </tr>\n",
       "    <tr>\n",
       "      <th>4</th>\n",
       "      <td>2021-10-11 18:32:25</td>\n",
       "      <td>2024-10-12 19:08:14</td>\n",
       "      <td>2021-10-11 18:32:25</td>\n",
       "      <td>2024-10-12 19:08:14</td>\n",
       "    </tr>\n",
       "    <tr>\n",
       "      <th>5</th>\n",
       "      <td>2021-08-17 21:22:28</td>\n",
       "      <td>2023-08-19 22:12:27</td>\n",
       "      <td>2021-08-17 21:22:28</td>\n",
       "      <td>2023-08-19 22:12:27</td>\n",
       "    </tr>\n",
       "  </tbody>\n",
       "</table>\n",
       "</div>"
      ],
      "text/plain": [
       "        fecha_recibido       fecha_despacho     fecha_recibido_  \\\n",
       "0  2021-08-11 23:11:40  2022-08-13 23:12:53 2021-08-11 23:11:40   \n",
       "1  2021-08-12 19:12:35  2023-08-14 20:12:47 2021-08-12 19:12:35   \n",
       "2  2021-08-01 14:51:45  2021-08-04 19:09:15 2021-08-01 14:51:45   \n",
       "3  2021-06-01 17:14:23  2025-06-05 18:22:09 2021-06-01 17:14:23   \n",
       "4  2021-10-11 18:32:25  2024-10-12 19:08:14 2021-10-11 18:32:25   \n",
       "5  2021-08-17 21:22:28  2023-08-19 22:12:27 2021-08-17 21:22:28   \n",
       "\n",
       "      fecha_despacho_  \n",
       "0 2022-08-13 23:12:53  \n",
       "1 2023-08-14 20:12:47  \n",
       "2 2021-08-04 19:09:15  \n",
       "3 2025-06-05 18:22:09  \n",
       "4 2024-10-12 19:08:14  \n",
       "5 2023-08-19 22:12:27  "
      ]
     },
     "execution_count": 30,
     "metadata": {},
     "output_type": "execute_result"
    }
   ],
   "source": [
    "df_fechas"
   ]
  },
  {
   "cell_type": "code",
   "execution_count": 31,
   "metadata": {},
   "outputs": [
    {
     "name": "stdout",
     "output_type": "stream",
     "text": [
      "<class 'pandas.core.frame.DataFrame'>\n",
      "RangeIndex: 6 entries, 0 to 5\n",
      "Data columns (total 4 columns):\n",
      " #   Column           Non-Null Count  Dtype         \n",
      "---  ------           --------------  -----         \n",
      " 0   fecha_recibido   6 non-null      object        \n",
      " 1   fecha_despacho   6 non-null      object        \n",
      " 2   fecha_recibido_  6 non-null      datetime64[ns]\n",
      " 3   fecha_despacho_  6 non-null      datetime64[ns]\n",
      "dtypes: datetime64[ns](2), object(2)\n",
      "memory usage: 320.0+ bytes\n"
     ]
    }
   ],
   "source": [
    "df_fechas.info()"
   ]
  },
  {
   "cell_type": "code",
   "execution_count": 32,
   "metadata": {},
   "outputs": [
    {
     "data": {
      "text/plain": [
       "<pandas.core.indexes.accessors.DatetimeProperties object at 0x0000018D99E3DAF0>"
      ]
     },
     "execution_count": 32,
     "metadata": {},
     "output_type": "execute_result"
    }
   ],
   "source": [
    "df_fechas['fecha_recibido_'].dt"
   ]
  },
  {
   "cell_type": "code",
   "execution_count": 33,
   "metadata": {},
   "outputs": [
    {
     "data": {
      "text/plain": [
       "<pandas.core.indexes.accessors.DatetimeProperties object at 0x0000018D99E3DEB0>"
      ]
     },
     "execution_count": 33,
     "metadata": {},
     "output_type": "execute_result"
    }
   ],
   "source": [
    "df_fechas['fecha_despacho_'].dt"
   ]
  },
  {
   "cell_type": "code",
   "execution_count": 34,
   "metadata": {
    "scrolled": true
   },
   "outputs": [
    {
     "name": "stdout",
     "output_type": "stream",
     "text": [
      "No es un tipo de dato fecha\n"
     ]
    }
   ],
   "source": [
    "try:\n",
    "    df_fechas['fecha_despacho'].dt\n",
    "except:\n",
    "    print('No es un tipo de dato fecha')"
   ]
  },
  {
   "cell_type": "code",
   "execution_count": 35,
   "metadata": {},
   "outputs": [
    {
     "data": {
      "text/plain": [
       "0    2021\n",
       "1    2021\n",
       "2    2021\n",
       "3    2021\n",
       "4    2021\n",
       "5    2021\n",
       "Name: fecha_recibido_, dtype: int64"
      ]
     },
     "execution_count": 35,
     "metadata": {},
     "output_type": "execute_result"
    }
   ],
   "source": [
    "df_fechas['fecha_recibido_'].dt.year"
   ]
  },
  {
   "cell_type": "code",
   "execution_count": 36,
   "metadata": {},
   "outputs": [
    {
     "data": {
      "text/plain": [
       "0     8\n",
       "1     8\n",
       "2     8\n",
       "3     6\n",
       "4    10\n",
       "5     8\n",
       "Name: fecha_recibido_, dtype: int64"
      ]
     },
     "execution_count": 36,
     "metadata": {},
     "output_type": "execute_result"
    }
   ],
   "source": [
    "df_fechas['fecha_recibido_'].dt.month"
   ]
  },
  {
   "cell_type": "code",
   "execution_count": 37,
   "metadata": {},
   "outputs": [
    {
     "data": {
      "text/plain": [
       "0    11\n",
       "1    12\n",
       "2     1\n",
       "3     1\n",
       "4    11\n",
       "5    17\n",
       "Name: fecha_recibido_, dtype: int64"
      ]
     },
     "execution_count": 37,
     "metadata": {},
     "output_type": "execute_result"
    }
   ],
   "source": [
    "df_fechas['fecha_recibido_'].dt.day"
   ]
  },
  {
   "cell_type": "code",
   "execution_count": 38,
   "metadata": {},
   "outputs": [
    {
     "data": {
      "text/plain": [
       "0    23\n",
       "1    19\n",
       "2    14\n",
       "3    17\n",
       "4    18\n",
       "5    21\n",
       "Name: fecha_recibido_, dtype: int64"
      ]
     },
     "execution_count": 38,
     "metadata": {},
     "output_type": "execute_result"
    }
   ],
   "source": [
    "df_fechas['fecha_recibido_'].dt.hour"
   ]
  },
  {
   "cell_type": "code",
   "execution_count": 39,
   "metadata": {},
   "outputs": [
    {
     "data": {
      "text/plain": [
       "0    11\n",
       "1    12\n",
       "2    51\n",
       "3    14\n",
       "4    32\n",
       "5    22\n",
       "Name: fecha_recibido_, dtype: int64"
      ]
     },
     "execution_count": 39,
     "metadata": {},
     "output_type": "execute_result"
    }
   ],
   "source": [
    "df_fechas['fecha_recibido_'].dt.minute"
   ]
  },
  {
   "cell_type": "code",
   "execution_count": 40,
   "metadata": {},
   "outputs": [
    {
     "data": {
      "text/plain": [
       "0    40\n",
       "1    35\n",
       "2    45\n",
       "3    23\n",
       "4    25\n",
       "5    28\n",
       "Name: fecha_recibido_, dtype: int64"
      ]
     },
     "execution_count": 40,
     "metadata": {},
     "output_type": "execute_result"
    }
   ],
   "source": [
    "df_fechas['fecha_recibido_'].dt.second"
   ]
  },
  {
   "cell_type": "markdown",
   "metadata": {},
   "source": [
    "# Operaciones con fechas"
   ]
  },
  {
   "cell_type": "code",
   "execution_count": 41,
   "metadata": {},
   "outputs": [],
   "source": [
    "df_fechas['diferencia'] = df_fechas['fecha_despacho_'] - df_fechas['fecha_recibido_']"
   ]
  },
  {
   "cell_type": "code",
   "execution_count": 42,
   "metadata": {},
   "outputs": [
    {
     "data": {
      "text/plain": [
       "pandas._libs.tslibs.timestamps.Timestamp"
      ]
     },
     "execution_count": 42,
     "metadata": {},
     "output_type": "execute_result"
    }
   ],
   "source": [
    "#objeto > Timestamp\n",
    "type(df_fechas['fecha_despacho_'][0])"
   ]
  },
  {
   "cell_type": "code",
   "execution_count": 43,
   "metadata": {},
   "outputs": [
    {
     "data": {
      "text/plain": [
       "pandas._libs.tslibs.timedeltas.Timedelta"
      ]
     },
     "execution_count": 43,
     "metadata": {},
     "output_type": "execute_result"
    }
   ],
   "source": [
    "#objeto > Timedelta\n",
    "type(df_fechas['diferencia'][0])"
   ]
  },
  {
   "cell_type": "code",
   "execution_count": 44,
   "metadata": {},
   "outputs": [
    {
     "data": {
      "text/plain": [
       "0    367 days 00:01:13\n",
       "1    732 days 01:00:12\n",
       "2      3 days 04:17:30\n",
       "3   1465 days 01:07:46\n",
       "4   1097 days 00:35:49\n",
       "5    732 days 00:49:59\n",
       "Name: diferencia, dtype: timedelta64[ns]"
      ]
     },
     "execution_count": 44,
     "metadata": {},
     "output_type": "execute_result"
    }
   ],
   "source": [
    "df_fechas['diferencia']"
   ]
  },
  {
   "cell_type": "code",
   "execution_count": 45,
   "metadata": {},
   "outputs": [
    {
     "data": {
      "text/plain": [
       "Timedelta('367 days 00:01:13')"
      ]
     },
     "execution_count": 45,
     "metadata": {},
     "output_type": "execute_result"
    }
   ],
   "source": [
    "#siempre da la información en días\n",
    "df_fechas['diferencia'][0]"
   ]
  },
  {
   "cell_type": "code",
   "execution_count": 46,
   "metadata": {},
   "outputs": [
    {
     "data": {
      "text/plain": [
       "0     367\n",
       "1     732\n",
       "2       3\n",
       "3    1465\n",
       "4    1097\n",
       "5     732\n",
       "Name: diferencia, dtype: int64"
      ]
     },
     "execution_count": 46,
     "metadata": {},
     "output_type": "execute_result"
    }
   ],
   "source": [
    "#dias\n",
    "df_fechas['diferencia'].apply(lambda x: x.days)"
   ]
  },
  {
   "cell_type": "code",
   "execution_count": 47,
   "metadata": {},
   "outputs": [
    {
     "data": {
      "text/plain": [
       "0    1.005479\n",
       "1    2.005479\n",
       "2    0.008219\n",
       "3    4.013699\n",
       "4    3.005479\n",
       "5    2.005479\n",
       "Name: diferencia, dtype: float64"
      ]
     },
     "execution_count": 47,
     "metadata": {},
     "output_type": "execute_result"
    }
   ],
   "source": [
    "#años\n",
    "df_fechas['diferencia'].apply(lambda x: x.days)/365"
   ]
  },
  {
   "cell_type": "code",
   "execution_count": 48,
   "metadata": {},
   "outputs": [
    {
     "data": {
      "text/plain": [
       "0    12.233333\n",
       "1    24.400000\n",
       "2     0.100000\n",
       "3    48.833333\n",
       "4    36.566667\n",
       "5    24.400000\n",
       "Name: diferencia, dtype: float64"
      ]
     },
     "execution_count": 48,
     "metadata": {},
     "output_type": "execute_result"
    }
   ],
   "source": [
    "#meses\n",
    "df_fechas['diferencia'].apply(lambda x: x.days)/30"
   ]
  },
  {
   "cell_type": "code",
   "execution_count": 49,
   "metadata": {},
   "outputs": [
    {
     "data": {
      "text/plain": [
       "0     31708873.0\n",
       "1     63248412.0\n",
       "2       274650.0\n",
       "3    126580066.0\n",
       "4     94782949.0\n",
       "5     63247799.0\n",
       "Name: diferencia, dtype: float64"
      ]
     },
     "execution_count": 49,
     "metadata": {},
     "output_type": "execute_result"
    }
   ],
   "source": [
    "#segundos\n",
    "round(df_fechas['diferencia'].apply(lambda x: x.total_seconds()),2)"
   ]
  },
  {
   "cell_type": "code",
   "execution_count": 50,
   "metadata": {},
   "outputs": [
    {
     "data": {
      "text/plain": [
       "0     528481.22\n",
       "1    1054140.20\n",
       "2       4577.50\n",
       "3    2109667.77\n",
       "4    1579715.82\n",
       "5    1054129.98\n",
       "Name: diferencia, dtype: float64"
      ]
     },
     "execution_count": 50,
     "metadata": {},
     "output_type": "execute_result"
    }
   ],
   "source": [
    "#minutos\n",
    "round(df_fechas['diferencia'].apply(lambda x: x.total_seconds())/60,2)"
   ]
  },
  {
   "cell_type": "code",
   "execution_count": 51,
   "metadata": {},
   "outputs": [
    {
     "data": {
      "text/plain": [
       "0     8808.020278\n",
       "1    17569.003333\n",
       "2       76.291667\n",
       "3    35161.129444\n",
       "4    26328.596944\n",
       "5    17568.833056\n",
       "Name: diferencia, dtype: float64"
      ]
     },
     "execution_count": 51,
     "metadata": {},
     "output_type": "execute_result"
    }
   ],
   "source": [
    "#horas\n",
    "df_fechas['diferencia'].apply(lambda x: x.total_seconds())/60/60"
   ]
  },
  {
   "cell_type": "code",
   "execution_count": 52,
   "metadata": {},
   "outputs": [],
   "source": [
    "df_fechas.sort_values(by='fecha_recibido_', ascending=True, inplace=True)"
   ]
  },
  {
   "cell_type": "code",
   "execution_count": 53,
   "metadata": {},
   "outputs": [
    {
     "data": {
      "text/html": [
       "<div>\n",
       "<style scoped>\n",
       "    .dataframe tbody tr th:only-of-type {\n",
       "        vertical-align: middle;\n",
       "    }\n",
       "\n",
       "    .dataframe tbody tr th {\n",
       "        vertical-align: top;\n",
       "    }\n",
       "\n",
       "    .dataframe thead th {\n",
       "        text-align: right;\n",
       "    }\n",
       "</style>\n",
       "<table border=\"1\" class=\"dataframe\">\n",
       "  <thead>\n",
       "    <tr style=\"text-align: right;\">\n",
       "      <th></th>\n",
       "      <th>fecha_recibido</th>\n",
       "      <th>fecha_despacho</th>\n",
       "      <th>fecha_recibido_</th>\n",
       "      <th>fecha_despacho_</th>\n",
       "      <th>diferencia</th>\n",
       "    </tr>\n",
       "  </thead>\n",
       "  <tbody>\n",
       "    <tr>\n",
       "      <th>3</th>\n",
       "      <td>2021-06-01 17:14:23</td>\n",
       "      <td>2025-06-05 18:22:09</td>\n",
       "      <td>2021-06-01 17:14:23</td>\n",
       "      <td>2025-06-05 18:22:09</td>\n",
       "      <td>1465 days 01:07:46</td>\n",
       "    </tr>\n",
       "    <tr>\n",
       "      <th>2</th>\n",
       "      <td>2021-08-01 14:51:45</td>\n",
       "      <td>2021-08-04 19:09:15</td>\n",
       "      <td>2021-08-01 14:51:45</td>\n",
       "      <td>2021-08-04 19:09:15</td>\n",
       "      <td>3 days 04:17:30</td>\n",
       "    </tr>\n",
       "    <tr>\n",
       "      <th>0</th>\n",
       "      <td>2021-08-11 23:11:40</td>\n",
       "      <td>2022-08-13 23:12:53</td>\n",
       "      <td>2021-08-11 23:11:40</td>\n",
       "      <td>2022-08-13 23:12:53</td>\n",
       "      <td>367 days 00:01:13</td>\n",
       "    </tr>\n",
       "    <tr>\n",
       "      <th>1</th>\n",
       "      <td>2021-08-12 19:12:35</td>\n",
       "      <td>2023-08-14 20:12:47</td>\n",
       "      <td>2021-08-12 19:12:35</td>\n",
       "      <td>2023-08-14 20:12:47</td>\n",
       "      <td>732 days 01:00:12</td>\n",
       "    </tr>\n",
       "    <tr>\n",
       "      <th>5</th>\n",
       "      <td>2021-08-17 21:22:28</td>\n",
       "      <td>2023-08-19 22:12:27</td>\n",
       "      <td>2021-08-17 21:22:28</td>\n",
       "      <td>2023-08-19 22:12:27</td>\n",
       "      <td>732 days 00:49:59</td>\n",
       "    </tr>\n",
       "    <tr>\n",
       "      <th>4</th>\n",
       "      <td>2021-10-11 18:32:25</td>\n",
       "      <td>2024-10-12 19:08:14</td>\n",
       "      <td>2021-10-11 18:32:25</td>\n",
       "      <td>2024-10-12 19:08:14</td>\n",
       "      <td>1097 days 00:35:49</td>\n",
       "    </tr>\n",
       "  </tbody>\n",
       "</table>\n",
       "</div>"
      ],
      "text/plain": [
       "        fecha_recibido       fecha_despacho     fecha_recibido_  \\\n",
       "3  2021-06-01 17:14:23  2025-06-05 18:22:09 2021-06-01 17:14:23   \n",
       "2  2021-08-01 14:51:45  2021-08-04 19:09:15 2021-08-01 14:51:45   \n",
       "0  2021-08-11 23:11:40  2022-08-13 23:12:53 2021-08-11 23:11:40   \n",
       "1  2021-08-12 19:12:35  2023-08-14 20:12:47 2021-08-12 19:12:35   \n",
       "5  2021-08-17 21:22:28  2023-08-19 22:12:27 2021-08-17 21:22:28   \n",
       "4  2021-10-11 18:32:25  2024-10-12 19:08:14 2021-10-11 18:32:25   \n",
       "\n",
       "      fecha_despacho_         diferencia  \n",
       "3 2025-06-05 18:22:09 1465 days 01:07:46  \n",
       "2 2021-08-04 19:09:15    3 days 04:17:30  \n",
       "0 2022-08-13 23:12:53  367 days 00:01:13  \n",
       "1 2023-08-14 20:12:47  732 days 01:00:12  \n",
       "5 2023-08-19 22:12:27  732 days 00:49:59  \n",
       "4 2024-10-12 19:08:14 1097 days 00:35:49  "
      ]
     },
     "execution_count": 53,
     "metadata": {},
     "output_type": "execute_result"
    }
   ],
   "source": [
    "#fijese que el indice original se mantiene para cada fila\n",
    "df_fechas"
   ]
  },
  {
   "cell_type": "markdown",
   "metadata": {},
   "source": [
    "# Ejercicio\n",
    "\n",
    "Del siguiente modelo de datos: "
   ]
  },
  {
   "attachments": {
    "image-3.png": {
     "image/png": "[encoded data removed]"
    }
   },
   "cell_type": "markdown",
   "metadata": {},
   "source": [
    "![image-3.png](attachment:image-3.png)"
   ]
  },
  {
   "cell_type": "markdown",
   "metadata": {},
   "source": [
    "**Haga los siguientes ejercicios:**\n",
    "\n",
    "Los datos estan en el archivo peliculas.xlsx\n",
    " \n",
    "- Cree 1 dataframe llamado films conectandose al archivo peliculas.xlsx, especificamente a la hoja films (sheet_name='films') \n",
    "\n",
    "- Cree 1 dataframe llamado people conectandose al archivo peliculas.xlsx, especificamente a la hoja people (sheet_name='people')\n",
    "\n",
    "- Cree 1 dataframe llamado reviews conectandose al archivo peliculas.xlsx, especificamente a la hoja reviews (sheet_name='reviews')\n",
    "\n",
    "- Cree 1 dataframe llamado roles conectandose al archivo peliculas.xlsx, especificamente a la hoja roles (sheet_name='roles')\n",
    "\n",
    "- Cree una tabla llamada tabla_1 que contenga las columnas: film_id, title, release_year, num_critic\n",
    " \n",
    "- De la tabla creada cree una que permita analizar el num_critic promedio por title\n",
    " \n",
    "- Cree una tabla llamada tabla_2 que contenga las columnas: film_id, person_id, role, name, facebook_likes, num_critic\n",
    " \n",
    "- De la tabla_2, cree una tabla que solo tenga los datos de Clint Eastwood, es decir que filtrara esta tabla por la columna name con el nombre dado, y llamará esa tabla: tabla_clint\n",
    "\n",
    "- De la tabla_clint cree un pivote que permita analizar el name como indice, el role como columna, num_critic promedio y facebook_likes promedio como values.\n",
    "\n",
    "***Para hacer este ejercicio usaras la funcion merge, recuerda especificar el tipo de merge (how)***"
   ]
  },
  {
   "cell_type": "code",
   "execution_count": 54,
   "metadata": {},
   "outputs": [],
   "source": [
    "films = pd.read_excel('peliculas.xlsx', sheet_name='films')\n",
    "people = pd.read_excel('peliculas.xlsx', sheet_name='people')\n",
    "reviews = pd.read_excel('peliculas.xlsx', sheet_name='reviews')\n",
    "roles = pd.read_excel('peliculas.xlsx', sheet_name='roles')"
   ]
  },
  {
   "cell_type": "code",
   "execution_count": 55,
   "metadata": {},
   "outputs": [],
   "source": [
    "tabla_1 = films[['film_id','title','release_year']].merge(reviews[['film_id','num_critic']], on = 'film_id', how = 'left')"
   ]
  },
  {
   "cell_type": "code",
   "execution_count": 56,
   "metadata": {},
   "outputs": [
    {
     "data": {
      "text/plain": [
       "title\n",
       "Bending Steel                       9.3\n",
       "The Butterfly Effect                9.2\n",
       "Freeheld                            9.0\n",
       "Cliffhanger                         9.0\n",
       "A Woman, a Gun and a Noodle Shop    8.9\n",
       "                                   ... \n",
       "[Rec] 2                             NaN\n",
       "eXistenZ                            NaN\n",
       "xXx                                 NaN\n",
       "xXx: State of the Union             NaN\n",
       "Ã†on Flux                           NaN\n",
       "Name: num_critic, Length: 4844, dtype: float64"
      ]
     },
     "execution_count": 56,
     "metadata": {},
     "output_type": "execute_result"
    }
   ],
   "source": [
    "tabla_1.groupby('title').mean()['num_critic'].sort_values(ascending=False)"
   ]
  },
  {
   "cell_type": "code",
   "execution_count": 57,
   "metadata": {},
   "outputs": [],
   "source": [
    "tabla_2 = people[['person_id',\n",
    "                  'name']].merge(roles[['film_id',\n",
    "                                        'person_id',\n",
    "                                        'role']], \n",
    "                                 on = 'person_id', \n",
    "                                 how = 'left').merge(reviews[['film_id',\n",
    "                                                                 'facebook_likes',\n",
    "                                                                 'num_critic']], \n",
    "                                                     on ='film_id', \n",
    "                                                     how = 'left')"
   ]
  },
  {
   "cell_type": "code",
   "execution_count": 58,
   "metadata": {},
   "outputs": [],
   "source": [
    "tabla_clint = tabla_2[tabla_2['name'] == 'Clint Eastwood']"
   ]
  },
  {
   "cell_type": "code",
   "execution_count": 59,
   "metadata": {},
   "outputs": [
    {
     "data": {
      "text/html": [
       "<div>\n",
       "<style scoped>\n",
       "    .dataframe tbody tr th:only-of-type {\n",
       "        vertical-align: middle;\n",
       "    }\n",
       "\n",
       "    .dataframe tbody tr th {\n",
       "        vertical-align: top;\n",
       "    }\n",
       "\n",
       "    .dataframe thead tr th {\n",
       "        text-align: left;\n",
       "    }\n",
       "\n",
       "    .dataframe thead tr:last-of-type th {\n",
       "        text-align: right;\n",
       "    }\n",
       "</style>\n",
       "<table border=\"1\" class=\"dataframe\">\n",
       "  <thead>\n",
       "    <tr>\n",
       "      <th></th>\n",
       "      <th colspan=\"2\" halign=\"left\">facebook_likes</th>\n",
       "      <th colspan=\"2\" halign=\"left\">num_critic</th>\n",
       "    </tr>\n",
       "    <tr>\n",
       "      <th>role</th>\n",
       "      <th>actor</th>\n",
       "      <th>director</th>\n",
       "      <th>actor</th>\n",
       "      <th>director</th>\n",
       "    </tr>\n",
       "    <tr>\n",
       "      <th>name</th>\n",
       "      <th></th>\n",
       "      <th></th>\n",
       "      <th></th>\n",
       "      <th></th>\n",
       "    </tr>\n",
       "  </thead>\n",
       "  <tbody>\n",
       "    <tr>\n",
       "      <th>Clint Eastwood</th>\n",
       "      <td>6145.75</td>\n",
       "      <td>7305.875</td>\n",
       "      <td>6.385227</td>\n",
       "      <td>6.496875</td>\n",
       "    </tr>\n",
       "  </tbody>\n",
       "</table>\n",
       "</div>"
      ],
      "text/plain": [
       "               facebook_likes           num_critic          \n",
       "role                    actor  director      actor  director\n",
       "name                                                        \n",
       "Clint Eastwood        6145.75  7305.875   6.385227  6.496875"
      ]
     },
     "execution_count": 59,
     "metadata": {},
     "output_type": "execute_result"
    }
   ],
   "source": [
    "tabla_clint.pivot_table(index = 'name', columns = 'role', values = ['facebook_likes', 'num_critic'], aggfunc = 'mean')"
   ]
  },
  {
   "cell_type": "markdown",
   "metadata": {},
   "source": [
    "# Fin"
   ]
  }
 ],
 "metadata": {
  "kernelspec": {
   "display_name": "Python 3 (ipykernel)",
   "language": "python",
   "name": "python3"
  },
  "language_info": {
   "codemirror_mode": {
    "name": "ipython",
    "version": 3
   },
   "file_extension": ".py",
   "mimetype": "text/x-python",
   "name": "python",
   "nbconvert_exporter": "python",
   "pygments_lexer": "ipython3",
   "version": "3.9.13"
  }
 },
 "nbformat": 4,
 "nbformat_minor": 4
}
